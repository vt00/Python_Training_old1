{
 "cells": [
  {
   "cell_type": "markdown",
   "metadata": {},
   "source": [
    "# Python Training"
   ]
  },
  {
   "cell_type": "markdown",
   "metadata": {},
   "source": [
    "Welcome to Python training at 84.51$^\\circ$! The tutorial is in 6 parts: <br>\n",
    "   >  Python Basics<br>\n",
    "    > Numpy<br>\n",
    "    > Matplotlib<br>\n",
    "   > Pandas<br>\n",
    "   > 84.51$^\\circ$ Specific<br>\n",
    "   > Small case study<br>"
   ]
  },
  {
   "cell_type": "markdown",
   "metadata": {},
   "source": [
    "By the end, you'll hopefully have a good enough understanding of Python to get working on your own projects"
   ]
  },
  {
   "cell_type": "markdown",
   "metadata": {},
   "source": [
    "# Python Basics"
   ]
  },
  {
   "cell_type": "markdown",
   "metadata": {},
   "source": [
    "### Variables and Types of Data"
   ]
  },
  {
   "cell_type": "markdown",
   "metadata": {},
   "source": [
    "We will start with variables and types. \n",
    "\n",
    "If you came from an R background, these are all very similar to what variables normally look like. Variables are a way of storing data into a name that can be re-used throughout the rest of a program. They can be assigned only using $=$ (note; no \"<-\") to any type of variable. <br>\n",
    "\n",
    "Variables can hold any type of data in it. The types that I will talk about throughout this tutorial are integers, floats, booleans, strings, lists, dictionaries, and functions. \n",
    "\n",
    "<b>Integers</b>: Whole numbers such as -1,1,84,51. Normal mathematical operations (+, -, $*$, /, $**$ which is exponentiation) work with these numbers just as expected. \n",
    "\n",
    "Check out the code below as an example of these mathematical operations on integers. Take special note of the last example."
   ]
  },
  {
   "cell_type": "code",
   "execution_count": 4,
   "metadata": {
    "collapsed": false
   },
   "outputs": [
    {
     "name": "stdout",
     "output_type": "stream",
     "text": [
      "1 + 1 is...\n",
      "2\n",
      "to the power of 3 is...\n",
      "8\n",
      "mod 3 is...\n",
      "2\n",
      "divided by 9 is...\n",
      "0.222222222222\n"
     ]
    }
   ],
   "source": [
    "from __future__ import division\n",
    "#Run this code by clicking Shift+Enter\n",
    "var = 1 + 1\n",
    "#Print is a built-in Python function which just displays to the user whatever is passed into it. It holds no real value otherwise\n",
    "print('1 + 1 is...')\n",
    "print(var)\n",
    "# Exponentiation (**)\n",
    "var = var ** 3\n",
    "print('to the power of 3 is...')\n",
    "print(var)\n",
    "# Modulus (%)\n",
    "var = var % 3\n",
    "print('mod 3 is...')\n",
    "print(var)\n",
    "# Division (/)\n",
    "var = var / 9\n",
    "print('divided by 9 is...')\n",
    "print(var)"
   ]
  },
  {
   "cell_type": "markdown",
   "metadata": {},
   "source": [
    "When you do integer math, it will automatically round numbers to integers, so 8/9 became 0. \n",
    "\n",
    "To deal this, there are <b>floats</b>. Floats are decimal numbers such as 1.1, 84.51, and even 1. (which is just 1 that can be used for float mathematics). Below are some examples"
   ]
  },
  {
   "cell_type": "code",
   "execution_count": null,
   "metadata": {
    "collapsed": false
   },
   "outputs": [],
   "source": [
    "var = 1.1\n",
    "var = var + 1\n",
    "print(var)\n",
    "#What happens if we do math with floats and integers?\n",
    "var = (var - .1)/2\n",
    "print(var)\n",
    "#type is a function which gives you the type of your data\n",
    "type(var)"
   ]
  },
  {
   "cell_type": "markdown",
   "metadata": {},
   "source": [
    "Moving away from numbers, we have <b>booleans</b> (which are True/False values). Common operators used with booleans are <b>and</b> and <b>or</b>. `And` makes sure both parts around the word are True, otherwise it returns false. `Or` just needs one thing to be true for the whole expression to be true. "
   ]
  },
  {
   "cell_type": "code",
   "execution_count": 5,
   "metadata": {
    "collapsed": false
   },
   "outputs": [
    {
     "name": "stdout",
     "output_type": "stream",
     "text": [
      "False\n",
      "True\n"
     ]
    }
   ],
   "source": [
    "#== is a way of checking direct equality between two things\n",
    "print(1 == 1 and 2 == 1)\n",
    "print(1 == 1 or 2 == 1) "
   ]
  },
  {
   "cell_type": "markdown",
   "metadata": {},
   "source": [
    "The last \"primitive\" type we will talk about in Python are <b>Strings</b>. Strings are just like strings in R where they are just a way of storing information that, in English, are like words. You can't add a string and an integer/float like you can add between the integer and float types. You can access individual characters in Strings, but we won't get into that in this tutorial. "
   ]
  },
  {
   "cell_type": "code",
   "execution_count": 6,
   "metadata": {
    "collapsed": false
   },
   "outputs": [
    {
     "name": "stdout",
     "output_type": "stream",
     "text": [
      "Hello World!\n"
     ]
    },
    {
     "data": {
      "text/plain": [
       "str"
      ]
     },
     "execution_count": 6,
     "metadata": {},
     "output_type": "execute_result"
    }
   ],
   "source": [
    "#Some Strings\n",
    "string1 = \"Hello World!\"\n",
    "print(string1)\n",
    "#Putting quotes around another datatype makes it a string\n",
    "string2 = '1.2'\n",
    "type(string2)"
   ]
  },
  {
   "cell_type": "markdown",
   "metadata": {},
   "source": [
    "From here, we will move on to the more complex datatypes, one of the more difficult ones being lists. <b>Lists</b> are a way of storing multiple variables/elements into one convenient datatype. You can even store different types of data (e.g. Strings and Integers) into the same list. \n",
    "\n"
   ]
  },
  {
   "cell_type": "code",
   "execution_count": 7,
   "metadata": {
    "collapsed": false
   },
   "outputs": [
    {
     "name": "stdout",
     "output_type": "stream",
     "text": [
      "[1, 3, 'Hello!']\n"
     ]
    }
   ],
   "source": [
    "lst = [1, 3, \"Hello!\"]\n",
    "print(lst)"
   ]
  },
  {
   "cell_type": "markdown",
   "metadata": {},
   "source": [
    "Some important things you can do with lists:\n",
    "* Use the `len` function to find the length of the list\n",
    "* Use brackets ([]) to take sublists of a list. For example, `lst[1:]` would return a list with the 1st item and beyond and `lst[0:2]` would return a list of items 0 to 1. **Note: Lists and other data types are 0 indexed in Python**. Doing something like `lst[3]` on the above list would error out because there are only items 0-2. You can grab the last item by doing `lst[-1]`\n",
    "* You can edit the contents of a list using brackets and the assignment statement $=$. `lst[1] = 3.4` would now change the value of my `lst` variable. \n",
    "* The above technique can not add more elements to a list. Fortunately, there are two ways to do this. One is the `append` method, which is used by saying something like `lst.append(x)` where x is the datatype you would like to add to your list. This mutates your list immediately, so there is no need to assign it to anything. On the other hand, `lst1 = lst + [x]` will add x to the end of your list and assign it to `lst1`, without changing the original list. \n",
    "* `lst.extend([1,2,3])` would modify my `lst` variable and add three more elements to it (1,2,3), thereby extending my list. \n"
   ]
  },
  {
   "cell_type": "code",
   "execution_count": 8,
   "metadata": {
    "collapsed": false
   },
   "outputs": [
    {
     "name": "stdout",
     "output_type": "stream",
     "text": [
      "3\n",
      "Hello!\n"
     ]
    },
    {
     "ename": "IndexError",
     "evalue": "list index out of range",
     "output_type": "error",
     "traceback": [
      "\u001b[0;31m---------------------------------------------------------------------------\u001b[0m",
      "\u001b[0;31mIndexError\u001b[0m                                Traceback (most recent call last)",
      "\u001b[0;32m<ipython-input-8-0fb92a57099e>\u001b[0m in \u001b[0;36m<module>\u001b[0;34m()\u001b[0m\n\u001b[1;32m      2\u001b[0m \u001b[0;32mprint\u001b[0m\u001b[0;34m(\u001b[0m\u001b[0mlst\u001b[0m\u001b[0;34m[\u001b[0m\u001b[0;34m-\u001b[0m\u001b[0;36m1\u001b[0m\u001b[0;34m]\u001b[0m\u001b[0;34m)\u001b[0m\u001b[0;34m\u001b[0m\u001b[0m\n\u001b[1;32m      3\u001b[0m \u001b[0;31m#This will cause a \"List index out of range\" error\u001b[0m\u001b[0;34m\u001b[0m\u001b[0;34m\u001b[0m\u001b[0m\n\u001b[0;32m----> 4\u001b[0;31m \u001b[0mlst\u001b[0m\u001b[0;34m[\u001b[0m\u001b[0;36m5\u001b[0m\u001b[0;34m]\u001b[0m\u001b[0;34m\u001b[0m\u001b[0m\n\u001b[0m",
      "\u001b[0;31mIndexError\u001b[0m: list index out of range"
     ]
    }
   ],
   "source": [
    "print(lst[1])\n",
    "print(lst[-1])\n",
    "#This will cause a \"List index out of range\" error\n",
    "lst[5]"
   ]
  },
  {
   "cell_type": "code",
   "execution_count": 9,
   "metadata": {
    "collapsed": false
   },
   "outputs": [
    {
     "name": "stdout",
     "output_type": "stream",
     "text": [
      "[1, 3, 84.51, 10, 5, 1, 2, 3]\n",
      "[10, 5]\n"
     ]
    }
   ],
   "source": [
    "lst[2] = 84.51\n",
    "lst.append(10)\n",
    "\n",
    "#Which of the next two will actually change the list? \n",
    "lst + [10]\n",
    "lst = lst + [5]\n",
    "\n",
    "lst.extend([1, 2, 3])\n",
    "print(lst)\n",
    "print(lst[3:5])"
   ]
  },
  {
   "cell_type": "markdown",
   "metadata": {},
   "source": [
    "A weird thing that can be done with lists is putting lists inside of each other. It works, but it's never recommended for normal use. It can be useful for things like model building when you have one big dataset with inputs, each of which is a list of features.\n",
    "\n",
    "Next, we will talk about **dictionaries**. A dictionary is just a way of mapping a key to a value. For example, if I know Sally has an apple while Bob has a banana, I can use a dictionary to pack it up and keep track of it. \n",
    "\n",
    "Dictionaries are normally used with curly brackets. To access a value from a dictionary, use brackets like you would for a list but instead of putting in the position of the element, pass in the key. The same method, with an assignment statement, can add a key-value pair to a dictionary, or modify the existing value for a key. "
   ]
  },
  {
   "cell_type": "code",
   "execution_count": 10,
   "metadata": {
    "collapsed": false
   },
   "outputs": [
    {
     "name": "stdout",
     "output_type": "stream",
     "text": [
      "apple\n",
      "{'Bob': 'banana', 'Sally': 'mango', 'Joe': 'pumpkin'}\n"
     ]
    }
   ],
   "source": [
    "dct = {'Sally': 'apple', 'Bob': 'banana'}\n",
    "print(dct['Sally'])\n",
    "dct['Joe'] = 'pumpkin'\n",
    "dct['Sally'] = 'mango'\n",
    "print(dct)"
   ]
  },
  {
   "cell_type": "markdown",
   "metadata": {},
   "source": [
    "Lastly, we will talk about **functions**, which, as in R, allow you to define your own blocks of code with predefined inputs, and return a value afterwards using those inputs. Python functions are defined as below.\n",
    "\n",
    "Functions in python officially end and exit after a return statement. The return statement gives the value of the function when it is called. "
   ]
  },
  {
   "cell_type": "code",
   "execution_count": 11,
   "metadata": {
    "collapsed": false
   },
   "outputs": [
    {
     "name": "stdout",
     "output_type": "stream",
     "text": [
      "102.01\n"
     ]
    }
   ],
   "source": [
    "#Def means define, and the colon is used to signify that the next lines of code should be\n",
    "#indented, as they're all a block together. This theme continues for other programming\n",
    "# logic below, where separate lines of code are really connected with each other \n",
    "def square(x):\n",
    "    y = x**2\n",
    "    return(y)\n",
    "    #The line below will not be run\n",
    "    print(\"Not Run\")\n",
    "print(square(10.1))"
   ]
  },
  {
   "cell_type": "markdown",
   "metadata": {},
   "source": [
    "Importantly, nothing inside of the function block gets run until the function is called. So if you have an error in your function, you will not know until you run it. Functions can get as complex as putting a function within a function, or just a simple way for you to breakdown multiple unrelated portions of code. Use them as you see fit. "
   ]
  },
  {
   "cell_type": "markdown",
   "metadata": {},
   "source": [
    "### Conditional Statements, Iteration, and Other Programming Logic"
   ]
  },
  {
   "cell_type": "markdown",
   "metadata": {},
   "source": [
    "With some basics out of the way, we can dive into programmic logic, starting with if/else statements. \n",
    "\n",
    "If statements are used only when you want to run a certain block of code based on the value of something else. For example, I want my variable `x` to be 0 if it's less than 10. This can be coded as below. "
   ]
  },
  {
   "cell_type": "code",
   "execution_count": 13,
   "metadata": {
    "collapsed": false
   },
   "outputs": [
    {
     "name": "stdout",
     "output_type": "stream",
     "text": [
      "The Zen of Python, by Tim Peters\n",
      "\n",
      "Beautiful is better than ugly.\n",
      "Explicit is better than implicit.\n",
      "Simple is better than complex.\n",
      "Complex is better than complicated.\n",
      "Flat is better than nested.\n",
      "Sparse is better than dense.\n",
      "Readability counts.\n",
      "Special cases aren't special enough to break the rules.\n",
      "Although practicality beats purity.\n",
      "Errors should never pass silently.\n",
      "Unless explicitly silenced.\n",
      "In the face of ambiguity, refuse the temptation to guess.\n",
      "There should be one-- and preferably only one --obvious way to do it.\n",
      "Although that way may not be obvious at first unless you're Dutch.\n",
      "Now is better than never.\n",
      "Although never is often better than *right* now.\n",
      "If the implementation is hard to explain, it's a bad idea.\n",
      "If the implementation is easy to explain, it may be a good idea.\n",
      "Namespaces are one honking great idea -- let's do more of those!\n"
     ]
    }
   ],
   "source": [
    "import this"
   ]
  },
  {
   "cell_type": "code",
   "execution_count": 14,
   "metadata": {
    "collapsed": false
   },
   "outputs": [
    {
     "name": "stdout",
     "output_type": "stream",
     "text": [
      "11\n"
     ]
    }
   ],
   "source": [
    "#Change around the value of x if you're curious to see when the x=0 line actually gets called. \n",
    "x = 11\n",
    "if x < 10:\n",
    "    x = 0\n",
    "print(x)"
   ]
  },
  {
   "cell_type": "markdown",
   "metadata": {},
   "source": [
    "Let's say instead, you have multiple conditions. For example, if a number is negative, change it to -1, but if a number is less than 10, change it to 0, and if it's greater than 10, change it to 1. This can be coded as the following. "
   ]
  },
  {
   "cell_type": "code",
   "execution_count": 15,
   "metadata": {
    "collapsed": false
   },
   "outputs": [
    {
     "name": "stdout",
     "output_type": "stream",
     "text": [
      "-1\n"
     ]
    }
   ],
   "source": [
    "x = -19\n",
    "if x < 0:\n",
    "    x = -1\n",
    "elif x < 10:\n",
    "    x = 0\n",
    "else:\n",
    "    x = 1\n",
    "print(x)"
   ]
  },
  {
   "cell_type": "markdown",
   "metadata": {},
   "source": [
    "It will only go into one of these blocks, and work down the conditional statements until it has found one that it matches. If it doesn't find any, it will go into the else statement, if defined."
   ]
  },
  {
   "cell_type": "markdown",
   "metadata": {},
   "source": [
    "Next, we will talk about iteration. Iteration is most commonly done with a `for` loop. You can iterate over any sequence in python. Sequences include lists, dictionaries, and a couple of other things we will talk about later on. The syntax of a for loop is shown below. "
   ]
  },
  {
   "cell_type": "code",
   "execution_count": 22,
   "metadata": {
    "collapsed": false
   },
   "outputs": [
    {
     "name": "stdout",
     "output_type": "stream",
     "text": [
      "0\n",
      "1\n",
      "2\n",
      "3\n",
      "4\n",
      "5\n"
     ]
    }
   ],
   "source": [
    "from __future__ import print_function\n",
    "#The \"range\" function produces a list of x numbers starting from 0.\n",
    "# This is useful for running a block of code x number of times.\n",
    "lst = range(6)\n",
    "for item in lst:\n",
    "    print(item)"
   ]
  },
  {
   "cell_type": "code",
   "execution_count": 25,
   "metadata": {
    "collapsed": false
   },
   "outputs": [
    {
     "name": "stdout",
     "output_type": "stream",
     "text": [
      "Jim 3.5\n",
      "Parker 4.5\n",
      "Fahad 5\n"
     ]
    }
   ],
   "source": [
    "dct = {'Fahad': 5, 'Parker': 4.5, 'Jim': 3.5}\n",
    "for mykey in dct:\n",
    "    print(mykey, dct[mykey])"
   ]
  },
  {
   "cell_type": "code",
   "execution_count": 20,
   "metadata": {
    "collapsed": false
   },
   "outputs": [
    {
     "name": "stdout",
     "output_type": "stream",
     "text": [
      "[0, 1, 2, 3, 5, 5, 6, 7, 8, 9]\n"
     ]
    }
   ],
   "source": [
    "x = range(10) \n",
    "x[4] = 5\n",
    "print(x)"
   ]
  },
  {
   "cell_type": "markdown",
   "metadata": {},
   "source": [
    "For loops and if/else statements can be used in conjunction with anything else, including functions. It is not uncommon to see conditional logic and iteration inside of a function. "
   ]
  },
  {
   "cell_type": "markdown",
   "metadata": {},
   "source": [
    "### Packages"
   ]
  },
  {
   "cell_type": "markdown",
   "metadata": {},
   "source": [
    "There is a general rule in programming languages as a whole, and that is if you want to do something that sounds like it can be reused by everyone else, it has probably been done before! Packages in Python are collections of modules made by someone to be reused for later projects by other people. Python is an Open-Source language, so packages are abundant in all sorts of field from Machine Learning to Statistical Analysis (all the way to this beautiful package: http://python-history.blogspot.com/2010/06/import-antigravity.html). \n",
    "\n",
    "There are two ways to import a concents of a package.\n",
    "\n",
    "Sometimes, you might to just import the whole package. You can do this by doing something like the following. "
   ]
  },
  {
   "cell_type": "code",
   "execution_count": 33,
   "metadata": {
    "collapsed": false
   },
   "outputs": [],
   "source": [
    "import csv"
   ]
  },
  {
   "cell_type": "markdown",
   "metadata": {},
   "source": [
    "The documentation for the csv library can be found here: https://docs.python.org/2/library/csv.html. \n",
    "\n",
    "Note that some of the common functions that are widely used in this package are reader and writer. If you wanted to try out using this package, you might instinctually just type of \"reader\" to access the function. Unfortunately with python, this is incorrect. When you import a package as above, you must reference the \"reader\" function by first typing \"package_name.\", then appending the method. See as below. "
   ]
  },
  {
   "cell_type": "code",
   "execution_count": 36,
   "metadata": {
    "collapsed": false
   },
   "outputs": [
    {
     "name": "stdout",
     "output_type": "stream",
     "text": [
      "<built-in function reader>\n",
      "<built-in function writer>\n"
     ]
    }
   ],
   "source": [
    "print(csv.reader)\n",
    "print(csv.writer)"
   ]
  },
  {
   "cell_type": "markdown",
   "metadata": {},
   "source": [
    "CSV is a short enough name that this is not tedious to keep writing it over and over again, but if I had a longer package, I may wish to shorten it by giving it a nickname/alias. This can be done using the keyword \"as\", as seen below. "
   ]
  },
  {
   "cell_type": "code",
   "execution_count": 37,
   "metadata": {
    "collapsed": false
   },
   "outputs": [],
   "source": [
    "import random as rdm"
   ]
  },
  {
   "cell_type": "code",
   "execution_count": null,
   "metadata": {
    "collapsed": true
   },
   "outputs": [],
   "source": []
  },
  {
   "cell_type": "markdown",
   "metadata": {
    "collapsed": true
   },
   "source": [
    "Now, if I want to access the `shuffle` method in random, I can simply do `rdm.shuffle` rather than `random.shuffle`. This comes in handy with a couple of packages which we will talk about below, just because of common conventions. "
   ]
  },
  {
   "cell_type": "markdown",
   "metadata": {
    "collapsed": true
   },
   "source": [
    "Let's say, however, that from a certain module, you only one one function. As an example, let's say I just want the shuffle function from random. The, I can use the syntax `from ____ import ____`. So, from a module, import a very specific entity. Let's see an example below: "
   ]
  },
  {
   "cell_type": "code",
   "execution_count": 38,
   "metadata": {
    "collapsed": false
   },
   "outputs": [
    {
     "data": {
      "text/plain": [
       "<bound method Random.shuffle of <random.Random object at 0x26a5be0>>"
      ]
     },
     "execution_count": 38,
     "metadata": {},
     "output_type": "execute_result"
    }
   ],
   "source": [
    "from random import shuffle\n",
    "shuffle"
   ]
  },
  {
   "cell_type": "markdown",
   "metadata": {},
   "source": [
    "Now, I can use shuffle by itself without the random infront of it, but I would be unable to access other methods in random then. Which of these you use is up to your needs. You can also combine the `as` syntax with the `from` syntax as expected: "
   ]
  },
  {
   "cell_type": "code",
   "execution_count": 39,
   "metadata": {
    "collapsed": false
   },
   "outputs": [
    {
     "data": {
      "text/plain": [
       "<bound method Random.shuffle of <random.Random object at 0x26a5be0>>"
      ]
     },
     "execution_count": 39,
     "metadata": {},
     "output_type": "execute_result"
    }
   ],
   "source": [
    "from random import shuffle as shuff\n",
    "shuff"
   ]
  },
  {
   "cell_type": "markdown",
   "metadata": {},
   "source": [
    "### Practice on Basics"
   ]
  },
  {
   "cell_type": "markdown",
   "metadata": {},
   "source": [
    "Below are some practice problems on some of the concepts talked about above. Googling is encouraged!\n",
    "1. **The Fizzbuzz Problem**: Write a program that prints the numbers from 1 to 100, except for multiples of three print \"Fizz\" instead of the number and for the multiples of five print \"Buzz\". For numbers which are multiples of both three and five print \"FizzBuzz\".\n",
    "2. **Listify**: Define a function called `listify` that takes a dictionary as input and returns the values in the dictionary as a list."
   ]
  },
  {
   "cell_type": "code",
   "execution_count": 42,
   "metadata": {
    "collapsed": false
   },
   "outputs": [
    {
     "name": "stdout",
     "output_type": "stream",
     "text": [
      "csv\t dct\t division\t item\t lst\t mykey\t pandas\t print_function\t rdm\t \n",
      "shuff\t shuffle\t square\t string1\t string2\t this\t var\t x\t \n"
     ]
    }
   ],
   "source": [
    "%who "
   ]
  },
  {
   "cell_type": "code",
   "execution_count": null,
   "metadata": {
    "collapsed": true
   },
   "outputs": [],
   "source": []
  }
 ],
 "metadata": {
  "anaconda-cloud": {},
  "kernelspec": {
   "display_name": "Python [default]",
   "language": "python",
   "name": "python2"
  },
  "language_info": {
   "codemirror_mode": {
    "name": "ipython",
    "version": 2
   },
   "file_extension": ".py",
   "mimetype": "text/x-python",
   "name": "python",
   "nbconvert_exporter": "python",
   "pygments_lexer": "ipython2",
   "version": "2.7.13"
  }
 },
 "nbformat": 4,
 "nbformat_minor": 1
}

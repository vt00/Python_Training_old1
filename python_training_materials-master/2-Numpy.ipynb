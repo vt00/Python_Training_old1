{
 "cells": [
  {
   "cell_type": "markdown",
   "metadata": {},
   "source": [
    "# Python Training"
   ]
  },
  {
   "cell_type": "markdown",
   "metadata": {},
   "source": [
    "Welcome to Python training at 84.51$^\\circ$! The tutorial is in 6 parts: <br>\n",
    "   >  Python Basics<br>\n",
    "    > NumPy<br>\n",
    "    > Matplotlib<br>\n",
    "   > Pandas<br>\n",
    "   > 84.51$^\\circ$ Specific<br>\n",
    "   > Small case study<br>"
   ]
  },
  {
   "cell_type": "markdown",
   "metadata": {},
   "source": [
    "By the end, you'll hopefully have a good enough understanding of Python to get working on your own projects. Some material has referenced the excellent resource \"Python Data Science Handbook\", which can be found here:\n",
    "\n",
    "https://jakevdp.github.io/PythonDataScienceHandbook/\n",
    " \n",
    "The chapters from this book cover each of the topics covered in this training (and more) to a deeper extent. "
   ]
  },
  {
   "cell_type": "markdown",
   "metadata": {},
   "source": [
    "# NumPy"
   ]
  },
  {
   "cell_type": "markdown",
   "metadata": {},
   "source": [
    "NumPy is such an important package for data analytics that it merits its own small section. To begin with, the most common way to import NumPy is as follows:"
   ]
  },
  {
   "cell_type": "code",
   "execution_count": 2,
   "metadata": {
    "collapsed": true
   },
   "outputs": [],
   "source": [
    "# np serves as an alias \n",
    "import numpy as np"
   ]
  },
  {
   "cell_type": "markdown",
   "metadata": {},
   "source": [
    "Writing numpy over and over again can be tedious, so np is a well-understood abreviation that is used commonly throughout the programming world. "
   ]
  },
  {
   "cell_type": "markdown",
   "metadata": {},
   "source": [
    "## NumPy Array vs. Standard List"
   ]
  },
  {
   "cell_type": "markdown",
   "metadata": {},
   "source": [
    "The basic and most important feature of NumPy which makes it stand out is the array. **Arrays** are like lists, but with a few small twists. Firstly, all datatypes in an array must be the same (for example, all must be ints or all must be floats). A list is allowed to contain different datatypes as its elements (you may build a list with both integer datatypes and character datatypes). \n",
    "\n",
    "Moreover, arrays are much like vector in mathematics, where you can do mathematical operations with arrays (such as add, subtract, multiply two arrays). Arrays allow for fast computation and the ability to do numeric operations with ease. We will look at an example of this stark difference in time between arrays and lists. \n",
    "\n",
    "Lists do allow flexibility in terms of the items that can be added as well as some of the methods (i.e. length or slicing). Luckily, many operations (such as `len` and list slicing) that work with lists normally work with arrays. "
   ]
  },
  {
   "cell_type": "code",
   "execution_count": 3,
   "metadata": {
    "collapsed": false
   },
   "outputs": [
    {
     "name": "stdout",
     "output_type": "stream",
     "text": [
      "[16  8 10  2]\n",
      "[64 16 25  1]\n",
      "4\n",
      "The shape of my array is:(4,)\n",
      "[4 5 1]\n",
      "1\n"
     ]
    }
   ],
   "source": [
    "arr = np.array([8,4,5,1])\n",
    "#add arrays of equivalent length\n",
    "print(arr+arr) \n",
    "\n",
    "#multiply arrays of equivalent length \n",
    "print(arr*arr)\n",
    "\n",
    "# find the length of an array\n",
    "print(len(arr))\n",
    "\n",
    "# find the shape of an array \n",
    "print(\"The shape of my array is:{}\".format(arr.shape))\n",
    "\n",
    "# slice from 1st index to end (2nd element to the end of array)\n",
    "print(arr[1:])\n",
    "\n",
    "# print only the 3rd index (4th element in array)\n",
    "print(arr[3])"
   ]
  },
  {
   "cell_type": "code",
   "execution_count": 6,
   "metadata": {
    "collapsed": false
   },
   "outputs": [
    {
     "ename": "ValueError",
     "evalue": "operands could not be broadcast together with shapes (4,) (3,) ",
     "output_type": "error",
     "traceback": [
      "\u001b[0;31m---------------------------------------------------------------------------\u001b[0m",
      "\u001b[0;31mValueError\u001b[0m                                Traceback (most recent call last)",
      "\u001b[0;32m<ipython-input-6-75bc38099c5d>\u001b[0m in \u001b[0;36m<module>\u001b[0;34m()\u001b[0m\n\u001b[1;32m      1\u001b[0m \u001b[0;31m# Uncomment the following line of code to try adding arrays of different sizes\u001b[0m\u001b[0;34m\u001b[0m\u001b[0;34m\u001b[0m\u001b[0m\n\u001b[1;32m      2\u001b[0m \u001b[0marr2\u001b[0m \u001b[0;34m=\u001b[0m \u001b[0mnp\u001b[0m\u001b[0;34m.\u001b[0m\u001b[0marray\u001b[0m\u001b[0;34m(\u001b[0m\u001b[0;34m[\u001b[0m\u001b[0;36m1\u001b[0m\u001b[0;34m,\u001b[0m\u001b[0;36m2\u001b[0m\u001b[0;34m,\u001b[0m\u001b[0;36m3\u001b[0m\u001b[0;34m]\u001b[0m\u001b[0;34m)\u001b[0m\u001b[0;34m\u001b[0m\u001b[0m\n\u001b[0;32m----> 3\u001b[0;31m \u001b[0;32mprint\u001b[0m\u001b[0;34m(\u001b[0m\u001b[0marr\u001b[0m\u001b[0;34m+\u001b[0m\u001b[0marr2\u001b[0m\u001b[0;34m)\u001b[0m\u001b[0;34m\u001b[0m\u001b[0m\n\u001b[0m",
      "\u001b[0;31mValueError\u001b[0m: operands could not be broadcast together with shapes (4,) (3,) "
     ]
    }
   ],
   "source": [
    "# Uncomment the following line of code to try adding arrays of different sizes\n",
    "arr2 = np.array([1,2,3])\n",
    "print(arr+arr2)"
   ]
  },
  {
   "cell_type": "markdown",
   "metadata": {},
   "source": [
    "## Mathematical Operations with NumPy"
   ]
  },
  {
   "cell_type": "markdown",
   "metadata": {},
   "source": [
    "Below are samples of a few different mathematical operations that can be run on a NumPy array:\n",
    "\n",
    "*Across full array*\n",
    "\n",
    "* `np.mean`, `np.var`, `np.std` take the mean, variance, and standard deviation respectively of an array\n",
    "* `np.max`, `np.min` provide the mmaximum and mininum values of an array\n",
    "* `np.sum` outputs the sum of all array elements (Note: axis can be specified for multi-dimensional arrays) \n",
    "\n",
    "*Operation across each element in an array*\n",
    "* `np.sqrt` returns the positive square-root of each element in an array\n",
    "* `np.log` provides the natural logarithm of each element in an array \n",
    "* `np.add` is going to add an argument to each element\n",
    "\n",
    "Let's build an array called **hh_spend** which provides data for the total spend of 10 households in a 3-week period. We can then try some of the aforemention operations on the **hh_spend** array. \n",
    "\n",
    "More can be found at: https://docs.scipy.org/doc/numpy-1.13.0/reference/routines.math.html"
   ]
  },
  {
   "cell_type": "code",
   "execution_count": 13,
   "metadata": {
    "collapsed": true
   },
   "outputs": [],
   "source": [
    "np.argpartition?"
   ]
  },
  {
   "cell_type": "code",
   "execution_count": 7,
   "metadata": {
    "collapsed": false
   },
   "outputs": [
    {
     "name": "stdout",
     "output_type": "stream",
     "text": [
      "We have data for 10 households\n"
     ]
    }
   ],
   "source": [
    "# Build hh_spend array \n",
    "hh_spend = np.array([800.56,457.3,505.98,100.01, 567.87, 303.23, 178.65, 213.98, 606.78, 907.65])\n",
    "print(\"We have data for {} households\".format(len(hh_spend)))"
   ]
  },
  {
   "cell_type": "code",
   "execution_count": 8,
   "metadata": {
    "collapsed": false
   },
   "outputs": [
    {
     "name": "stdout",
     "output_type": "stream",
     "text": [
      "464.201\n",
      "254.037438912\n"
     ]
    }
   ],
   "source": [
    "# what is the mean spend? \n",
    "print(np.mean(hh_spend))\n",
    "\n",
    "# What is the standard deviation? \n",
    "print(np.std(hh_spend))"
   ]
  },
  {
   "cell_type": "code",
   "execution_count": 9,
   "metadata": {
    "collapsed": false
   },
   "outputs": [
    {
     "name": "stdout",
     "output_type": "stream",
     "text": [
      "The max value is 907.65\n",
      "The min value is 100.01\n"
     ]
    }
   ],
   "source": [
    "# what is the maximum value? min? \n",
    "print(\"The max value is {}\".format(np.max(hh_spend)))\n",
    "print(\"The min value is {}\".format(np.min(hh_spend)))"
   ]
  },
  {
   "cell_type": "code",
   "execution_count": 10,
   "metadata": {
    "collapsed": false
   },
   "outputs": [
    {
     "name": "stdout",
     "output_type": "stream",
     "text": [
      "[ 28.29416901  21.38457388  22.4939992   10.00049999  23.83002308\n",
      "  17.41350051  13.36600165  14.62805524  24.63290482  30.12723021]\n"
     ]
    }
   ],
   "source": [
    "# what is the square-root of each HHs spend? \n",
    "print(np.sqrt(hh_spend))"
   ]
  },
  {
   "cell_type": "code",
   "execution_count": 14,
   "metadata": {
    "collapsed": false
   },
   "outputs": [
    {
     "name": "stdout",
     "output_type": "stream",
     "text": [
      "[ 810.56  467.3   515.98  110.01  577.87  313.23  188.65  223.98  616.78\n",
      "  917.65]\n"
     ]
    },
    {
     "data": {
      "text/plain": [
       "4642.0099999999993"
      ]
     },
     "execution_count": 14,
     "metadata": {},
     "output_type": "execute_result"
    }
   ],
   "source": [
    "# Let's add $10 to each HH Spend \n",
    "print(np.add(hh_spend,10))\n",
    "np.sum(hh_spend)"
   ]
  },
  {
   "cell_type": "markdown",
   "metadata": {},
   "source": [
    "## NumPy Has Superior Computational Speed"
   ]
  },
  {
   "cell_type": "markdown",
   "metadata": {},
   "source": [
    "Let's take a simple example to show the slowness of lists relative to arrays. \n",
    "\n",
    "Perhaps we have a list that contains the amount of spend for a household across the last 10 years worth of transactions. \n",
    "\n",
    "1) To build this we will use **np.random.seed** so that we can replicate our random integers created \n",
    "\n",
    "2) Next, we create an array of 100,000 elements from 1 to 500 with **np.random.randint** and name it **spend_array**\n",
    "\n",
    "3) Then create a **spend_list** as a list of the same elements\n",
    "\n",
    "4) Finally, the **%timeit** magic command can be called when running a mathematical operation on **spend_array** and **spend_list** to check how long each process takes. \n",
    "\n",
    "What you should see (although computation times will vary slightly with each run) is that the array is *significantly* faster than the list in terms of summation. This is the case if we were to multiply across values as well.\n",
    "\n",
    "**Helpful reminder: 1000 µs = 1 ms**\n"
   ]
  },
  {
   "cell_type": "code",
   "execution_count": 17,
   "metadata": {
    "collapsed": false
   },
   "outputs": [
    {
     "name": "stdout",
     "output_type": "stream",
     "text": [
      "[48  1  4  4 40 10 20 22 37]\n",
      "[48, 1, 4, 4, 40, 10, 20, 22, 37]\n",
      "<type 'numpy.ndarray'>\n",
      "<type 'list'>\n"
     ]
    }
   ],
   "source": [
    "np.random.seed(0) #use a seed for replication \n",
    "\n",
    "spend_array = np.random.randint(1,50,100000)\n",
    "print(spend_array[1:10])\n",
    "\n",
    "# make a copy that is a list\n",
    "spend_list = list(spend_array)\n",
    "print(spend_list[1:10])\n",
    "\n",
    "# check types\n",
    "print(type(spend_array))\n",
    "print(type(spend_list))"
   ]
  },
  {
   "cell_type": "code",
   "execution_count": 18,
   "metadata": {
    "collapsed": false
   },
   "outputs": [
    {
     "name": "stdout",
     "output_type": "stream",
     "text": [
      "10000 loops, best of 3: 160 µs per loop\n"
     ]
    }
   ],
   "source": [
    "# for the array \n",
    "%timeit np.sum(spend_array)"
   ]
  },
  {
   "cell_type": "code",
   "execution_count": 19,
   "metadata": {
    "collapsed": false
   },
   "outputs": [
    {
     "name": "stdout",
     "output_type": "stream",
     "text": [
      "100 loops, best of 3: 13 ms per loop\n"
     ]
    }
   ],
   "source": [
    "# for the list \n",
    "%timeit sum(spend_list)"
   ]
  },
  {
   "cell_type": "code",
   "execution_count": 20,
   "metadata": {
    "collapsed": false
   },
   "outputs": [
    {
     "data": {
      "text/plain": [
       "True"
      ]
     },
     "execution_count": 20,
     "metadata": {},
     "output_type": "execute_result"
    }
   ],
   "source": [
    "# verify the values would be equivalent\n",
    "sum(spend_list) == np.sum(spend_array)"
   ]
  },
  {
   "cell_type": "markdown",
   "metadata": {},
   "source": [
    "# Multi-Dimensional Arrays"
   ]
  },
  {
   "cell_type": "markdown",
   "metadata": {},
   "source": [
    "Arrays can also be multi dimensional and be treated like matrices. We can make two-dimensional arrays as well as three-dimensional arrays. For starts, let's focus on two-dimensional arrays which will look very similar to a dataframe in R, a table in SQL, or an excel spreadsheet."
   ]
  },
  {
   "cell_type": "code",
   "execution_count": 21,
   "metadata": {
    "collapsed": true
   },
   "outputs": [],
   "source": [
    "arr1 = np.array([1,2,3,4])\n",
    "arr2 = np.array([5,6,7,8])"
   ]
  },
  {
   "cell_type": "code",
   "execution_count": 22,
   "metadata": {
    "collapsed": false
   },
   "outputs": [
    {
     "name": "stdout",
     "output_type": "stream",
     "text": [
      "[[1 2 3 4]\n",
      " [5 6 7 8]]\n"
     ]
    }
   ],
   "source": [
    "twoD = np.array([arr1, arr2])\n",
    "print(twoD)"
   ]
  },
  {
   "cell_type": "markdown",
   "metadata": {},
   "source": [
    "## Indexing for Multi-Dimensional Arrays\n",
    "\n",
    "Indexing a multi-dimensional array is very similar to how we index for a singular array, or even within R. The next few examples with show variations of this for a two-dimensional array:"
   ]
  },
  {
   "cell_type": "code",
   "execution_count": 23,
   "metadata": {
    "collapsed": false
   },
   "outputs": [
    {
     "name": "stdout",
     "output_type": "stream",
     "text": [
      "1\n",
      "1\n",
      "2\n",
      "2\n",
      "8\n",
      "8\n",
      "[1 2 3 4]\n",
      "[1 2 3 4]\n",
      "[4 8]\n",
      "4\n",
      "8\n"
     ]
    }
   ],
   "source": [
    "# Print the 1 (0,0) in the 2-d array\n",
    "# This is the 0th row and 0th column\n",
    "# Two ways to do it: Think of this as a matrix (0,0) or as two arrays [0][0]\n",
    "print(twoD[0,0])\n",
    "print(twoD[0][0]) #same output\n",
    "\n",
    "# Print the 2 in the 2-d array\n",
    "# This is the 0th row, and 1st column\n",
    "print(twoD[0,1])\n",
    "print(twoD[0][1])\n",
    "\n",
    "# Print the 8 in the 2-d array\n",
    "# This is in the 1st (0th) row and 4th (index 3) column\n",
    "print(twoD[1,3])\n",
    "print(twoD[1][3])\n",
    "\n",
    "# Print the full first row \n",
    "print(twoD[0,])\n",
    "print(twoD[0]) #we just take first array \n",
    "\n",
    "# Print the last column\n",
    "print(twoD[:,3])\n",
    "\n",
    "# print the element from last column of each row \n",
    "for i in twoD:\n",
    "    print(i[3])\n"
   ]
  },
  {
   "cell_type": "markdown",
   "metadata": {},
   "source": [
    "## Iterating over Arrays\n",
    "\n",
    "Moreover, arrays are sequences, so they can be iterated over just like lists and dictionaries. \n",
    "\n",
    "We can do simple things, such as print out each element in an array. Or possibly perform some calculation on each array. "
   ]
  },
  {
   "cell_type": "code",
   "execution_count": 24,
   "metadata": {
    "collapsed": false
   },
   "outputs": [
    {
     "name": "stdout",
     "output_type": "stream",
     "text": [
      "8\n",
      "4\n",
      "5\n",
      "1\n"
     ]
    }
   ],
   "source": [
    "# print out each element\n",
    "for num in arr:\n",
    "    print(num)"
   ]
  },
  {
   "cell_type": "code",
   "execution_count": 27,
   "metadata": {
    "collapsed": false
   },
   "outputs": [
    {
     "name": "stdout",
     "output_type": "stream",
     "text": [
      "18\n",
      "14\n",
      "15\n",
      "11\n"
     ]
    }
   ],
   "source": [
    "# add 10 to each element\n",
    "for num in arr:\n",
    "    print(num + 10)"
   ]
  },
  {
   "cell_type": "markdown",
   "metadata": {},
   "source": [
    "## Additional Functions for NumPy\n",
    "Some important numpy functions and methods that work on arrays include: \n",
    "* `.reshape`, which reshapes an array to a desired new shape. Importantly, this reshape must be possible (you can't turn a 1 element array into an 4x5 matrix)\n",
    "* `.shape` returns the shape of your array\n",
    "* `np.sin`, `np.log`, and many other mathematical operations exist that work element wise on arrays\n",
    "* `np.all` and `np.any` do `and` and `or` logic operators on all of the elements in the array, and returns one boolean value\n",
    "* `np.zeros` returns an array of 0s with the shape specified by the user\n",
    "* `np.mean`, `np.var`, `np.std` take the mean, variance, and standard deviation respectively of an array\n",
    "* `np.argmax`, `np.argmin` return the position of the largest/smallest number in an array\n",
    "* `np.cov`, `np.corrcoef` return covariance and correlation coefficients for arrays\n",
    "* `np.count_nonzero` returns the number of nonzero (equivalently, the number of non-false) items in an array\n",
    "* `np.arange` returns an array with the specified start, stop, and increments (essentially, it returns a sequence)\n",
    "* `np.random.seed`, `np.random.randn`, `np.random.randint`, and the whole `np.random` module work with dealing with random numbers \n",
    "\n",
    "Below are some examples of how to use the above functions. "
   ]
  },
  {
   "cell_type": "code",
   "execution_count": 28,
   "metadata": {
    "collapsed": false
   },
   "outputs": [
    {
     "name": "stdout",
     "output_type": "stream",
     "text": [
      "[[1 2 3 4]\n",
      " [5 6 7 8]]\n",
      "(2, 4)\n",
      "[1 2 3 4 5 6 7 8]\n",
      "(8,)\n"
     ]
    }
   ],
   "source": [
    "# look at the elements of twoD\n",
    "print(twoD)\n",
    "\n",
    "# Look at the shape \n",
    "print(twoD.shape)\n",
    "\n",
    "# Reshape to be 1-dimensional\n",
    "twoDReshaped = twoD.reshape((8,))\n",
    "print(twoDReshaped)\n",
    "print(twoDReshaped.shape)"
   ]
  },
  {
   "cell_type": "code",
   "execution_count": 29,
   "metadata": {
    "collapsed": false
   },
   "outputs": [
    {
     "data": {
      "text/plain": [
       "array([[ 0.        ,  0.69314718,  1.09861229,  1.38629436],\n",
       "       [ 1.60943791,  1.79175947,  1.94591015,  2.07944154]])"
      ]
     },
     "execution_count": 29,
     "metadata": {},
     "output_type": "execute_result"
    }
   ],
   "source": [
    "# calculate the log of each element from twoD\n",
    "np.log(twoD)"
   ]
  },
  {
   "cell_type": "code",
   "execution_count": 30,
   "metadata": {
    "collapsed": false
   },
   "outputs": [
    {
     "name": "stdout",
     "output_type": "stream",
     "text": [
      "False\n",
      "True\n"
     ]
    }
   ],
   "source": [
    "# build out an array of booleans\n",
    "bools = np.array([True, True, False])\n",
    "print(np.all(bools))\n",
    "print(np.any(bools))"
   ]
  },
  {
   "cell_type": "code",
   "execution_count": 31,
   "metadata": {
    "collapsed": false
   },
   "outputs": [
    {
     "name": "stdout",
     "output_type": "stream",
     "text": [
      "[ 0.  0.  0.  0.  0.  0.  0.  0.  0.  0.]\n",
      "(0.0, 0.0)\n"
     ]
    }
   ],
   "source": [
    "# build out an array of zeroes\n",
    "zeros = np.zeros(10)\n",
    "print(zeros)\n",
    "print(np.mean(zeros), np.std(zeros))"
   ]
  },
  {
   "cell_type": "code",
   "execution_count": 32,
   "metadata": {
    "collapsed": false
   },
   "outputs": [
    {
     "name": "stdout",
     "output_type": "stream",
     "text": [
      "0\n"
     ]
    }
   ],
   "source": [
    "# using argmax\n",
    "print(np.argmax(np.array([1,0])))"
   ]
  },
  {
   "cell_type": "code",
   "execution_count": 33,
   "metadata": {
    "collapsed": false
   },
   "outputs": [
    {
     "name": "stdout",
     "output_type": "stream",
     "text": [
      "2\n"
     ]
    }
   ],
   "source": [
    "# printing a count of all non-zero elements\n",
    "# in this case we have two trues (1) and a false (0)\n",
    "print(np.count_nonzero(bools))"
   ]
  },
  {
   "cell_type": "code",
   "execution_count": 34,
   "metadata": {
    "collapsed": false
   },
   "outputs": [
    {
     "name": "stdout",
     "output_type": "stream",
     "text": [
      "[0 2 4 6 8]\n"
     ]
    }
   ],
   "source": [
    "# similar to range: take values from (0,10], by 2s\n",
    "# will not be inclusive for last element (10)\n",
    "print(np.arange(0,10,2))"
   ]
  },
  {
   "cell_type": "code",
   "execution_count": 35,
   "metadata": {
    "collapsed": false
   },
   "outputs": [
    {
     "name": "stdout",
     "output_type": "stream",
     "text": [
      "[-1.07395387  1.53100051]\n"
     ]
    }
   ],
   "source": [
    "# sample of 2 from standard normal distribution \n",
    "print(np.random.randn(2))"
   ]
  },
  {
   "cell_type": "markdown",
   "metadata": {},
   "source": [
    "Numpy is a very powerful package with a lot more functions that might be useful to you than you might think. If you're ever in need of a mathematical or statistical function to use, there probably exists something in numpy and a google search will help with this. "
   ]
  },
  {
   "cell_type": "markdown",
   "metadata": {},
   "source": [
    "### Numpy Practice "
   ]
  },
  {
   "cell_type": "markdown",
   "metadata": {},
   "source": [
    "Below are some practice problems on some of the concepts talked about above. Googling is encouraged! \n",
    "\n",
    "\n",
    "1. Create a 3x3 array of random values and a 3x1 array of random values. Multiply them and print the result.\n",
    "2. Create a 5x5 random matrix, reshape it to 25x1, and normalize it. Print the mean and standard deviation, to verify.\n",
    "3. Create a 1000x1 random matrix. Remove values above the 99th percentile.\n",
    "4. Create a 5x5 matrix with row values ranging from 0 to 4.\n",
    "5. Create a 2-dimensional NumPy array of random intengers that has a shape of 3 rows and 4 columns. Force the array to have a low value of 500, and a high value of 5000 (consider researching 'np.random.randint' function for support). Print the mean & median of each column. Then do the same for each row. "
   ]
  },
  {
   "cell_type": "markdown",
   "metadata": {},
   "source": [
    "## NumPy Practice & Beyond:\n",
    "\n",
    "For those of you cruising through this practice, the following link has 100 additional NumPy problems. Some of these problems served as the motivation for the above problems while some become much more advanced. \n",
    "\n",
    "The link to the repository: https://github.com/rougier/numpy-100"
   ]
  }
 ],
 "metadata": {
  "anaconda-cloud": {},
  "kernelspec": {
   "display_name": "Python [default]",
   "language": "python",
   "name": "python2"
  },
  "language_info": {
   "codemirror_mode": {
    "name": "ipython",
    "version": 2
   },
   "file_extension": ".py",
   "mimetype": "text/x-python",
   "name": "python",
   "nbconvert_exporter": "python",
   "pygments_lexer": "ipython2",
   "version": "2.7.13"
  }
 },
 "nbformat": 4,
 "nbformat_minor": 1
}

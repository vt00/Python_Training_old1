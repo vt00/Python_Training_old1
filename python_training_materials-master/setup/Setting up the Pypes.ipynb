{
 "cells": [
  {
   "cell_type": "markdown",
   "metadata": {
    "slideshow": {
     "slide_type": "-"
    }
   },
   "source": [
    "# Python At 84.51˚: Setting Up the Pypes"
   ]
  },
  {
   "cell_type": "markdown",
   "metadata": {
    "slideshow": {
     "slide_type": "-"
    }
   },
   "source": [
    "## Contents:\n",
    "- The Python Servers\n",
    "- Setting up an Exadata connection\n",
    "- Using Jupyter Notebooks\n",
    "- Package Management (advanced)\n",
    "- Virtual Environments (advanced)\n",
    "<br><br><br>"
   ]
  },
  {
   "cell_type": "markdown",
   "metadata": {
    "slideshow": {
     "slide_type": "slide"
    }
   },
   "source": [
    "## The Python Servers\n",
    "\n",
    "Most or all of the servers at 84.51˚ have Python installed, but the designated Python servers are the same as the R servers:\n",
    "<br><br>\n",
    "\n",
    "| Hamilton          | Louisville        |\n",
    "| ----------------- | ----------------- |\n",
    "| ham-lnx-ps-0003   | lou-lnx-ps-0008   |\n",
    "| ham-lnx-ps-0004   | lou-lnx-ps-0009   |\n",
    "| ham-lnx-ps-0005   |                   |\n",
    "| ham-lnx-ps-0006   |                   |\n",
    "| ham-lnx-ps-0016   |                   |\n",
    "| ham-lnx-ps-0017   |                   |\n",
    "\n",
    "\n",
    "<br>\n",
    "<center>* Not technically \"rolled out\" to the public yet</center>\n",
    "<br><br><br><br>"
   ]
  },
  {
   "cell_type": "markdown",
   "metadata": {},
   "source": [
    "## Setting up and Exadata Connection\n",
    "You must initialize and store your Oracle credentials on a server before you can connect to Exadata from it. To do so, log in to the Linux machine and follow these steps:\n",
    "\n",
    "`set_oracle_proxy <workspace> -i exa_uskrgprdh`\n",
    "\n",
    "`set_oracle_password -i exa_uskrgprdh`\n",
    "- you will be prompted to enter your 8451AD password, and then the script will validate and store it."
   ]
  },
  {
   "cell_type": "markdown",
   "metadata": {
    "slideshow": {
     "slide_type": "slide"
    }
   },
   "source": [
    "## Using Jupyter Notebooks\n",
    "#### 1: Calculate your designated port number\n",
    "- If your primary workspace is in AN_RT: 8000+workspace_number\n",
    "- If your primary workspace is in AN_CM: 8500+workspace_number\n",
    "- If your primary workspace is in AN_MP: 8900+workspace_number\n",
    "\n",
    "##### Examples\n",
    "- workspace AN_RT_WS123 --> port 8123\n",
    "- workspace AN_CM_WS29  --> port 8529\n",
    "\n",
    "#### 2: Start your notebooks on the server\n",
    "- Choose a Python server and connect to it (via Putty on Windoze or terminal on Mac).\n",
    "- This interface is the shell. In it, type <br> `port=<port>; echo \"URL -> http://$HOSTNAME:$port\"` <br> where `<port>` is replaced with your personal port number. Press `<enter>` to run.\n",
    "    - Note the string that is printed here. It's the URL you will use to connect to your notebooks. Copy it.\n",
    "    - It will look something like http://ham-lnx-ps-0004:8529\n",
    "![echo_port](assets/echo_port.png)\n",
    "- Again in the shell, run <br> `jupyter-notebook --no-browser --ip=* --port=$port`<br>\n",
    "    - This starts your \"notebook server\", which needs to be running any time you wish to use notebooks.\n",
    "    - This will print text on the screen indicating that the server has started.\n",
    "![jupyter_nb_startup](assets/jupyter_nb_startup.png)\n",
    "\n",
    "#### 3: Connect from your local machine\n",
    "- Remember that URL we copied in step 2? Paste it in a browser on your local machine.\n",
    "- If your browser says it can't find the page:\n",
    "    - change the server name (something like *ham-lnx-ps-0004*) to be suffixed by *.int.8451.com* (*ham-lnx-ps-0004.int.8451.com*)\n",
    "- If the page prompts you for a \"token\" or \"password\":\n",
    "    - Go back to your terminal and look at the notebook server output. Somewhere in there is a string like `token=XXXXXXXXXX`. The string following token will be very long and alphanumeric, something like *d1e9185a827582aad876fb8cf74826288ab89d9878a8249f*. This string (without the `token=` part) is your token. Paste it in your browser where prompted.\n",
    "    \n",
    "#### 4. Welcome to Jupyter Notebooks!\n",
    "- Navigate your files on the server with the GUI on the main page.\n",
    "- Start a new notebook with the \"New\" button in the top right.\n",
    "<br><br><br><br>"
   ]
  },
  {
   "cell_type": "markdown",
   "metadata": {
    "slideshow": {
     "slide_type": "slide"
    }
   },
   "source": [
    "## Advanced: Package Management\n",
    "### Recommended: Using Conda to Install Packages Locally\n",
    "`conda install <package_name>`\n",
    "\n",
    "### Alternative: Using Pip to Install Packages Locally\n",
    "#### From a Package Repository:\n",
    "`pip install --user <package_name> [--index-url=http://pypi.python.org/simple/] [--trusted-host pypi.python.org]`\n",
    "- Use the `index-url` and `trusted_host` flags to specify a particular package repository to download the package from\n",
    "\n",
    "#### From Github:\n",
    "`pip install --user -U git+https://github.com/<user_name>/<package_name>.git`\n",
    "\n",
    "<br><br><br><br>"
   ]
  },
  {
   "cell_type": "markdown",
   "metadata": {
    "slideshow": {
     "slide_type": "slide"
    }
   },
   "source": [
    "## Advanced: Virtual Environments\n",
    "### Why You Should Use Them\n",
    "- A Virtual Environment is a tool to keep the dependencies required by different projects in separate places \n",
    "- It solves the “Project X depends on version 1.x but, Project Y needs version 4.x” dilemma \n",
    "- It keeps your global site-packages directory clean and manageable.\n",
    "- It's almost necessary for code that you plan on using for a long time, since you will not have to update code whenever the admin updates global packages\n",
    "\n",
    "### Creating them\n",
    "- Creates an environment using the same version of python and packages in your current environment, and it will contain your program specified <br> `conda create --name <env-name> <your-program>`\n",
    "- To create a new environment from scratch, you can specify the packages and version of python you want to use <br> `conda create --name <env-name> python=3 <package list>`\n",
    "- For more information: <br> `conda create --help`\n",
    "<br><br><br><br>"
   ]
  }
 ],
 "metadata": {
  "celltoolbar": "Raw Cell Format",
  "kernelspec": {
   "display_name": "Python [conda root]",
   "language": "python",
   "name": "conda-root-py"
  },
  "language_info": {
   "codemirror_mode": {
    "name": "ipython",
    "version": 2
   },
   "file_extension": ".py",
   "mimetype": "text/x-python",
   "name": "python",
   "nbconvert_exporter": "python",
   "pygments_lexer": "ipython2",
   "version": "2.7.13"
  }
 },
 "nbformat": 4,
 "nbformat_minor": 2
}

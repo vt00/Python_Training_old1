{
 "cells": [
  {
   "cell_type": "markdown",
   "metadata": {},
   "source": [
    "# Functions\n",
    "\n",
    "This sections covers the creation and use of user defined functions in python.\n",
    "\n",
    "## What are Functions?\n",
    "\n",
    "Functions take inputs known as `arguments` and return an output.  \n",
    "\n",
    "Functions in python are largely the same as functions in other languages.  Python has useful builtin functions like `max` and `range`. But there are plenty of times when a programmer needs to define his own custom functions. In SAS, defining your own functions is an intermediate/advanced topic. In Python, writing functions is a basic part of the language. To write flexible, readable python code it is critical to be able to write functions.  \n",
    "\n",
    "### Function Syntax\n",
    "\n",
    "Functions are defined using the `def` statement (short for \"define\") followed by the name you want to give your function. In parentheses are inputs (\"arguments\") the function takes, followed by a colon. Similar to if statements and for loops, lines after the colon must be indented. It's best practice to write documentation for each function just after the colon in triple quotes. This helps clarify the purpose of the function both to final users and to yourself as you write the code. After the documentation, do whatever calculations you want in the body of the function, based on the inputs/arguments given. Finally, the output of the function is identified using the `return` statement.  \n",
    "\n",
    "To clarify, here's the generic form a function takes:\n",
    "\n",
    "```python\n",
    "def func_name(arg1, arg2,..., argN):\n",
    "    '''\n",
    "    Documentation here.\n",
    "    '''\n",
    "    do_stuff_with_args\n",
    "    return output\n",
    "```\n",
    "\n",
    "Note, unlike many other languages, it's not necessary to define the type of each argument (e.g. whether it is an integer, a string, etc.) nor the type of the output.  \n",
    "\n",
    "As an example, let's say you want a function that returns the N factorial."
   ]
  },
  {
   "cell_type": "code",
   "execution_count": 16,
   "metadata": {},
   "outputs": [
    {
     "name": "stdout",
     "output_type": "stream",
     "text": [
      "6\n",
      "3628800\n",
      "5040\n"
     ]
    }
   ],
   "source": [
    "#Factorial\n",
    "def fact(n):\n",
    "    '''\n",
    "    Returns n factorial. n is a non-negative integer.\n",
    "    '''\n",
    "    output = 1\n",
    "    for i in range(1, n+1):\n",
    "        output*= i\n",
    "    return output\n",
    "\n",
    "#Print the factorial of several numbesr\n",
    "print(fact(3))\n",
    "print(fact(10))\n",
    "print(fact(7))"
   ]
  },
  {
   "cell_type": "markdown",
   "metadata": {},
   "source": [
    "## Why use Functions?\n",
    "\n",
    "It's important to understand the motivation behind functions because without it you'll probably end up writing some terrible code. The motivation to use functions can be boiled down to two reasons:\n",
    "1. Reusability\n",
    "2. Abstraction\n",
    "\n",
    "### Reusability\n",
    "\n",
    "Functions let you re-use logic you've already written. This makes your programs shorter, which makes them easier to read and write. It also means any change in logic only needs to be updated once in the function rather than scattered throughout your code.  \n",
    "\n",
    "Imagine printing the factorial of 3, 10, and 7 without using functions.\n"
   ]
  },
  {
   "cell_type": "code",
   "execution_count": 20,
   "metadata": {},
   "outputs": [
    {
     "name": "stdout",
     "output_type": "stream",
     "text": [
      "6\n",
      "3628800\n",
      "5040\n"
     ]
    }
   ],
   "source": [
    "#Factorials of 1, 10, and 7 without functions\n",
    "#factorial of 3\n",
    "output = 1\n",
    "for i in range(1, 3+1):\n",
    "    output *= i\n",
    "print(output)\n",
    "\n",
    "#factorial of 10\n",
    "output = 1\n",
    "for i in range(1, 10+1):\n",
    "    output *= i\n",
    "print(output)\n",
    "\n",
    "#factorial of 7\n",
    "output = 1\n",
    "for i in range(1, 7+1):\n",
    "    output *= i\n",
    "print(output)"
   ]
  },
  {
   "cell_type": "markdown",
   "metadata": {},
   "source": [
    "It takes a lot longer to write, and it far more error prone. Imagine we wanted to fix our factorial formula to handle cases of negative integers. Now we have to update the code in three separate places.  \n",
    "\n",
    "Later, when we go over modules, you'll learn how to save code that you can access from anywhere on the computer. You can build libraries of useful functions that you can use in dozens of programs without need to re-invent the wheel each time.  \n",
    "\n",
    "### Abstraction\n",
    "\n",
    "Abstraction in this context means *thinking about the function's high level purpose rather than low level implementation details*. Put another way, it means thinking about the function's **interface** rather than what goes on under the hood.  \n",
    "\n",
    "A function's **interface** is sometimes known as an Application Programming Interface, or API. It can be boiled down to:  \n",
    "* Inputs. What arguments do I need to supply the function?\n",
    "* Outputs. What outputs can I expect the function to return?\n",
    "\n",
    "As long as you understand a function's interface, you can use it without knowing what happens under the hood. For example, we'll later learn that reading a CSV can be as simple as:"
   ]
  },
  {
   "cell_type": "code",
   "execution_count": null,
   "metadata": {
    "collapsed": true
   },
   "outputs": [],
   "source": [
    "table = pd.read_csv('filename')"
   ]
  },
  {
   "cell_type": "markdown",
   "metadata": {},
   "source": [
    "There's a lot that goes into reading and parsing a CSV file, but it's much easier to think at this level without worrying about detailed implementation. Here are a few more examples of abstraction:\n",
    "\n",
    "* Driving a Tesla vs a gas powered car. The API is the same (steering wheel, pedals etc.). The implementation is radically different.\n",
    "* Ordering a burger at a restaurant. Inputs: money, order. Outputs: burger, change. Kitchens probably differ in various restaurants, but users have no idea.\n",
    "\n",
    "A good function should perform a single logical task. It would be bad if, for example, the steering wheel both turned the car *and* changed the volume.\n",
    "\n",
    "#### \"Under the Hood\" Interlude\n",
    "\n",
    "Sometimes talking about ignoring \"what's under the hood\" is a red flag to analysts because they feel like they are about to be shut off from the inner workings of the code. This is important to clarify.  \n",
    "\n",
    "1. Users should have access to your source code to be able to look under the hood if necessary.\n",
    "2. This is intended to be a design principle for the code writer, not a Do Not Enter sign for the code user. If you can't explain your function's interface, you're doing it wrong. Functions help you break your program down into logical parts. If the API isn't logical, your program probably isn't either.\n",
    "3. If we're honest, there are plenty of times we don't know what's going on. E.g. what's really happening when you run PROC SORT?\n",
    "4. Our brains have only so much RAM. We *need* abstraction to be able to code effectively. Are we thinking at the atomic level, cellular level, organism level, societ level? If you're working on a random forest, it might not be helpful to think of each tree, each branch of each tree, or each leaf of each branch all at once.\n",
    "\n",
    "Abstraction is often going to be *nested*. Returning to the restaurant example, when you order fries you don't worry about where the deep frier is. When the employee in the kitchen pushes a button to lower the frozen fries into the boiling grease, he doesn't worry about what software the machine is running on.  \n",
    "\n",
    "Practically, this means your functions will often call other functions. For example, if you wanted to write a combinatorial function (e.g. \"n choose k\"), it makes sense to use our factorial function."
   ]
  },
  {
   "cell_type": "code",
   "execution_count": 23,
   "metadata": {},
   "outputs": [
    {
     "name": "stdout",
     "output_type": "stream",
     "text": [
      "45\n"
     ]
    }
   ],
   "source": [
    "def fact(n):\n",
    "    '''\n",
    "    Returns n factorial. n is a non-negative integer.\n",
    "    '''\n",
    "    output = 1\n",
    "    for i in range(1, n+1):\n",
    "        output*= i\n",
    "    return output\n",
    "\n",
    "def choose(n , k):\n",
    "    '''\n",
    "    Returns the number of unique combinations\n",
    "    of k elements selected from a population of n members.\n",
    "    Formula is n!/(k!*(n-k)!)\n",
    "    '''\n",
    "    return fact(n)/(fact(k)*(fact(n-k)))\n",
    "\n",
    "print(choose(10, 8))"
   ]
  },
  {
   "cell_type": "markdown",
   "metadata": {},
   "source": [
    "#### 84.51 LCM Nightmare Code\n",
    "\n",
    "A SAS macro often takes the place of a function in python. In the code I've read, I often see analysts writing macros for the sake of *reusablity*. For example, I've seen a macro named **%loop** that takes in an LCM ID and performs a long list of DATA steps and PROCs on various tables of data for that particular LCM.  \n",
    "\n",
    "However, I have almost never seen them write functions for the sake of *abstraction*. In the %loop macro, it has a poorly defined API. The input is clear (an LCM ID) but the output is a long list of modified tables. It has no single logical purpose, as evidenced by the meaningless name \"loop\". If a function is hard to name, it's a sign it's poorly thought out.  \n",
    "\n",
    "Some of this is because SAS seems to push its programmers to write long procedural code. Some of this is just habits/style of programmers. Regardless of the cause, it's important not to adopt this when writing python code."
   ]
  },
  {
   "cell_type": "markdown",
   "metadata": {},
   "source": [
    "## Default Arguments\n",
    "\n",
    "You can specify default values for arguments. For example, if you made a `log` function, there might be a `base` argument. It would be sensible to have a default value of the constant `e` so that the function is by defaul a natural log). To set default argument values, the syntax is  \n",
    "`def func(arg1 = default_val, arg2 = default2)`.  \n",
    "\n",
    "Here's an example:"
   ]
  },
  {
   "cell_type": "code",
   "execution_count": 2,
   "metadata": {},
   "outputs": [
    {
     "name": "stdout",
     "output_type": "stream",
     "text": [
      "10\n",
      "25\n"
     ]
    }
   ],
   "source": [
    "def multiply(x, c = 2):\n",
    "    '''\n",
    "    Multiplies x by c. \n",
    "    C is 2 by default.\n",
    "    '''\n",
    "    return x*c\n",
    "\n",
    "print(multiply(5))\n",
    "print(multiply(5, 5))"
   ]
  },
  {
   "cell_type": "markdown",
   "metadata": {},
   "source": [
    "All arguments *without* default values must be defined first. So for example you cannot type:\n",
    "\n",
    "`def func(arg1 = default_value, arg2, arg3)`\n",
    "\n",
    "## Variable Scope\n",
    "\n",
    "Variables have a certain \"scope\" or part of the program you can access them from. Variables defined within a function are not accessible outside that function. Variables defined outside of a function are \"global\" variables. It's possible to access global variables from within a function, but it's best to do this explicitly through the function's arguments, in most cases. If a local variable has the same name as a global one, the local value is used within the function. It does *not* overwrite the global value."
   ]
  },
  {
   "cell_type": "code",
   "execution_count": 6,
   "metadata": {},
   "outputs": [
    {
     "name": "stdout",
     "output_type": "stream",
     "text": [
      "Local variables do not overwrite global ones\n",
      "10\n",
      "5\n",
      "Local variables are not accessible globally. \"y\" is unknown.\n"
     ]
    },
    {
     "ename": "NameError",
     "evalue": "name 'y' is not defined",
     "output_type": "error",
     "traceback": [
      "\u001b[1;31m---------------------------------------------------------------------------\u001b[0m",
      "\u001b[1;31mNameError\u001b[0m                                 Traceback (most recent call last)",
      "\u001b[1;32m<ipython-input-6-4c8842a6957d>\u001b[0m in \u001b[0;36m<module>\u001b[1;34m()\u001b[0m\n\u001b[0;32m     18\u001b[0m \u001b[1;33m\u001b[0m\u001b[0m\n\u001b[0;32m     19\u001b[0m \u001b[0mfoo\u001b[0m\u001b[1;33m(\u001b[0m\u001b[1;36m1\u001b[0m\u001b[1;33m)\u001b[0m\u001b[1;33m\u001b[0m\u001b[0m\n\u001b[1;32m---> 20\u001b[1;33m \u001b[1;32mprint\u001b[0m\u001b[1;33m(\u001b[0m\u001b[0my\u001b[0m\u001b[1;33m)\u001b[0m \u001b[1;31m#returns error\u001b[0m\u001b[1;33m\u001b[0m\u001b[0m\n\u001b[0m\u001b[0;32m     21\u001b[0m \u001b[1;33m\u001b[0m\u001b[0m\n",
      "\u001b[1;31mNameError\u001b[0m: name 'y' is not defined"
     ]
    }
   ],
   "source": [
    "print('Local variables do not overwrite global ones')\n",
    "x = 5\n",
    "\n",
    "def foo(a):\n",
    "    #local x\n",
    "    x = 10\n",
    "    print(x)\n",
    "    return a\n",
    "\n",
    "foo(1) #local\n",
    "print(x) #global\n",
    "\n",
    "print('Local variables are not accessible globally. \"y\" is unknown.')\n",
    "\n",
    "def foo(a):\n",
    "    y = 10\n",
    "    return a\n",
    "\n",
    "foo(1)\n",
    "print(y) #returns error\n",
    "\n"
   ]
  }
 ],
 "metadata": {
  "kernelspec": {
   "display_name": "Python 3",
   "language": "python",
   "name": "python3"
  },
  "language_info": {
   "codemirror_mode": {
    "name": "ipython",
    "version": 3
   },
   "file_extension": ".py",
   "mimetype": "text/x-python",
   "name": "python",
   "nbconvert_exporter": "python",
   "pygments_lexer": "ipython3",
   "version": "3.6.3"
  }
 },
 "nbformat": 4,
 "nbformat_minor": 2
}

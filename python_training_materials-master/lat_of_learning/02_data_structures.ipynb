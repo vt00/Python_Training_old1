{
 "cells": [
  {
   "cell_type": "markdown",
   "metadata": {},
   "source": [
    "# Python Data Structures\n",
    "\n",
    "\n",
    "In this tutorial we will cover python's built-in data structures. A data structure is a way that the computer stores data. The \"data\" it stores usually consists of integers, floats, strings etc. but it can also store other data structures in a nested fashion. In computer science you'll often hear the phrase \"data structures and algorithms.\" This is because some data structures are better suited for certain algorithms. This will become clear as we look at some examples.  \n",
    "\n",
    "The data structures in core python include:  \n",
    "* Lists\n",
    "* Dictionaries\n",
    "* Tuples\n",
    "* Sets\n",
    "\n",
    "## Lists\n",
    "\n",
    "\n",
    "The list stores data as an *ordered sequence of values*. The values can be of any type.  \n",
    "It can be created by writing a comma separated list of values in square brackets. Subsets of the list can be extracted using the same \"slice\" notation as strings. Like strings, the index starts at 0."
   ]
  },
  {
   "cell_type": "code",
   "execution_count": 121,
   "metadata": {},
   "outputs": [
    {
     "name": "stdout",
     "output_type": "stream",
     "text": [
      "['phil', 'gus', 'kelsey', 'rob']\n",
      "[5, 4, 'cheese', 'spam']\n",
      "5\n",
      "spam\n",
      "['cheese', 'spam']\n"
     ]
    }
   ],
   "source": [
    "#Tedious way of tracking analysts\n",
    "analyst0 = 'phil'\n",
    "analyst1 = 'gus'\n",
    "analyst2 = 'kelsey'\n",
    "analyst3 = 'rob'\n",
    "#etc.\n",
    "#Better way of doing it:\n",
    "#Create list with square brackets and commas\n",
    "analysts = ['phil', 'gus', 'kelsey', 'rob']\n",
    "print(analysts)\n",
    "\n",
    "#Elements can be mix of strings, numbers, anything\n",
    "mylist = [5, 4, 'cheese', 'spam']\n",
    "mylist2 = [1, 2, 3, 4, 5]\n",
    "mylist3 = ['a', 'b', 'c', 'd']\n",
    "print(mylist)\n",
    "\n",
    "\n",
    "#Extract items using index or slice notation just like strings\n",
    "print(mylist[0])\n",
    "print(mylist[-1])\n",
    "print(mylist[2:])"
   ]
  },
  {
   "cell_type": "markdown",
   "metadata": {
    "collapsed": true
   },
   "source": [
    "### Changing Lists\n",
    "\n",
    "You can change lists by:\n",
    "* Updating existing values\n",
    "* Deleting values\n",
    "* Adding new values\n",
    "\n",
    "To update the values at index i, just use the typical assignment operator (=).\n",
    "```python\n",
    "mylist[i] = value\n",
    "```\n"
   ]
  },
  {
   "cell_type": "code",
   "execution_count": 122,
   "metadata": {},
   "outputs": [
    {
     "name": "stdout",
     "output_type": "stream",
     "text": [
      "['phil', 'gus', 'kelsey', 'rob']\n",
      "Let's replace rob with heather\n",
      "['phil', 'gus', 'kelsey', 'heather']\n"
     ]
    }
   ],
   "source": [
    "analysts = ['phil', 'gus', 'kelsey', 'rob']\n",
    "print(analysts)\n",
    "print(\"Let's replace rob with heather\")\n",
    "analysts[3] = 'heather'\n",
    "print(analysts)"
   ]
  },
  {
   "cell_type": "markdown",
   "metadata": {},
   "source": [
    "To delete the value at index i, use the `del` statement. Del can be used to delete *any* python variable by typing `del variable`. However, it's usually used for deleting specific elements from a data structure like a list."
   ]
  },
  {
   "cell_type": "code",
   "execution_count": 123,
   "metadata": {},
   "outputs": [
    {
     "name": "stdout",
     "output_type": "stream",
     "text": [
      "['phil', 'kelsey', 'heather']\n"
     ]
    }
   ],
   "source": [
    "del analysts[1]\n",
    "print(analysts)"
   ]
  },
  {
   "cell_type": "markdown",
   "metadata": {},
   "source": [
    "To add a new element to the end of the list use the `append` method.  \n",
    "`mylist.append(new_value)`  \n",
    "\n",
    "You can concatenate two lists together using the + operator.  \n",
    "`big_list = list1 + list2`\n",
    "\n",
    "To insert a new element somewhere other than the end at index i use the `insert` method.  \n",
    "`mylist.insert(i, new_value)`\n",
    "\n",
    "\n",
    "\n",
    "List methods.\n",
    "Nesting lists.\n",
    "Mutable.\n"
   ]
  },
  {
   "cell_type": "code",
   "execution_count": 124,
   "metadata": {},
   "outputs": [
    {
     "name": "stdout",
     "output_type": "stream",
     "text": [
      "['phil', 'kelsey', 'heather', 'corinne']\n",
      "['phil', 'kelsey', 'rob', 'heather', 'corinne']\n",
      "['phil', 'kelsey', 'rob', 'heather', 'corinne', 'gus', 'kevin']\n"
     ]
    }
   ],
   "source": [
    "analysts.append('corinne')\n",
    "print(analysts)\n",
    "analysts.insert(2, 'rob')\n",
    "print(analysts)\n",
    "analysts += ['gus', 'kevin']\n",
    "print(analysts)"
   ]
  },
  {
   "cell_type": "markdown",
   "metadata": {},
   "source": [
    "### Nesting Lists\n",
    "\n",
    "It's also possible to nest lists. Just append a list as if it were a regular variable. There is no special syntax."
   ]
  },
  {
   "cell_type": "code",
   "execution_count": 125,
   "metadata": {},
   "outputs": [
    {
     "name": "stdout",
     "output_type": "stream",
     "text": [
      "[['patrick', 'grant'], ['phil', 'kelsey', 'rob', 'heather', 'corinne', 'gus', 'kevin']]\n",
      "\n",
      "Employee Groups:\n",
      "['patrick', 'grant']\n",
      "['phil', 'kelsey', 'rob', 'heather', 'corinne', 'gus', 'kevin']\n"
     ]
    }
   ],
   "source": [
    "managers = ['patrick', 'grant']\n",
    "\n",
    "#List of lists. In this case, employees grouped by type\n",
    "employee_groups = [managers, analysts]\n",
    "print(employee_groups)\n",
    "#Loop over each employee group and print it individually\n",
    "print('\\nEmployee Groups:')\n",
    "for group in employee_groups:\n",
    "    print(group)"
   ]
  },
  {
   "cell_type": "markdown",
   "metadata": {},
   "source": [
    "### List Methods\n",
    "\n",
    "Any time you see `list.function(x)` the function is called a \"method.\" We'll get more into that later. For now, here are the various list methods:\n",
    "\n",
    "list.append(x)  \n",
    "    Add an item to the end of the list\n",
    "\n",
    "list.extend(L)  \n",
    "    Extend the list by appending all the items in the given list; equivalent to a = a + L\n",
    "\n",
    "list.insert(i, x)  \n",
    "    Insert an item at a given position. The first argument is the index of the element before which to insert, so a.insert(0, x) inserts at the front of the list, and a.insert(len(a), x) is equivalent to a.append(x).\n",
    "\n",
    "list.remove(x)  \n",
    "    Remove the first item from the list whose value is x. It is an error if there is no such item.\n",
    "\n",
    "list.pop(i)  \n",
    "    Remove the item at the given position in the list, and return it. If no index is specified, a.pop() removes and returns the last item in the list.\n",
    "\n",
    "list.index(x)  \n",
    "    Return the index in the list of the first item whose value is x. It is an error if there is no such item.\n",
    "\n",
    "list.count(x)  \n",
    "    Return the number of times x appears in the list.\n",
    "\n",
    "list.sort(cmp=None, key=None, reverse=False)  \n",
    "    Sort the items of the list in place (the arguments can be used for sort customization, for now the most important one is \"reverse\").\n",
    "\n",
    "list.reverse()  \n",
    "    Reverse the elements of the list.\n",
    "    \n",
    "    \n",
    " Here are the examples:"
   ]
  },
  {
   "cell_type": "code",
   "execution_count": 126,
   "metadata": {},
   "outputs": [
    {
     "name": "stdout",
     "output_type": "stream",
     "text": [
      "['lancelot', 'galahad', 'robin', 'bedevere']\n"
     ]
    }
   ],
   "source": [
    "a = ['lancelot', 'galahad', 'robin']\n",
    "b = ['arthur', 'patsy']\n",
    "\n",
    "a.append('bedevere')\n",
    "print(a)"
   ]
  },
  {
   "cell_type": "code",
   "execution_count": 127,
   "metadata": {},
   "outputs": [
    {
     "name": "stdout",
     "output_type": "stream",
     "text": [
      "['lancelot', 'galahad', 'robin', 'bedevere', 'arthur', 'patsy']\n"
     ]
    }
   ],
   "source": [
    "a.extend(b)\n",
    "print(a)"
   ]
  },
  {
   "cell_type": "code",
   "execution_count": 128,
   "metadata": {},
   "outputs": [
    {
     "name": "stdout",
     "output_type": "stream",
     "text": [
      "['lancelot', 'galahad', 'bedevere', 'arthur', 'patsy']\n"
     ]
    }
   ],
   "source": [
    "a.remove('robin')\n",
    "print(a)"
   ]
  },
  {
   "cell_type": "code",
   "execution_count": 129,
   "metadata": {},
   "outputs": [
    {
     "data": {
      "text/plain": [
       "'patsy'"
      ]
     },
     "execution_count": 129,
     "metadata": {},
     "output_type": "execute_result"
    }
   ],
   "source": [
    "a.pop()"
   ]
  },
  {
   "cell_type": "code",
   "execution_count": 130,
   "metadata": {},
   "outputs": [
    {
     "name": "stdout",
     "output_type": "stream",
     "text": [
      "['lancelot', 'galahad', 'bedevere', 'arthur']\n"
     ]
    },
    {
     "data": {
      "text/plain": [
       "0"
      ]
     },
     "execution_count": 130,
     "metadata": {},
     "output_type": "execute_result"
    }
   ],
   "source": [
    "print(a)\n",
    "a.index('lancelot')"
   ]
  },
  {
   "cell_type": "code",
   "execution_count": 131,
   "metadata": {},
   "outputs": [
    {
     "name": "stdout",
     "output_type": "stream",
     "text": [
      "['lancelot', 'galahad', 'bedevere', 'arthur', 'lancelot']\n"
     ]
    },
    {
     "data": {
      "text/plain": [
       "2"
      ]
     },
     "execution_count": 131,
     "metadata": {},
     "output_type": "execute_result"
    }
   ],
   "source": [
    "a.append('lancelot')\n",
    "print(a)\n",
    "a.count('lancelot')"
   ]
  },
  {
   "cell_type": "code",
   "execution_count": 132,
   "metadata": {},
   "outputs": [
    {
     "name": "stdout",
     "output_type": "stream",
     "text": [
      "['arthur', 'bedevere', 'galahad', 'lancelot', 'lancelot']\n"
     ]
    }
   ],
   "source": [
    "a.sort()\n",
    "print(a)"
   ]
  },
  {
   "cell_type": "code",
   "execution_count": 133,
   "metadata": {},
   "outputs": [
    {
     "name": "stdout",
     "output_type": "stream",
     "text": [
      "['lancelot', 'lancelot', 'galahad', 'bedevere', 'arthur']\n"
     ]
    }
   ],
   "source": [
    "a.reverse()\n",
    "print(a)"
   ]
  },
  {
   "cell_type": "markdown",
   "metadata": {},
   "source": [
    "### List Comprehensions\n",
    "\n",
    "Python has a unique method of concisely and flexibly creating lists. The method is called a \"list comprehension.\" List comprehensions are used when you have one or more existing lists and you want to create a new list by modifying and/or filtering the values of those lists.  \n",
    "\n",
    "The syntax is:  \n",
    "`new_list = [modified_item for item in old_list if condition]`  \n",
    "\n",
    "This will make sense with examples. Suppose we hate seeing the knights with lowercase names and we want to use the `string.capitalize` method on each element in our list to capitalize the first letter. We could do it like this:"
   ]
  },
  {
   "cell_type": "code",
   "execution_count": 134,
   "metadata": {},
   "outputs": [
    {
     "name": "stdout",
     "output_type": "stream",
     "text": [
      "['Lancelot', 'Galahad', 'Robin', 'Arthur', 'Patsy']\n"
     ]
    }
   ],
   "source": [
    "knights = ['lancelot', 'galahad', 'robin', 'arthur', 'patsy']\n",
    "correct = []\n",
    "for k in knights:\n",
    "    correct.append(k.capitalize())\n",
    "print(correct)"
   ]
  },
  {
   "cell_type": "markdown",
   "metadata": {},
   "source": [
    "Or we could do it in a \"pythonic\" way using a list comprehension like this:"
   ]
  },
  {
   "cell_type": "code",
   "execution_count": 135,
   "metadata": {},
   "outputs": [
    {
     "name": "stdout",
     "output_type": "stream",
     "text": [
      "['Lancelot', 'Galahad', 'Robin', 'Arthur', 'Patsy']\n"
     ]
    }
   ],
   "source": [
    "correct = [k.capitalize() for k in knights]\n",
    "print(correct)"
   ]
  },
  {
   "cell_type": "markdown",
   "metadata": {},
   "source": [
    "A list comprehension is basically a for loop that's been smashed into a single line. It often looks strange at first, but most programmers quickly come to love it because it is so concise.  \n",
    "\n",
    "Let's say we wanted to do the same thing, but exclude any knights whose names start with a vowel. The traditional for loop looks like this:"
   ]
  },
  {
   "cell_type": "code",
   "execution_count": 136,
   "metadata": {},
   "outputs": [
    {
     "name": "stdout",
     "output_type": "stream",
     "text": [
      "['Lancelot', 'Galahad', 'Robin', 'Patsy']\n"
     ]
    }
   ],
   "source": [
    "vowels = 'aeiou'\n",
    "correct = []\n",
    "for k in knights:\n",
    "    if k[0] not in vowels:\n",
    "        correct.append(k.capitalize())\n",
    "print(correct)"
   ]
  },
  {
   "cell_type": "markdown",
   "metadata": {},
   "source": [
    "The list comprehension way is:"
   ]
  },
  {
   "cell_type": "code",
   "execution_count": 137,
   "metadata": {},
   "outputs": [
    {
     "name": "stdout",
     "output_type": "stream",
     "text": [
      "['Lancelot', 'Galahad', 'Robin', 'Patsy']\n"
     ]
    }
   ],
   "source": [
    "vowels = 'aeiou'\n",
    "correct = [k.capitalize() for k in knights if k[0] not in vowels]\n",
    "print(correct)"
   ]
  },
  {
   "cell_type": "markdown",
   "metadata": {},
   "source": [
    "**Practice Problem**  \n",
    "Using a list comprehension, try creating a list of the first three letters of each knight's name only for those knights whose names are less than 8 letters long. Build a regular for loop first if necessary.  \n",
    ".  \n",
    ".  \n",
    ".  \n",
    ".  \n",
    ".  \n",
    ".  \n",
    "Below is the list comprehension:"
   ]
  },
  {
   "cell_type": "code",
   "execution_count": 138,
   "metadata": {},
   "outputs": [
    {
     "name": "stdout",
     "output_type": "stream",
     "text": [
      "['gal', 'rob', 'art', 'pat']\n"
     ]
    }
   ],
   "source": [
    "correct = [k[:3] for k in knights if len(k) < 8]\n",
    "print(correct)"
   ]
  },
  {
   "cell_type": "markdown",
   "metadata": {},
   "source": [
    "### Nested List Comprehensions\n",
    "\n",
    "Finally, list comprehensions can be nested. The simplest way is to create the inner list comprehension first, then build the outer one around it. Let's make simple matrix of numbers:"
   ]
  },
  {
   "cell_type": "code",
   "execution_count": 139,
   "metadata": {},
   "outputs": [
    {
     "data": {
      "text/plain": [
       "[[1, 4, 9, 16, 25, 36, 49, 64, 81, 100],\n",
       " [1, 4, 9, 16, 25, 36, 49, 64, 81, 100],\n",
       " [1, 4, 9, 16, 25, 36, 49, 64, 81, 100],\n",
       " [1, 4, 9, 16, 25, 36, 49, 64, 81, 100],\n",
       " [1, 4, 9, 16, 25, 36, 49, 64, 81, 100],\n",
       " [1, 4, 9, 16, 25, 36, 49, 64, 81, 100],\n",
       " [1, 4, 9, 16, 25, 36, 49, 64, 81, 100],\n",
       " [1, 4, 9, 16, 25, 36, 49, 64, 81, 100],\n",
       " [1, 4, 9, 16, 25, 36, 49, 64, 81, 100],\n",
       " [1, 4, 9, 16, 25, 36, 49, 64, 81, 100]]"
      ]
     },
     "execution_count": 139,
     "metadata": {},
     "output_type": "execute_result"
    }
   ],
   "source": [
    "#Nested comprehension:\n",
    "matrix = [[i**2 for i in range(1,11)] for j in range(10)]\n",
    "\n",
    "#Conceptually, here's what we did:\n",
    "inner = [i**2 for i in range(1, 11)]\n",
    "outer = [inner for j in range(10)]\n",
    "\n",
    "matrix"
   ]
  },
  {
   "cell_type": "markdown",
   "metadata": {},
   "source": [
    "Sometimes though, the inner loop *depends* on what's happening in the outer loop, so we can't always build them independently. For example, below is a multiplication table. The inner loop uses `j` which is a variable in the outer loop:"
   ]
  },
  {
   "cell_type": "code",
   "execution_count": 140,
   "metadata": {},
   "outputs": [
    {
     "data": {
      "text/plain": [
       "[[1, 2, 3, 4, 5, 6, 7, 8, 9, 10],\n",
       " [2, 4, 6, 8, 10, 12, 14, 16, 18, 20],\n",
       " [3, 6, 9, 12, 15, 18, 21, 24, 27, 30],\n",
       " [4, 8, 12, 16, 20, 24, 28, 32, 36, 40],\n",
       " [5, 10, 15, 20, 25, 30, 35, 40, 45, 50],\n",
       " [6, 12, 18, 24, 30, 36, 42, 48, 54, 60],\n",
       " [7, 14, 21, 28, 35, 42, 49, 56, 63, 70],\n",
       " [8, 16, 24, 32, 40, 48, 56, 64, 72, 80],\n",
       " [9, 18, 27, 36, 45, 54, 63, 72, 81, 90],\n",
       " [10, 20, 30, 40, 50, 60, 70, 80, 90, 100]]"
      ]
     },
     "execution_count": 140,
     "metadata": {},
     "output_type": "execute_result"
    }
   ],
   "source": [
    "table = [[i*j for i in range(1,11)] for j in range(1,11)]\n",
    "table"
   ]
  },
  {
   "cell_type": "code",
   "execution_count": 141,
   "metadata": {},
   "outputs": [
    {
     "data": {
      "text/plain": [
       "[[1, 2, 3, 4, 5, 6, 7, 8, 9, 10],\n",
       " [2, 4, 6, 8, 10, 12, 14, 16, 18, 20],\n",
       " [3, 6, 9, 12, 15, 18, 21, 24, 27, 30],\n",
       " [4, 8, 12, 16, 20, 24, 28, 32, 36, 40],\n",
       " [5, 10, 15, 20, 25, 30, 35, 40, 45, 50],\n",
       " [6, 12, 18, 24, 30, 36, 42, 48, 54, 60],\n",
       " [7, 14, 21, 28, 35, 42, 49, 56, 63, 70],\n",
       " [8, 16, 24, 32, 40, 48, 56, 64, 72, 80],\n",
       " [9, 18, 27, 36, 45, 54, 63, 72, 81, 90],\n",
       " [10, 20, 30, 40, 50, 60, 70, 80, 90, 100]]"
      ]
     },
     "execution_count": 141,
     "metadata": {},
     "output_type": "execute_result"
    }
   ],
   "source": [
    "#Or, here's a nested loop implementation if you prefer\n",
    "table = []\n",
    "for i in range(1, 11):\n",
    "    row = []\n",
    "    for j in range(1,11):\n",
    "        row.append(i*j)\n",
    "    table.append(row)\n",
    "table"
   ]
  },
  {
   "cell_type": "markdown",
   "metadata": {},
   "source": [
    "Notice how many more lines of code there are with two explicit for loops?"
   ]
  },
  {
   "cell_type": "markdown",
   "metadata": {},
   "source": [
    "\n",
    "## Dictionaries\n",
    "\n",
    "In addition to lists, dictionaries are the most important data structures in python to know. Rather than storing data as an *ordered sequence* like lists, dictionaries store data as key-value pairs when order is irrelevant. Dictionaries are created using squiggly brackets with colons separating the keys and values like so: `{key: value, key2: value2}`  \n",
    "\n",
    "For example, if we wanted to store data about a person in a list, we could make a list like so:"
   ]
  },
  {
   "cell_type": "code",
   "execution_count": 142,
   "metadata": {
    "collapsed": true
   },
   "outputs": [],
   "source": [
    "#List will contain [name, company, city, school, age, language]\n",
    "person = ['kevin', '84.51', 'Cincinnati', 'Hillsdale', 28, 'Python']"
   ]
  },
  {
   "cell_type": "markdown",
   "metadata": {},
   "source": [
    "Let's say we want to add \"salary\" to the list. We would use the `append` method. Actually, instead let's add \"car\"."
   ]
  },
  {
   "cell_type": "code",
   "execution_count": 143,
   "metadata": {},
   "outputs": [
    {
     "name": "stdout",
     "output_type": "stream",
     "text": [
      "['kevin', '84.51', 'Cincinnati', 'Hillsdale', 28, 'Python', 'Honda']\n",
      "Hillsdale\n"
     ]
    }
   ],
   "source": [
    "person.append('Honda')\n",
    "print(person)\n",
    "\n",
    "#If I want to know the school I type person[3]\n",
    "print(person[3])"
   ]
  },
  {
   "cell_type": "markdown",
   "metadata": {},
   "source": [
    "But everyone here is in Cincinnati, so it's a useless field. Let's delete it."
   ]
  },
  {
   "cell_type": "code",
   "execution_count": 144,
   "metadata": {},
   "outputs": [
    {
     "name": "stdout",
     "output_type": "stream",
     "text": [
      "28\n",
      "Hillsdale\n"
     ]
    }
   ],
   "source": [
    "del person[2]\n",
    "\n",
    "#Now if I want to know the school, I can't type person[3] any more\n",
    "print(person[3])\n",
    "#Now 3 is the language. Anything past 2 is in a different place.\n",
    "print(person[2])"
   ]
  },
  {
   "cell_type": "markdown",
   "metadata": {},
   "source": [
    "Deleting city changed all my indices. Furthermore, it's difficult to remember that 3 was school and 4 was language.  \n",
    "\n",
    "With a dictionary we can use memorable, meaningful keys. We access those keys similar to lists using  \n",
    "`dictionary[key]`"
   ]
  },
  {
   "cell_type": "code",
   "execution_count": 145,
   "metadata": {},
   "outputs": [
    {
     "name": "stdout",
     "output_type": "stream",
     "text": [
      "kevin\n",
      "Hillsdale\n"
     ]
    }
   ],
   "source": [
    "person = {\n",
    "    'name': 'kevin',\n",
    "    'company': '84.51',\n",
    "    'city': 'Cincinnati',\n",
    "    'school': 'Hillsdale',\n",
    "    'age': 28,\n",
    "    'language': 'Python'    \n",
    "}\n",
    "\n",
    "\n",
    "print(person['name'])\n",
    "del person['city']\n",
    "print(person['school'])\n"
   ]
  },
  {
   "cell_type": "markdown",
   "metadata": {},
   "source": [
    "If you have a collection of key-value pairs, you can turn them into a dictionary using the `dict` constructor."
   ]
  },
  {
   "cell_type": "code",
   "execution_count": 146,
   "metadata": {},
   "outputs": [
    {
     "name": "stdout",
     "output_type": "stream",
     "text": [
      "{'galahad': 'the pure', 'robin': 'the brave'}\n"
     ]
    }
   ],
   "source": [
    "knights = [['galahad', 'the pure'], ['robin', 'the brave']]\n",
    "\n",
    "knight_dict = dict(knights)\n",
    "print(knight_dict)"
   ]
  },
  {
   "cell_type": "markdown",
   "metadata": {},
   "source": [
    "Doing a for loop over a dictionary loops over its keys by default."
   ]
  },
  {
   "cell_type": "code",
   "execution_count": 147,
   "metadata": {},
   "outputs": [
    {
     "name": "stdout",
     "output_type": "stream",
     "text": [
      "school: Hillsdale\n",
      "name: kevin\n",
      "language: Python\n",
      "company: 84.51\n",
      "age: 28\n"
     ]
    }
   ],
   "source": [
    "for key in person:\n",
    "    print('%s: %s' %(key, person[key]))"
   ]
  },
  {
   "cell_type": "markdown",
   "metadata": {},
   "source": [
    "Note that the *order* of keys is not stored. Even if you create a dictionary by listing \"name\" first, then \"company\" second etc. python does not track the order of these keys. It only tracks the name. Never rely on dictionary keys to be ordered in a particular way.  \n",
    "\n",
    "### Changing Dictionaries\n",
    "\n",
    "Similar to lists, you can change dictionaries by:\n",
    "* Updating existing values\n",
    "* Deleting values\n",
    "* Adding new values\n",
    "\n",
    "To update the values at key k, just use the typical assignment operator (=).\n",
    "dict_a[k] = value\n"
   ]
  },
  {
   "cell_type": "code",
   "execution_count": 148,
   "metadata": {},
   "outputs": [
    {
     "name": "stdout",
     "output_type": "stream",
     "text": [
      "{'galahad': 'the pure', 'robin': 'the brave'}\n",
      "{'arthur': 'the king', 'galahad': 'the pure', 'robin': 'the brave'}\n"
     ]
    }
   ],
   "source": [
    "print(knight_dict)\n",
    "\n",
    "knight_dict['arthur'] = 'the king'\n",
    "\n",
    "print(knight_dict)"
   ]
  },
  {
   "cell_type": "markdown",
   "metadata": {},
   "source": [
    "Deleting values, like lists, is done using the `del` statement."
   ]
  },
  {
   "cell_type": "code",
   "execution_count": 149,
   "metadata": {},
   "outputs": [
    {
     "name": "stdout",
     "output_type": "stream",
     "text": [
      "{'arthur': 'the king', 'galahad': 'the pure'}\n"
     ]
    }
   ],
   "source": [
    "del knight_dict['robin']\n",
    "print(knight_dict)"
   ]
  },
  {
   "cell_type": "markdown",
   "metadata": {},
   "source": [
    "Adding new values is done by simply assigning a new key.  \n",
    "\n",
    "`dict_a[new_key] = value`  \n",
    "\n",
    "Unlike lists, it makes no sense to think of adding elements to the \"end\" or \"middle\" or a dictionary. Therefore there is no `append` or `insert` method for dictionaries."
   ]
  },
  {
   "cell_type": "markdown",
   "metadata": {},
   "source": [
    "### Nesting Dictionaries\n",
    "\n",
    "\n",
    "Dictionaries can be nested just like lists. They can also be nested within lists (or lists within dictionaries). This gives rise to very flexible data structures.  \n",
    "\n",
    "In the example below, we have a list of people. Each person is represented as a dictionary. Within the dictionary, the \"languages\" key takes on a list of values. So we have a list within a dictionary within a list."
   ]
  },
  {
   "cell_type": "code",
   "execution_count": 150,
   "metadata": {},
   "outputs": [
    {
     "name": "stdout",
     "output_type": "stream",
     "text": [
      "kevin\n",
      "\tPython\n",
      "\tR\n",
      "\tSQL\n",
      "patrick\n",
      "\tSAS\n",
      "\tSQL\n",
      "\tPerl\n"
     ]
    }
   ],
   "source": [
    "people = [\n",
    "    {'name': 'kevin',\n",
    "    'position': 'analyst',\n",
    "    'languages': ['Python', 'R', 'SQL']\n",
    "    },\n",
    "    {'name': 'patrick',\n",
    "    'position': 'manager',\n",
    "    'languages': ['SAS', 'SQL', 'Perl']\n",
    "    }\n",
    "    ]\n",
    "\n",
    "for person in people:\n",
    "    print person['name']\n",
    "    for lang in person['languages']:\n",
    "        print '\\t' + lang\n",
    "        "
   ]
  },
  {
   "cell_type": "markdown",
   "metadata": {},
   "source": [
    "### Dictionary Methods\n",
    "\n",
    "\n",
    "The most common dictionary methods you'll use are:\n",
    "\n",
    "d.has_key(k)  returns True if k is a key in d. Equivalent to \"k in d\"  \n",
    "\n",
    "d.get(k)  returns the value associated with key k, or None if k doesn't exist. Get is useful if you're not sure that key k exists and you don't want to raise an error.  \n",
    "\n",
    "d.iteritems()  Used to iterate over the key, value pairs via a for loop, rather than iterate just over keys. See example below.  \n",
    "\n",
    "d.keys()  Returns a list of the keys of the dictionary.  \n",
    "\n",
    "d.values() Returns a list of the values of the dictionary.  \n",
    "\n",
    "Here are some examples:"
   ]
  },
  {
   "cell_type": "code",
   "execution_count": 151,
   "metadata": {},
   "outputs": [
    {
     "name": "stdout",
     "output_type": "stream",
     "text": [
      "False\n",
      "the brave\n",
      "None\n",
      "arthur is known as the king\n",
      "galahad is known as the pure\n",
      "robin is known as the brave\n",
      "\n",
      "\n",
      "['arthur', 'galahad', 'robin']\n",
      "['the king', 'the pure', 'the brave']\n"
     ]
    }
   ],
   "source": [
    "knights = {'arthur': 'the king', 'galahad': 'the pure', 'robin': 'the brave'}\n",
    "\n",
    "print(knights.has_key('lancelot'))\n",
    "\n",
    "print(knights.get('robin'))\n",
    "print(knights.get('lancelot'))\n",
    "\n",
    "for k, v in knights.iteritems():\n",
    "    print(\"%s is known as %s\" %(k, v))\n",
    "    \n",
    "print('\\n')\n",
    "print(knights.keys())\n",
    "print(knights.values())"
   ]
  },
  {
   "cell_type": "markdown",
   "metadata": {},
   "source": []
  },
  {
   "cell_type": "markdown",
   "metadata": {
    "collapsed": true
   },
   "source": [
    "### Dictionary Comprehensions\n",
    "\n",
    "Like lists, dictionaries also can be created using the concise syntax of a \"comprehension.\" The syntax is very similar to that of list comprehensions. It typically looks like this:  \n",
    "\n",
    "`{key: func(key) for key in list if condition}`  \n",
    "\n",
    "In the example below, we have a list of knights. We want to know the length of the name of each knight and store it in a dictionary where the key is the name of the knight and the value is the length.  \n"
   ]
  },
  {
   "cell_type": "code",
   "execution_count": 1,
   "metadata": {},
   "outputs": [
    {
     "name": "stdout",
     "output_type": "stream",
     "text": [
      "{'arthur': 6, 'galahad': 7, 'robin': 5, 'lancelot': 8, 'patsy': 5}\n"
     ]
    }
   ],
   "source": [
    "knights = ['lancelot', 'robin', 'galahad', 'arthur', 'patsy']\n",
    "#Dictionary Comprehension\n",
    "\n",
    "knight_dict = {k: len(k) for k in knights}\n",
    "print(knight_dict)"
   ]
  },
  {
   "cell_type": "markdown",
   "metadata": {},
   "source": [
    "As with lists, we can apply conditions to filter elements of our dictionary. Suppose we want to include knights whose names do not begin with a vowel."
   ]
  },
  {
   "cell_type": "code",
   "execution_count": 2,
   "metadata": {},
   "outputs": [
    {
     "name": "stdout",
     "output_type": "stream",
     "text": [
      "{'galahad': 7, 'robin': 5, 'lancelot': 8, 'patsy': 5}\n"
     ]
    }
   ],
   "source": [
    "vowels = 'aeiou'\n",
    "knight_dict = {k: len(k) for k in knights if not k[0] in vowels}\n",
    "print(knight_dict)"
   ]
  },
  {
   "cell_type": "markdown",
   "metadata": {},
   "source": [
    "Finally, we can nest dictionary comprehensions inside other dictionary comprehensions (or even inside list comprehensions). Let's create a dictionary whose keys are knights' names, and whose values are dictionaries. The inner dictionary will consist of each knight's name, along with a boolean value indicating whether that knight's name is longer or shorter than the name of the knight in the parent dictionary. This will be clearer with an example.\n"
   ]
  },
  {
   "cell_type": "code",
   "execution_count": 6,
   "metadata": {},
   "outputs": [
    {
     "name": "stdout",
     "output_type": "stream",
     "text": [
      "arthur {'galahad': False, 'robin': True, 'lancelot': False}\n",
      "galahad {'arthur': True, 'robin': True, 'lancelot': False}\n",
      "robin {'arthur': False, 'galahad': False, 'lancelot': False}\n",
      "lancelot {'arthur': True, 'galahad': True, 'robin': True}\n"
     ]
    }
   ],
   "source": [
    "knights = ['lancelot', 'robin', 'galahad', 'arthur']\n",
    "\n",
    "name_comparison = {k1: {k2: len(k1) > len(k2) for k2 in knights if k2 != k1} for k1 in knights}\n",
    "\n",
    "for k, v in name_comparison.iteritems():\n",
    "    print k, v"
   ]
  },
  {
   "cell_type": "markdown",
   "metadata": {},
   "source": [
    "## A Brief Intro to Reading Files\n",
    "\n",
    "Reading and parsing files (e.g. CSVs) is a large topic, but for now we will cover the absolute bare minimum.  \n",
    "\n",
    "To read a file we first create a file object using the `open` function. We then use the `read()` method of the file. For example:\n",
    "\n",
    "```python\n",
    "f = open('filename.txt')\n",
    "data = f.read()\n",
    "f.close()\n",
    "\n",
    "f\n",
    "'col1,col2,col3\\n1,2,3\\n4,5,6\\n7,8,9\\n'\n",
    "```\n",
    "\n",
    "It is important to use the close() method after reading the data.  \n",
    "\n",
    "Files also have the convenient `readlines()` method that will automatically read each line as a separate string in a list.\n",
    "\n",
    "```python\n",
    "f = open('filename.txt')\n",
    "data = f.readlines()\n",
    "f.close()\n",
    "\n",
    "f\n",
    "['col1,col2,col3\\n', '1,2,3\\n', '4,5,6\\n', '7,8,9\\n']\n",
    "```\n",
    "\n",
    "Note each line is now a separate string in a list. The line still contains the \"newline\" character `\\n`. It might be desirable to `strip` off that character from each string using a list comprehension."
   ]
  },
  {
   "cell_type": "code",
   "execution_count": null,
   "metadata": {
    "collapsed": true
   },
   "outputs": [],
   "source": []
  }
 ],
 "metadata": {
  "kernelspec": {
   "display_name": "Python 3",
   "language": "python",
   "name": "python3"
  },
  "language_info": {
   "codemirror_mode": {
    "name": "ipython",
    "version": 3
   },
   "file_extension": ".py",
   "mimetype": "text/x-python",
   "name": "python",
   "nbconvert_exporter": "python",
   "pygments_lexer": "ipython3",
   "version": "3.6.3"
  }
 },
 "nbformat": 4,
 "nbformat_minor": 2
}

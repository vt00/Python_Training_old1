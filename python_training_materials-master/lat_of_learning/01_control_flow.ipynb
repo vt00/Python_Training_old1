{
 "cells": [
  {
   "cell_type": "markdown",
   "metadata": {},
   "source": [
    "# Control Flow\n",
    "\n",
    "In this tutorial we will review control flow in python. Control flow consists of two topics:  \n",
    "\n",
    "* If Statements\n",
    "* Loops\n",
    "\n",
    "One major difference between python and other languages is python uses **whitespace** (i.e. indentation) to indicate the beginning and end of control flow statements. There are no squiggly bracket {} or end/end if statements. Control flow statements end when the indendation ends.\n",
    "\n",
    "## If Statements\n",
    "\n",
    "If statements use **if, elif, else** and the colon (:). The syntax is:\n",
    "\n",
    "```python\n",
    "if condition:\n",
    "    statements to execute\n",
    "elif other_condition:\n",
    "    other statements to execute\n",
    "else:\n",
    "    other statements when first conditions fail\n",
    "```\n",
    "\n",
    "It's not necessary to use `elif` or `else`. An `if` statement can work alone.\n",
    "\n",
    "Here's an example of if/elif/else:"
   ]
  },
  {
   "cell_type": "code",
   "execution_count": 2,
   "metadata": {},
   "outputs": [
    {
     "name": "stdout",
     "output_type": "stream",
     "text": [
      "Here's an IPA\n"
     ]
    }
   ],
   "source": [
    "age = 28\n",
    "\n",
    "if age >= 21:\n",
    "    print(\"Here's an IPA\")\n",
    "elif age > 18:\n",
    "    print(\"Here's a red bull\")\n",
    "else:\n",
    "    print(\"Here's some milk.\")"
   ]
  },
  {
   "cell_type": "markdown",
   "metadata": {},
   "source": [
    "## Loops\n",
    "\n",
    "Python has two types of loops.\n",
    "\n",
    "* For Loops\n",
    "* While Loops\n",
    "\n",
    "### For Loops\n",
    "\n",
    "A `for` loop allows the programmer to consider each item in a collection of items, one at a time. It will iterate over each element and then stop when it runs out of elements. The syntax of a `for` loop is similar to an `if` statement in that it requires a colon and indentation.\n",
    "\n",
    "```python\n",
    "for item in collection_of_items:\n",
    "    do_something_with_item\n",
    "```\n",
    "\n",
    "For example, we can think of the string \"Unladen Swallow\" as a collection of individual letters. To loop over the letters and print them, we would write:"
   ]
  },
  {
   "cell_type": "code",
   "execution_count": 7,
   "metadata": {},
   "outputs": [
    {
     "name": "stdout",
     "output_type": "stream",
     "text": [
      "U\n",
      "n\n",
      "l\n",
      "a\n",
      "d\n",
      "e\n",
      "n\n",
      " \n",
      "S\n",
      "w\n",
      "a\n",
      "l\n",
      "l\n",
      "o\n",
      "w\n"
     ]
    }
   ],
   "source": [
    "message = 'Unladen Swallow'\n",
    "for letter in message:\n",
    "    print(letter)"
   ]
  },
  {
   "cell_type": "markdown",
   "metadata": {},
   "source": [
    "### The Enumerate Function\n",
    "\n",
    "One convenience function is `enumerate` which loops over a collection of elements by looking at both the index of the element as well as the element itself. The syntax is:\n",
    "\n",
    "```python\n",
    "for index, element in enumerate(collection_of_items):\n",
    "    do_something\n",
    "```\n",
    "\n",
    "For example:"
   ]
  },
  {
   "cell_type": "code",
   "execution_count": 11,
   "metadata": {},
   "outputs": [
    {
     "name": "stdout",
     "output_type": "stream",
     "text": [
      "Letter S is at index 0\n",
      "Letter i is at index 1\n",
      "Letter r is at index 2\n",
      "Letter   is at index 3\n",
      "Letter R is at index 4\n",
      "Letter o is at index 5\n",
      "Letter b is at index 6\n",
      "Letter i is at index 7\n",
      "Letter n is at index 8\n"
     ]
    }
   ],
   "source": [
    "message = 'Sir Robin'\n",
    "for i, letter in enumerate(message):\n",
    "    print('Letter %s is at index %d' %(letter, i))"
   ]
  },
  {
   "cell_type": "markdown",
   "metadata": {},
   "source": [
    "### The Range Function\n",
    "\n",
    "The most common tool used in `for` loops is the `range` function. It creates a sequence of integers within any range that you specify. By default, the range starts at 0 and increments by 1 up to, but not including, the number you specify. For example, to print the first 3 letters of \"Holy Hand Grenade\" type:"
   ]
  },
  {
   "cell_type": "code",
   "execution_count": 6,
   "metadata": {},
   "outputs": [
    {
     "name": "stdout",
     "output_type": "stream",
     "text": [
      "H\n",
      "o\n",
      "l\n"
     ]
    }
   ],
   "source": [
    "message = 'Holy Hand Grenade'\n",
    "for i in range(3):\n",
    "    print(message[i])\n"
   ]
  },
  {
   "cell_type": "markdown",
   "metadata": {},
   "source": [
    "It's important to remember that `range` stops *before* the stopping point you specify. It's set up this way because python indexes from 0. This way, typing `range(3)` give three elements [0, 1, 2], `range(4)` gives four elements and so on.  \n",
    "\n",
    "The `range` function also lets you:\n",
    "* Start somewhere other than 0.\n",
    "* Increment by integers other than 1\n",
    "* Start high and increment backward to a lower number. In this case, a negative increment value must be specified.\n",
    "\n",
    "The general syntax is:  \n",
    "`range(start, stop, step)`\n",
    "\n",
    "Here are examples:"
   ]
  },
  {
   "cell_type": "code",
   "execution_count": 10,
   "metadata": {},
   "outputs": [
    {
     "name": "stdout",
     "output_type": "stream",
     "text": [
      "Start at 2 instead of 0\n",
      "2\n",
      "3\n",
      "4\n",
      "5\n",
      "Increment from 0 to 7 by twos instead of ones\n",
      "0\n",
      "2\n",
      "4\n",
      "6\n",
      "Start at 10 and increment backward to 5\n",
      "10\n",
      "9\n",
      "8\n",
      "7\n",
      "6\n",
      "Start 10 and increment backward to 5 by twos\n",
      "10\n",
      "8\n",
      "6\n"
     ]
    }
   ],
   "source": [
    "print('Start at 2 instead of 0')\n",
    "for i in range(2, 6):\n",
    "    print(i)\n",
    "\n",
    "print('Increment from 0 to 7 by twos instead of ones')\n",
    "for i in range(0, 7, 2):\n",
    "    print(i)\n",
    "\n",
    "print('Start at 10 and increment backward to 5')\n",
    "for i in range(10, 5, -1):\n",
    "    print(i)\n",
    "    \n",
    "print('Start 10 and increment backward to 5 by twos')\n",
    "for i in range(10, 5, -2):\n",
    "    print(i)"
   ]
  },
  {
   "cell_type": "markdown",
   "metadata": {},
   "source": [
    "## While Loops\n",
    "\n",
    "\n",
    "While loops continue to execute while some condition is true. They're useful in cases when, unlike for loops, the total number of iterations is not known in advance. The syntax is:  \n",
    "\n",
    "```python\n",
    "while condition:\n",
    "    do_stuff\n",
    "```\n",
    "\n",
    "Here's a simplistic example:"
   ]
  },
  {
   "cell_type": "code",
   "execution_count": 16,
   "metadata": {},
   "outputs": [
    {
     "name": "stdout",
     "output_type": "stream",
     "text": [
      "10\n",
      "11\n",
      "12\n",
      "13\n",
      "14\n"
     ]
    }
   ],
   "source": [
    "i = 10\n",
    "while i < 15:\n",
    "    print(i)\n",
    "    i += 1"
   ]
  },
  {
   "cell_type": "markdown",
   "metadata": {},
   "source": [
    "The following slightly more realistic example shows how an algorithm might continue to refine its estimate until some acceptable threshold of error has been reached. This kind of approach is common in, for example, gradient descent."
   ]
  },
  {
   "cell_type": "code",
   "execution_count": 15,
   "metadata": {},
   "outputs": [
    {
     "name": "stdout",
     "output_type": "stream",
     "text": [
      "First Guess: 10,\tFirst Error: 25\n",
      "New Guess: 9,\tNew Error: 16\n",
      "New Guess: 8,\tNew Error: 9\n",
      "New Guess: 7,\tNew Error: 4\n",
      "New Guess: 6,\tNew Error: 1\n",
      "Final Guess: 6\n"
     ]
    }
   ],
   "source": [
    "#Keep refining guess until error is within acceptable threshold\n",
    "answer = 5\n",
    "guess = 10\n",
    "threshold = 3\n",
    "error = (guess - answer)**2\n",
    "print('First Guess: %d,\\tFirst Error: %d' %(guess, error))\n",
    "while error > threshold:\n",
    "    if guess > answer:\n",
    "        guess -= 1\n",
    "    else:\n",
    "        guess += 1\n",
    "    error = (guess - answer)**2\n",
    "    print('New Guess: %d,\\tNew Error: %d' %(guess, error))\n",
    "print('Final Guess: %d' %guess)"
   ]
  },
  {
   "cell_type": "markdown",
   "metadata": {},
   "source": [
    "Be careful using while loops because it is possible to accidentally start at infinite loop. For example:\n",
    "\n",
    "```python\n",
    "i = 10\n",
    "while i < 15:\n",
    "    print(i)\n",
    "    #forgot to increment i by 1\n",
    "    #will print \"10\" forever\n",
    "```\n",
    "\n",
    "\n",
    "## `Continue` and `Break` Statements\n",
    "\n",
    "The `continue` statement allows the programmer to skip the current iteration of the loop. The loop will continue to the next iteration and skip all other statements. Here's a simple example where we do not print any vowels in a string."
   ]
  },
  {
   "cell_type": "code",
   "execution_count": 18,
   "metadata": {},
   "outputs": [
    {
     "name": "stdout",
     "output_type": "stream",
     "text": [
      "Lower case: s\tUpper case: S\n",
      "Lower case: p\tUpper case: P\n",
      "Lower case: m\tUpper case: M\n",
      "Lower case: l\tUpper case: L\n",
      "Lower case: t\tUpper case: T\n"
     ]
    }
   ],
   "source": [
    "message = 'Spamalot'\n",
    "for letter in message:\n",
    "    if letter.lower() in 'aeiou':\n",
    "        continue\n",
    "    print('Lower case: %s\\tUpper case: %s' %(letter.lower(), letter.upper()))"
   ]
  },
  {
   "cell_type": "markdown",
   "metadata": {},
   "source": [
    "The `break` statement kills the current loop entirely, both the current iteration and all subsequent iterations.\n",
    "For example, if you wanted to test whether 'a' was in a message, you could loop over each letter and test whether it is an 'a'. However, it might not be necessary to loop over every single letter in the message. If the letter 'a' is found once, it's not necessary to test the rest of the letters. You can \"break\" out of the loop immediately to save computational time.  \n",
    "\n",
    "Please note, in the example below it would be much better to write `'a' in message`, but we will write out a loop for the sake of explaining a `break` statement."
   ]
  },
  {
   "cell_type": "code",
   "execution_count": 24,
   "metadata": {},
   "outputs": [
    {
     "name": "stdout",
     "output_type": "stream",
     "text": [
      "\"a\" is in message\n"
     ]
    }
   ],
   "source": [
    "#The letter 'a' appears twice, but we can stop looping over letters\n",
    "#as soon as we hit the first 'a'\n",
    "message = 'Spamalot'\n",
    "for letter in message:\n",
    "    if letter == 'a':\n",
    "        print('\"a\" is in message')\n",
    "        break\n",
    "#Note: it would be better to simply run \"'m' in message\"\n",
    "#But we're doing it this way to show the break statement"
   ]
  }
 ],
 "metadata": {
  "kernelspec": {
   "display_name": "Python 3",
   "language": "python",
   "name": "python3"
  },
  "language_info": {
   "codemirror_mode": {
    "name": "ipython",
    "version": 3
   },
   "file_extension": ".py",
   "mimetype": "text/x-python",
   "name": "python",
   "nbconvert_exporter": "python",
   "pygments_lexer": "ipython3",
   "version": "3.6.3"
  }
 },
 "nbformat": 4,
 "nbformat_minor": 2
}

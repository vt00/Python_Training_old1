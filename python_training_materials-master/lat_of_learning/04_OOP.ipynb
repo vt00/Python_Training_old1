{
 "cells": [
  {
   "cell_type": "markdown",
   "metadata": {
    "collapsed": true
   },
   "source": [
    "# Python Object Oriented Programming\n",
    "\n",
    "\n",
    "  \n",
    "\n",
    "The basic idea behind OOP isn't difficult to understand. However, the *motivation* is often unclear to newcomers and difficult to explain.  \n",
    "\n",
    "To help motivate OOP, I'll start with the familiar topic of *functions*.\n",
    "\n",
    "\n",
    "## What are Functions?\n",
    "\n",
    "Functions take inputs known as \"arguments\" and return an output.  \n",
    "\n",
    "Functions in python are largely the same as functions in other languages. Python has useful builtin functions like max and range. But there are plenty of times when a programmer needs to define his own custom functions.  \n",
    "\n",
    "I assume most people here are familiar with writing functions. As a reminder, here's the basic form in python:\n",
    "\n"
   ]
  },
  {
   "cell_type": "code",
   "execution_count": 2,
   "metadata": {
    "collapsed": true
   },
   "outputs": [],
   "source": [
    "def func_name(arg1, arg2, argN):\n",
    "    '''\n",
    "    Documentation here.\n",
    "    '''\n",
    "    do_stuff_with_args\n",
    "    return output"
   ]
  },
  {
   "cell_type": "markdown",
   "metadata": {},
   "source": [
    "## Why use Functions?\n",
    "\n",
    "It's important to understand the motivation behind functions because without it you'll probably end up writing some terrible code. The motivation to use functions can be boiled down to two reasons:  \n",
    "* Reusability\n",
    "* Abstraction\n",
    "\n",
    "### Reusability\n",
    "\n",
    "Functions let you re-use logic you've already written. This makes your programs shorter, which makes them easier to read and write. It also means any change in logic only needs to be updated once in the function rather than scattered throughout your code.  \n",
    "\n",
    "Suppose we wanted to calculate the factorial of 10. We might do this:\n"
   ]
  },
  {
   "cell_type": "code",
   "execution_count": 3,
   "metadata": {},
   "outputs": [
    {
     "name": "stdout",
     "output_type": "stream",
     "text": [
      "3628800\n"
     ]
    }
   ],
   "source": [
    "#factorial of 10\n",
    "output = 1\n",
    "for i in range(1, 10+1):\n",
    "    output *= i\n",
    "print(output)"
   ]
  },
  {
   "cell_type": "markdown",
   "metadata": {},
   "source": [
    "Great! That's the answer we're looking for.  \n",
    "\n",
    "But now imagine printing the factorial of 3, 10, and 7 without using functions."
   ]
  },
  {
   "cell_type": "code",
   "execution_count": 4,
   "metadata": {},
   "outputs": [
    {
     "name": "stdout",
     "output_type": "stream",
     "text": [
      "6\n",
      "3628800\n",
      "5040\n"
     ]
    }
   ],
   "source": [
    "#Factorials of 1, 10, and 7 without functions\n",
    "#factorial of 3\n",
    "output = 1\n",
    "for i in range(1, 3+1):\n",
    "    output *= i\n",
    "print(output)\n",
    "\n",
    "#factorial of 10\n",
    "output = 1\n",
    "for i in range(1, 10+1):\n",
    "    output *= i\n",
    "print(output)\n",
    "\n",
    "#factorial of 7\n",
    "output = 1\n",
    "for i in range(1, 7+1):\n",
    "    output *= i\n",
    "print(output)"
   ]
  },
  {
   "cell_type": "markdown",
   "metadata": {},
   "source": [
    "It takes a long time to write, and is very error prone. Imagine we wanted to fix our factorial formula to handle cases of negative integers. Now we have to update the code in three separate places.  \n",
    "\n",
    "Instead, we could write a single function and call it three times:"
   ]
  },
  {
   "cell_type": "code",
   "execution_count": 5,
   "metadata": {},
   "outputs": [
    {
     "name": "stdout",
     "output_type": "stream",
     "text": [
      "6\n",
      "3628800\n",
      "5040\n"
     ]
    }
   ],
   "source": [
    "def fact(n):\n",
    "    '''\n",
    "    Returns n factorial. n is a non-negative integer.\n",
    "    '''\n",
    "    output = 1\n",
    "    for i in range(1, n+1):\n",
    "        output*= i\n",
    "    return output\n",
    "\n",
    "#Print the factorial of several numbesr\n",
    "print(fact(3))\n",
    "print(fact(10))\n",
    "print(fact(7))"
   ]
  },
  {
   "cell_type": "markdown",
   "metadata": {},
   "source": [
    "Much faster, and less error prone!  \n",
    "\n",
    "### Abstraction\n",
    "\n",
    "Abstraction in this context means thinking about the function's high level purpose rather than low level implementation details. Put another way, it means thinking about the function's interface rather than what goes on under the hood.  \n",
    "\n",
    "A function's interface is sometimes known as an **Application Programming Interface**, or API. It can be boiled down to:  \n",
    "* Inputs. What arguments do I need to supply the function?\n",
    "* Outputs. What outputs can I expect the function to return?  \n",
    "\n",
    "As long as you understand a function's interface, you can use it without knowing what happens under the hood. For example, we'll later learn that reading a CSV can be as simple as:"
   ]
  },
  {
   "cell_type": "code",
   "execution_count": null,
   "metadata": {
    "collapsed": true
   },
   "outputs": [],
   "source": [
    "table = pd.read_csv('filename')"
   ]
  },
  {
   "cell_type": "markdown",
   "metadata": {},
   "source": [
    "There's a lot that goes into reading and parsing a CSV file, but it's much easier to think at this level without worrying about detailed implementation. Here are a few more examples of abstraction:\n",
    "* Driving a Tesla vs a gas powered car. The API is the same (steering wheel, pedals etc.). The implementation is radically different.  \n",
    "* Ordering a burger at a restaurant. Inputs: money, order. Outputs: burger, change. Kitchens probably differ in various restaurants, but users have no idea.  \n",
    "\n",
    "A good function should perform a single logical task. It would be bad if, for example, the steering wheel both turned the car and changed the volume.  \n",
    "\n",
    "Abstractions help us think at different levels at different times. Our brains have only so much RAM. We need abstraction to be able to code effectively. Are we thinking at the atomic level, cellular level, organism level, societ level? If you're working on a random forest, it might not be helpful to think of each tree, each branch of each tree, or each leaf of each branch all at once.  \n",
    "\n",
    "Abstraction is often going to be nested. Returning to the restaurant example, when you order fries you don't worry about where the deep frier is. When the employee in the kitchen pushes a button to lower the frozen fries into the boiling grease, he doesn't worry about what software the machine is running on.\n",
    "Practically, this means your functions will often call other functions. For example, if you wanted to write a combinatorial function (e.g. \"n choose k\"), it makes sense to use our factorial function."
   ]
  },
  {
   "cell_type": "code",
   "execution_count": 7,
   "metadata": {},
   "outputs": [
    {
     "name": "stdout",
     "output_type": "stream",
     "text": [
      "45\n"
     ]
    }
   ],
   "source": [
    "def choose(n , k):\n",
    "    '''\n",
    "    Returns the number of unique combinations\n",
    "    of k elements selected from a population of n members.\n",
    "    Formula is n!/(k!*(n-k)!)\n",
    "    '''\n",
    "    return fact(n)/(fact(k)*(fact(n-k)))\n",
    "\n",
    "print(choose(10, 8))\n"
   ]
  },
  {
   "cell_type": "markdown",
   "metadata": {},
   "source": [
    "We were able to code up *n choose k*, a fairly complex idea, with two relatively straightforward functions.  \n",
    "\n",
    "\n",
    "## Isn't This About OOP?\n",
    "\n",
    "Back to Object Oriented Programming.  \n",
    "\n",
    "OOP takes functions to the next level. That is, it allows for even greater levels of **abstraction** and **reusability** than standalone functions.  \n",
    "\n",
    "OOP *bundles several related functions and data together into what is called an \"object.\"* Object Oriented Programming is a way of thinking about our programs as a set of objects that interact with each other. It’s meant to mimic objects in the real world, which is a very natural way for humans to think. Objects have attributes or facts about the object. Objects also can perform various functions, which we call methods.  \n",
    "\n",
    "Since we're at 84.51, let's use the example of a Logistic Regression and a Decision Tree. Using ordinary functions, our program might look like this:"
   ]
  },
  {
   "cell_type": "code",
   "execution_count": 32,
   "metadata": {
    "collapsed": true
   },
   "outputs": [],
   "source": [
    "#Here are the model parameters and data\n",
    "model_1 = 'logistic'\n",
    "param_1 = 0.1 #Regularization term\n",
    "\n",
    "model_2 = 'decision_tree'\n",
    "param_2 = 5 #Max depth of tree\n",
    "\n",
    "X = [[1, 2, 3], \n",
    "     [2, 4, 6], \n",
    "     [3, 6, 9], \n",
    "     [4, 8, 12], \n",
    "     [5, 10, 15]] #Some fake training data\n",
    "y = [0,0,0,1,1] #Some fake target data\n",
    "\n"
   ]
  },
  {
   "cell_type": "markdown",
   "metadata": {},
   "source": [
    "And suppose we train the model using a train_model function like this:"
   ]
  },
  {
   "cell_type": "code",
   "execution_count": 10,
   "metadata": {
    "collapsed": true
   },
   "outputs": [],
   "source": [
    "#assume \"train_model\" is a function that runs whatever model we indicate\n",
    "coefficients_1 = train_model(model_1, param_1, X, y)\n",
    "coefficients_2 = train_model(model_2, param_2, X, y)"
   ]
  },
  {
   "cell_type": "markdown",
   "metadata": {},
   "source": [
    "Note that the first set of coefficients are actual coefficients from a logistic. But the second set is a trained decision tree. This is already a bit odd, but just assume the function can handle it for now.  \n",
    "\n",
    "Now let's make some predictions:"
   ]
  },
  {
   "cell_type": "code",
   "execution_count": null,
   "metadata": {
    "collapsed": true
   },
   "outputs": [],
   "source": [
    "pred_1 = predict_model(coefficients_1, X)\n",
    "pred_2 = predict_model(coefficients_2, X)"
   ]
  },
  {
   "cell_type": "markdown",
   "metadata": {},
   "source": [
    "Presumably the output here will be a vector of predictions that are similar to y.  \n",
    "\n",
    "At this point we might want to compare the training error rates of the two models. Presumably now we have to pass the results, pred_1 and pred_2, to some other function. Now was were the parameters associated with each model? We might have forgotten by now... and what if we wanted to run 3, 4 or dozens of models?  \n",
    "\n",
    "The point I'm making is there are lots of functions, constants, lists, and outputs all floating around in this common space. These are all highly conceptually related, so it might make sense to make as single \"LogisticRegresion\" object that contains:\n",
    "* Model parameters (like regularization terms)\n",
    "* A \"fit\" method, which is a function that learns the relationship between X and y\n",
    "* A vector of learned coefficients that resulted from the training\n",
    "* A \"predict\" method, which is a function that predicts y_hat based on new X observations\n",
    "* A training (or testing) model score that tells us how well our model is doing\n",
    "\n",
    "As it turns out, this exists in scikit-learn."
   ]
  },
  {
   "cell_type": "code",
   "execution_count": 33,
   "metadata": {},
   "outputs": [
    {
     "data": {
      "text/plain": [
       "array([0, 0, 1, 1, 1])"
      ]
     },
     "execution_count": 33,
     "metadata": {},
     "output_type": "execute_result"
    }
   ],
   "source": [
    "from sklearn.linear_model import LogisticRegression\n",
    "\n",
    "lr = LogisticRegression('l2', C = 1)\n",
    "lr.fit(X, y)\n",
    "y_hat = lr.predict(X)"
   ]
  },
  {
   "cell_type": "code",
   "execution_count": 46,
   "metadata": {},
   "outputs": [
    {
     "data": {
      "text/plain": [
       "0.80000000000000004"
      ]
     },
     "execution_count": 46,
     "metadata": {},
     "output_type": "execute_result"
    }
   ],
   "source": [
    "lr.score(X, y)"
   ]
  },
  {
   "cell_type": "markdown",
   "metadata": {},
   "source": [
    "In summary, the LogisticRession is an **Object**.  \n",
    "It has the following \"**methods**\" (which are functions attached to the object):\n",
    "* fit --trains a model\n",
    "* predict --runs a model on new data\n",
    "* score --gives an accuracy score for the model\n",
    "* and many more...\n",
    "\n",
    "It also has the following \"**attributes**\" (which are data attached to the object):\n",
    "* C --a regularization parameter\n",
    "* coef_ --the learned model coefficients\n",
    "* classes_ --the unique classes in the classification problem\n",
    "* and many more...\n",
    "\n",
    "\n",
    "## Classes vs Objects\n",
    "\n",
    "In the interest of code re-use, I'm going to borrow a \"car\" example that I've used before.  \n",
    "\n",
    "### Car Class\n",
    "\n",
    "A “Class” is a blueprint for a specific object. It’s like the idea of a car. I can say “I love cars” and you know generally what I’m talking about. I’m not talking about a specific car, but the idea of cars in general.  \n",
    "\n",
    "When defining a Car class, we define what attributes is has and what methods (functionality) it can perform. For example, it will have the attributes make, model, color, mileage, location, and fuel_level among others. It will be able to perform methods (functions) like drive, stop, and honk. We access these “attributes” and “methods” using dot-notation. To get the mileage we would type:  \n",
    "\n",
    "    Car.mileage\n",
    "\n",
    "To honk the horn we would use:  \n",
    "\n",
    "    Car.honk()\n",
    "\n",
    "Note we can distinguish attributes and methods because methods use parentheses. Methods are simply functions, which is why they use parentheses like functions.  \n",
    "\n",
    "### Car Object\n",
    "So far we’ve only talked about Cars in general (i.e. the car “class”). Now let’s talk about creating a specific car (i.e. a car “object”).  \n",
    "To create a specific car with particular make, model etc. we would type the following:  \n",
    "\n",
    "```python\n",
    "\n",
    "    kevins_car = Car(make = “honda”, model = “civic”, color = “black”, mileage = 65000, location = [-84.51, 39.10], fuel_level = 0.75)\n",
    "\n",
    "```\n",
    "\n",
    "To create a much cooler car, it might look like this:  \n",
    "\n",
    "```python\n",
    "\n",
    "    elons_car = Car(make = “tesla”, model = “s”, color = “red” …etc.)\n",
    "\n",
    "```\n",
    "\n",
    "We now have two specific car objects, each of which is a member of the Car class. In particular, we have one standard car called kevins_car and one amazing car called elons_car.  \n",
    "To make kevins_car honk we type:  \n",
    "\n",
    "```python\n",
    "\n",
    "    kevins_car.honk()\n",
    "\n",
    "```\n",
    "\n",
    "Some methods like honk() don’t change any of the object’s attributes. It simply honks, and that’s that. Other methods might actually change the attributes of the car. For example if we type:  \n",
    "```python\n",
    "\n",
    "    kevins_car.drive()\n",
    "\n",
    "```\n",
    "\n",
    "That will change the value of kevins_car.location. It should also increase the value of kevins_car.mileage and decrease the value of kevins_car.fuel_level.\n",
    "\n"
   ]
  },
  {
   "cell_type": "code",
   "execution_count": 43,
   "metadata": {},
   "outputs": [
    {
     "name": "stdout",
     "output_type": "stream",
     "text": [
      "Statistics before driving:\n",
      "65000\n",
      "0.75\n",
      "[-84.51, 39.1]\n",
      "Statistics after driving\n",
      "65001\n",
      "0.65\n",
      "[-84.61, 39.1]\n"
     ]
    }
   ],
   "source": [
    "class Car():\n",
    "    def __init__(self, make, model, color, mileage, location, fuel_level):\n",
    "        self.make = make\n",
    "        self.model = model\n",
    "        self.color = color\n",
    "        self.mileage = mileage\n",
    "        self.location = location\n",
    "        self.fuel_level = fuel_level\n",
    "        \n",
    "    def honk(self):\n",
    "        print(\"HONK!\")\n",
    "  \n",
    "    def drive(self):\n",
    "        #Simplify and assume car always drives east\n",
    "        self.location[0] -= 0.1\n",
    "        self.mileage += 1\n",
    "        self.fuel_level -= 0.1\n",
    "\n",
    "\n",
    "kevins_car = Car(make = \"honda\", model = \"civic\", color = \"black\", mileage = 65000,\n",
    "                 location = [-84.51, 39.10], fuel_level = 0.75)\n",
    "\n",
    "print(\"Statistics before driving:\")\n",
    "print(kevins_car.mileage)\n",
    "print(kevins_car.fuel_level)\n",
    "print(kevins_car.location)\n",
    "\n",
    "print(\"Statistics after driving\")\n",
    "kevins_car.drive()\n",
    "print(kevins_car.mileage)\n",
    "print(kevins_car.fuel_level)\n",
    "print(kevins_car.location)"
   ]
  },
  {
   "cell_type": "markdown",
   "metadata": {},
   "source": [
    "## Inheritance and Subclasses\n",
    "\n",
    "OOP allows you to modify existing classes through a concept called **inheritance**.  \n",
    "\n",
    "With inheritance, you have a superclass that has certain functionality and a subclass that modifies or adds some functionality, but otherwise retains all the characteristics of the superclass.  \n",
    "\n",
    "To continue with our car example, if we wanted to make a CompactCar or FullSizeCar class, rather than re-build the entire class from the ground up, we can \"inherit\" from the basic Car class. This automatically gives us all of the functionality of a car. We can then modify just the functionality we need."
   ]
  },
  {
   "cell_type": "code",
   "execution_count": 45,
   "metadata": {},
   "outputs": [
    {
     "name": "stdout",
     "output_type": "stream",
     "text": [
      "HONK!\n",
      "Beep!\n",
      "AOOOGGAAA!!!\n"
     ]
    }
   ],
   "source": [
    "class CompactCar(Car):\n",
    "    '''\n",
    "    A subclass of car that is smaller, and therefore has\n",
    "    a quieter honk method.\n",
    "    '''\n",
    "    def honk(self):\n",
    "        print(\"Beep!\")\n",
    "        \n",
    "        \n",
    "        \n",
    "\n",
    "class FullSizeCar(Car):\n",
    "    '''\n",
    "    A subclass of car that is larger, and therefore has\n",
    "    a louder honk method.\n",
    "    '''\n",
    "\n",
    "    def honk(self):\n",
    "        print(\"AOOOGGAAA!!!\")\n",
    "        \n",
    "\n",
    "little_car = CompactCar(make = \"honda\", model = \"civic\", color = \"black\", mileage = 65000,\n",
    "                 location = [-84.51, 39.10], fuel_level = 0.75)\n",
    "\n",
    "big_car = FullSizeCar(make = \"honda\", model = \"civic\", color = \"black\", mileage = 65000,\n",
    "                 location = [-84.51, 39.10], fuel_level = 0.75)\n",
    "\n",
    "\n",
    "kevins_car.honk()\n",
    "little_car.honk()\n",
    "big_car.honk()"
   ]
  }
 ],
 "metadata": {
  "kernelspec": {
   "display_name": "Python 3",
   "language": "python",
   "name": "python3"
  },
  "language_info": {
   "codemirror_mode": {
    "name": "ipython",
    "version": 3
   },
   "file_extension": ".py",
   "mimetype": "text/x-python",
   "name": "python",
   "nbconvert_exporter": "python",
   "pygments_lexer": "ipython3",
   "version": "3.6.3"
  }
 },
 "nbformat": 4,
 "nbformat_minor": 2
}

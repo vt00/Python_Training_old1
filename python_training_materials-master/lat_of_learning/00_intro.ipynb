{
 "cells": [
  {
   "cell_type": "markdown",
   "metadata": {},
   "source": [
    "# Basic Python\n",
    "This is a tutorial of the basic elements of the python programming language. We'll discuss how to create and execute python files, review basic syntax and basic python types.\n",
    "\n",
    "## Creating a Python File\n",
    "A python file is simply a regular text file except it has the extension \".py\" typically.  \n",
    "\n",
    "Create a new text file and rename it **hello.py**. If you're working on Windows, be sure the filename isn't accidentally \"hello.py.txt\" as this is not actually a python file. In the example below, you will create the classic \"Hello World\" program.  \n",
    "To open the file, right click on it and click \"edit with IDLE.\" Then type the following:\n",
    "\n",
    "    print(\"Hello World!\")\n",
    "\n",
    "and save the file.  \n",
    "\n",
    "## Executing a Python File\n",
    "There are two common ways of executing python files.\n",
    "1. Interactive mode (using and IDE)\n",
    "2. Batch Mode (Command Line)\n",
    "\n",
    "### Interactive Mode (with IDE)\n",
    "The IDE (Interactive Development Environment) we will use is called IDLE (a joke about Eric Idle and IDE). Once you open a file in IDLE, you can execute it by either clicking the run menu then clicking Run Module or you can use the shortcut key F5.  \n",
    "\n",
    "The IDE has a graphical user interface (GUI) that allows you to point and click. IDLE is not the only IDE you can use for python. However we're using it because it's simple, installed by default, and it's written in python. It's basically just a text editor with some additional features like syntax highlighting, tab completion, and the ability to execute python files directly.  \n",
    "\n",
    "Try running **hello.py** in IDLE by either clicking run>>Run Module or by typing F5. A new window will pop up and you should see this:"
   ]
  },
  {
   "cell_type": "code",
   "execution_count": 1,
   "metadata": {},
   "outputs": [
    {
     "name": "stdout",
     "output_type": "stream",
     "text": [
      "Hello World!\n"
     ]
    }
   ],
   "source": [
    "print(\"Hello World!\")"
   ]
  },
  {
   "cell_type": "markdown",
   "metadata": {},
   "source": [
    "The new window that popped up contains the **interactive shell**. It allows you to type python commands that are executed immediately. This is an incredibly powerful tool in python that you don't get with languages like C or Java.  \n",
    "\n",
    "Try typing the following into the interactive shell:"
   ]
  },
  {
   "cell_type": "code",
   "execution_count": 2,
   "metadata": {},
   "outputs": [
    {
     "name": "stdout",
     "output_type": "stream",
     "text": [
      "11\n"
     ]
    }
   ],
   "source": [
    "a = 5\n",
    "b = 6\n",
    "c = a + b\n",
    "print(c)"
   ]
  },
  {
   "cell_type": "markdown",
   "metadata": {},
   "source": [
    "We'll get into the details of the syntax shortly, but for now the important point is that the shell allows you to execute commands and get results immediately.  \n",
    "This is incredibly useful for debugging and testing out ideas. It speeds up the development process in a major way.  \n",
    "\n",
    "It's important to remember the difference between the text editor and the interactive shell.\n",
    "* The text editor allows you to write a series of instructions to be executed.\n",
    "* The interactive shell allows you to execute a single command and get immediate feedback \"interactively\"\n",
    "\n",
    "### Batch Mode (Command Line)\n",
    "The other main way to execute a python file is to batch it from the command line. Once you have a finished python file, this is typically how you would execute it.  \n",
    "\n",
    "There are many options when executing from the command line, but the basic command is:\n",
    "\n",
    "    python filename.py  \n",
    "\n",
    "Pretty simple. As the file executes, you'll see any print/logging statements appear in the terminal. If you open the command prompt (cmd.exe) where hello.py is saved and type python hello.py then you will see the message Hello World! printed to the console. It should execute very quickly since it's a simple program.  \n",
    "\n",
    "We'll dive deeper into batch mode later. For now we'll mainly use IDLE.\n",
    "\n",
    "\n",
    "## Basic Syntax\n",
    "Python is known for clean, readable syntax. It makes writing code much easier and, more importantly, it also makes reading and understanding others' code much easier.  \n",
    "\n",
    "### Declaring Variables\n",
    "\n",
    "Python requires no semicolons to end a statement. A new line is sufficient. So, declaring a variable called \"a\" and setting it equal to 5 is simply:\n",
    "\n",
    "    a = 5\n",
    "\n",
    "You can also declare with expressions like:  \n",
    "\n",
    "    a = 2+3  \n",
    "\n",
    "No need to end with semicolons. There's also no need to put everything in a main function or a Hello class, or a DATA step. Simply typing variables declarations into a file will do the job.  \n",
    "\n",
    "Variable names must start with a letter (not a number) and can contain letters, numbers, and underscores. It can't include special characters like $. They can start with underscores but, aside from certain special cases, I would avoid doing this. Unlike SAS, variable names are case-sensitive so name isn't the same as Name.  \n",
    "\n",
    "From a style standpoint, it's best to name python variables all lower case. Multi-word names separated with underscores. Not everyone follows this, but most do.  \n",
    "\n",
    "**Good Examples**"
   ]
  },
  {
   "cell_type": "code",
   "execution_count": 3,
   "metadata": {
    "collapsed": true
   },
   "outputs": [],
   "source": [
    "a = 5\n",
    "my_job = \"analyst\"\n",
    "other_job = \"developer\""
   ]
  },
  {
   "cell_type": "markdown",
   "metadata": {},
   "source": [
    "**Bad Examples**"
   ]
  },
  {
   "cell_type": "code",
   "execution_count": 4,
   "metadata": {
    "collapsed": true
   },
   "outputs": [],
   "source": [
    "A = 5\n",
    "MyJob = \"analyst\"\n",
    "Other_Job = \"developer\""
   ]
  },
  {
   "cell_type": "markdown",
   "metadata": {},
   "source": [
    "**Illegal Examples**"
   ]
  },
  {
   "cell_type": "code",
   "execution_count": 5,
   "metadata": {},
   "outputs": [
    {
     "ename": "SyntaxError",
     "evalue": "invalid syntax (<ipython-input-5-1f49320f82cc>, line 1)",
     "output_type": "error",
     "traceback": [
      "\u001b[0;36m  File \u001b[0;32m\"<ipython-input-5-1f49320f82cc>\"\u001b[0;36m, line \u001b[0;32m1\u001b[0m\n\u001b[0;31m    6th_job = \"analyst\"\u001b[0m\n\u001b[0m          ^\u001b[0m\n\u001b[0;31mSyntaxError\u001b[0m\u001b[0;31m:\u001b[0m invalid syntax\n"
     ]
    }
   ],
   "source": [
    "6th_job = \"analyst\"\n",
    "my_job$ = \"developer\""
   ]
  },
  {
   "cell_type": "markdown",
   "metadata": {},
   "source": [
    "Yep. It raised a SyntaxError.  \n",
    "\n",
    "### Comments in Python\n",
    "\n",
    "Comments are made with the pound sign (#)."
   ]
  },
  {
   "cell_type": "code",
   "execution_count": 6,
   "metadata": {},
   "outputs": [
    {
     "name": "stdout",
     "output_type": "stream",
     "text": [
      "5\n"
     ]
    }
   ],
   "source": [
    "a = 5\n",
    "#Here's a comment\n",
    "b = 6\n",
    "print(a)"
   ]
  },
  {
   "cell_type": "markdown",
   "metadata": {},
   "source": [
    "### Printing Variables\n",
    "If you want to print a message to the console use the print function. We already used this in hello.py.\n",
    "Printing is useful to debug so you can find out the value a variable is storing.  \n",
    "\n",
    "It can also be helpful for printing updates to the console so the user know what stage the program is in. Waiting for a long progam to run without any print update can be frustrating. Here's an example of the print statement:"
   ]
  },
  {
   "cell_type": "code",
   "execution_count": 7,
   "metadata": {},
   "outputs": [
    {
     "name": "stdout",
     "output_type": "stream",
     "text": [
      "Beginning Program...\n",
      "Running Summation...\n",
      "Displaying Results...\n",
      "11\n",
      "16\n",
      "Finished.\n"
     ]
    }
   ],
   "source": [
    "print(\"Beginning Program...\")\n",
    "a = 5\n",
    "b = 6\n",
    "print(\"Running Summation...\")\n",
    "c = a + b\n",
    "d = a + c\n",
    "print(\"Displaying Results...\")\n",
    "print(c)\n",
    "print(d)\n",
    "print(\"Finished.\")"
   ]
  },
  {
   "cell_type": "markdown",
   "metadata": {},
   "source": [
    "One of the biggest differences between python version 2.7 and version 3.X is that in version 3.X print requires parentheses. In 2.7, parentheses are acceptable but unecessary. So it's best to use parentheses all the time so that your print statements work in both versions of python.  \n",
    "\n",
    "## Basic Types\n",
    "\n",
    "In addition to integers like a = 5 python has a few basic types.  \n",
    "* Integers or \"int\" represents whole numbers. E.g. a = 5\n",
    "* Floating point or \"float\" represent fractional numbers. E.g. a = 5.5 or even a = 5.0\n",
    "* Character Strings or \"str\" represent text. Single/double quotes work. E.g. a = \"Hello!\" or a = 'Hello!'\n",
    "* Boolean or \"bool\" represent True/False variables. E.g. a = True or b = False\n",
    "\n",
    "Every variable in python has a type. To found out the type of variable \"a\" use the type function like this:"
   ]
  },
  {
   "cell_type": "code",
   "execution_count": 8,
   "metadata": {},
   "outputs": [
    {
     "name": "stdout",
     "output_type": "stream",
     "text": [
      "<class 'int'>\n",
      "<class 'str'>\n"
     ]
    }
   ],
   "source": [
    "a = 5\n",
    "b = \"hello\"\n",
    "print(type(a))\n",
    "print(type(b))"
   ]
  },
  {
   "cell_type": "markdown",
   "metadata": {},
   "source": [
    "### Integers and Floats\n",
    "Integers are simple round numbers. If you know your variable will be a whole number, it's best to make it an integer rather than a float (decimal) because it takes up less memory.  \n",
    "\n",
    "Integers can be added, subtracted, multiplied, divided etc. as we will see later.  \n",
    "\n",
    "**WARNING** in python 2.X dividing two integers uses integer division which cuts off any decimal. In python 3.X regular division is used by default.  \n",
    "\n",
    "Here's an example:"
   ]
  },
  {
   "cell_type": "code",
   "execution_count": 9,
   "metadata": {},
   "outputs": [
    {
     "name": "stdout",
     "output_type": "stream",
     "text": [
      "3.3333333333333335\n"
     ]
    }
   ],
   "source": [
    "a = 10/3\n",
    "print(a)"
   ]
  },
  {
   "cell_type": "markdown",
   "metadata": {},
   "source": [
    "This can cause major problems for programmers who aren't aware of this. To get around it you can make sure one of the numbers involved in division is a float.  \n",
    "\n",
    "Alternatively you can backport division from python 3.X. To do this, use the following syntax:"
   ]
  },
  {
   "cell_type": "code",
   "execution_count": 10,
   "metadata": {},
   "outputs": [
    {
     "name": "stdout",
     "output_type": "stream",
     "text": [
      "Addition, subtraction, multiplication, division are what you expect\n",
      "13\n",
      "3\n",
      "40\n",
      "1.6\n",
      "Exponentiation is a**b\n",
      "32768\n",
      "\"Modulus\" (remainder of division) is a%b\n",
      "3\n",
      "Max and min\n",
      "3\n",
      "2\n",
      "Increment values with \"x += 1\"\n",
      "8\n",
      "9\n"
     ]
    }
   ],
   "source": [
    "from __future__ import division\n",
    "a = 8\n",
    "b = 5\n",
    "print('Addition, subtraction, multiplication, division are what you expect')\n",
    "print(a+b)\n",
    "print(a-b)\n",
    "print(a*b)\n",
    "print(a/b)\n",
    "\n",
    "print('Exponentiation is a**b')\n",
    "print(a**b)\n",
    "\n",
    "print('\"Modulus\" (remainder of division) is a%b')\n",
    "print(a%b)\n",
    "\n",
    "print(\"Max and min\")\n",
    "print(max(2,3))\n",
    "print(min(2,3))\n",
    "\n",
    "print('Increment values with \"x += 1\"')\n",
    "print(a)\n",
    "a += 1\n",
    "print(a)"
   ]
  },
  {
   "cell_type": "markdown",
   "metadata": {},
   "source": [
    "### Strings\n",
    "Strings in python can be created using single or double quotes. Typically python programmers prefer single quotes. The advantage of using double quotes is if your string has a single quote inside it. For example:  \n",
    "\n",
    "    a = \"what's up\"\n",
    "\n",
    "The apostrophe would cause problem if single quotes were used for the string. Similarly, there is an advantage to using single quotes sometimes:  \n",
    "\n",
    "    a = 'why is it called \"python\"?'\n",
    "\n",
    "#### Escape Character\n",
    "If your string has both single and double quotes you can use the backslash \"escape\" character \\ to let python know not to end the string premturely.  \n",
    "\n",
    "    a = 'Why\\'s it called \"python\"?'\n",
    "\n",
    "This is common in programming languages beyond python. The backslash is also used to identify special characters like newlines or tabs. For example:"
   ]
  },
  {
   "cell_type": "code",
   "execution_count": 13,
   "metadata": {},
   "outputs": [
    {
     "name": "stdout",
     "output_type": "stream",
     "text": [
      "Backslash \"n\" is a \n",
      " new line\n",
      "Backslash \"t\" is a \t tab\n"
     ]
    }
   ],
   "source": [
    "string = 'Backslash \"n\" is a \\n new line'\n",
    "print(string)\n",
    "string = 'Backslash \"t\" is a \\t tab'\n",
    "print(string)"
   ]
  },
  {
   "cell_type": "markdown",
   "metadata": {},
   "source": [
    "#### String Operations\n",
    "You can easily concatenate strings, select substrings, and repeat strings in python. See the examples below:"
   ]
  },
  {
   "cell_type": "code",
   "execution_count": 14,
   "metadata": {},
   "outputs": [
    {
     "name": "stdout",
     "output_type": "stream",
     "text": [
      "Hello World! Python is a great language.\n",
      "o\n",
      "H\n",
      "ello\n",
      "ello World!\n",
      "!\n",
      "ld!\n",
      " Python is a great language. Python is a great language. Python is a great language.\n",
      "True\n",
      "False\n",
      "12\n"
     ]
    }
   ],
   "source": [
    "a = 'Hello World!'\n",
    "b = ' Python is a great language.'\n",
    "\n",
    "#concatenate with +\n",
    "print(a + b)\n",
    "\n",
    "#select the ith letter with [i]. Be aware: the first letter starts at 0\n",
    "print(a[4])\n",
    "print(a[0])\n",
    "\n",
    "#Select the ith through jth letter with [i:j].\n",
    "#Select the ith through last letter with [i:]\n",
    "print(a[1:5])\n",
    "print(a[1:])\n",
    "\n",
    "#Select that last letter with [-1]. The last three letters with [-3:]\n",
    "print(a[-1])\n",
    "print(a[-3:])\n",
    "\n",
    "#Repeat a string n times with *n\n",
    "print(b*3)\n",
    "\n",
    "#Discover whether a substring exists with \"in\"\n",
    "print('great' in b)\n",
    "print('great' in a)\n",
    "\n",
    "#Calculate length with len\n",
    "print(len(a))"
   ]
  },
  {
   "cell_type": "markdown",
   "metadata": {},
   "source": [
    "#### String Formatting\n",
    "You can insert variables into a string using the % sign. If you know C, this was borrowed from C.  \n",
    "The syntax is `<string with one or more % sign>` %(comma separated varaibles to be inserted)  \n",
    "* To insert a string use %s\n",
    "* To insert an integer use %d\n",
    "* To insert a float use %f  \n",
    "\n",
    "We'll use an example to make things clear:"
   ]
  },
  {
   "cell_type": "code",
   "execution_count": 15,
   "metadata": {},
   "outputs": [
    {
     "name": "stdout",
     "output_type": "stream",
     "text": [
      "The number 5 and the string hello and the float 2.200000\n",
      "The 5 Knights who say Ni!\n"
     ]
    }
   ],
   "source": [
    "print(\"The number %d and the string %s and the float %f\" %(5, 'hello', 2.2))\n",
    "\n",
    "string = 'The %d %s who say %s'\n",
    "variables = (5, 'Knights', 'Ni!')\n",
    "print(string %variables)"
   ]
  },
  {
   "cell_type": "markdown",
   "metadata": {},
   "source": [
    "#### String Methods\n",
    "Strings have built-in functionality (or \"methods\"). We'll go over the details of methods later, but for now know that the syntax is:  \n",
    "\n",
    "    string.method_name()  \n",
    "\n",
    "Here are some examples of the most important ones:"
   ]
  },
  {
   "cell_type": "code",
   "execution_count": 16,
   "metadata": {},
   "outputs": [
    {
     "name": "stdout",
     "output_type": "stream",
     "text": [
      "HELLO WORLD!\n",
      "hello world!\n",
      "3\n",
      "3\n",
      "-1\n"
     ]
    }
   ],
   "source": [
    "a = 'Hello World!'\n",
    "b = 'Python is a great language.  '\n",
    "\n",
    "#Upper/Lower Case\n",
    "print(a.upper())\n",
    "print(a.lower())\n",
    "\n",
    "#Count number of times a substring appears\n",
    "print(a.count('l'))\n",
    "\n",
    "#Find location of first occurence of a substring.\n",
    "#If susbtring isn't present, returns -1\n",
    "print(a.find('lo'))\n",
    "print(a.find('cheese'))"
   ]
  },
  {
   "cell_type": "code",
   "execution_count": 17,
   "metadata": {},
   "outputs": [
    {
     "name": "stdout",
     "output_type": "stream",
     "text": [
      "Hebbo Worbd!\n",
      "29\n",
      "27\n",
      "HEBBO WORBD!\n"
     ]
    }
   ],
   "source": [
    "#Replace substring with another\n",
    "print(a.replace('l', 'b'))\n",
    "\n",
    "#Strip extra whitespace from beginning and end of string.\n",
    "print(len(b))\n",
    "print(len(b.strip()))\n",
    "\n",
    "#You can combine multiple methods by calling them back to back\n",
    "#like string.method1().method2()\n",
    "#Convert to upper case then replace L with B\n",
    "print(a.upper().replace('L', 'B'))"
   ]
  },
  {
   "cell_type": "markdown",
   "metadata": {},
   "source": [
    "#### Triple Quotes\n",
    "Long strings that span multiple lines can be written using triple quote marks ('''), which is just three single quotes in a row. Typically triple quotes are used for documentation. They can be used for multi-line comments, although that's not technically their purpose."
   ]
  },
  {
   "cell_type": "code",
   "execution_count": 18,
   "metadata": {},
   "outputs": [
    {
     "name": "stdout",
     "output_type": "stream",
     "text": [
      "This is a long documentation string. It contains\n",
      "multiple lines of text that span several rows. If you type a new\n",
      "line, it will show up in the print statement.\n",
      "Usual rules apply like tabs(\t) and new lines (\n",
      ") will show up.\n",
      "New lines are nice if you want several in a row. \n",
      "\n",
      "\n",
      "\n",
      "\n",
      "Formats like TEST_STRING_HERE work too\n"
     ]
    }
   ],
   "source": [
    "doc = '''This is a long documentation string. It contains\n",
    "multiple lines of text that span several rows. If you type a new\n",
    "line, it will show up in the print statement.\n",
    "Usual rules apply like tabs(\\t) and new lines (\\n) will show up.\n",
    "New lines are nice if you want several in a row. \\n\\n\\n\\n\n",
    "Formats like %s work too'''\n",
    "print(doc %('TEST_STRING_HERE'))"
   ]
  },
  {
   "cell_type": "markdown",
   "metadata": {},
   "source": [
    "## Boolean\n",
    "\n",
    "Boolean values can be either True or False. They can be assigned directly as in a = True or through logical expressions like a = 5 > 6."
   ]
  },
  {
   "cell_type": "code",
   "execution_count": 19,
   "metadata": {},
   "outputs": [
    {
     "name": "stdout",
     "output_type": "stream",
     "text": [
      "Create booleans directly with \"True\" and \"False\"\n",
      "Logical expressions \"and\" \"or\" and \"not\"\n",
      "True False False True False\n",
      "use parentheses to group statements\n",
      "True\n",
      "\"and\" can be written \"&\"\n",
      "\"or\" can be written with a pipe \"|\"\n",
      "Mathematical expressions\n",
      "False\n",
      "True\n",
      "False\n",
      "True\n",
      "False\n",
      "True\n",
      "Membership using \"in\"\n",
      "True\n"
     ]
    }
   ],
   "source": [
    "print('Create booleans directly with \"True\" and \"False\"')\n",
    "a = True\n",
    "b = False\n",
    "\n",
    "print('Logical expressions \"and\" \"or\" and \"not\"')\n",
    "c = a and b\n",
    "d = a or b\n",
    "e = not a\n",
    "print(a, b, c, d, e)\n",
    "\n",
    "print('use parentheses to group statements')\n",
    "f = (a or b) and not (c and d)\n",
    "print(f)\n",
    "\n",
    "print('\"and\" can be written \"&\"')\n",
    "c = a & b\n",
    "print('\"or\" can be written with a pipe \"|\"')\n",
    "d = a | b\n",
    "\n",
    "print('Mathematical expressions')\n",
    "print(5 > 6) #greater than\n",
    "print(5 < 6) #less than\n",
    "print(5 >= 6) #greater than or equal to\n",
    "print(5 <= 6) #less than or equal to\n",
    "print(5 == 6) #equality\n",
    "print(5 != 6) #inequality\n",
    "\n",
    "print('Membership using \"in\"')\n",
    "print('a' in 'Spamalot')"
   ]
  },
  {
   "cell_type": "code",
   "execution_count": null,
   "metadata": {
    "collapsed": true
   },
   "outputs": [],
   "source": []
  },
  {
   "cell_type": "code",
   "execution_count": null,
   "metadata": {
    "collapsed": true
   },
   "outputs": [],
   "source": []
  },
  {
   "cell_type": "code",
   "execution_count": null,
   "metadata": {
    "collapsed": true
   },
   "outputs": [],
   "source": []
  },
  {
   "cell_type": "code",
   "execution_count": null,
   "metadata": {
    "collapsed": true
   },
   "outputs": [],
   "source": []
  }
 ],
 "metadata": {
  "kernelspec": {
   "display_name": "Python 3",
   "language": "python",
   "name": "python3"
  },
  "language_info": {
   "codemirror_mode": {
    "name": "ipython",
    "version": 3
   },
   "file_extension": ".py",
   "mimetype": "text/x-python",
   "name": "python",
   "nbconvert_exporter": "python",
   "pygments_lexer": "ipython3",
   "version": "3.6.3"
  }
 },
 "nbformat": 4,
 "nbformat_minor": 2
}

{
 "cells": [
  {
   "cell_type": "markdown",
   "metadata": {},
   "source": [
    "# Python: Simplicity and Ease\n",
    "<img src='https://imgs.xkcd.com/comics/python.png' style='height:600px'>"
   ]
  },
  {
   "cell_type": "markdown",
   "metadata": {},
   "source": [
    "### Some surveys show Python has slightly overtaken R in the analytics/data science community\n",
    "<br>\n",
    "<img src='http://www.kdnuggets.com/images/python-r-other-2016-2017.jpg' style='height:400px'>\n",
    "<br><br>"
   ]
  },
  {
   "cell_type": "markdown",
   "metadata": {},
   "source": [
    "### In fact, this is part of a larger trend...\n",
    "<br>\n",
    "<img src='http://www.kdnuggets.com/images/python-r-other-2014-17-trends.jpg' style='height:400px'>\n",
    "<br><br>"
   ]
  },
  {
   "cell_type": "markdown",
   "metadata": {},
   "source": [
    "### A closer look at language migration patterns\n",
    "<br>\n",
    "<img src='http://www.kdnuggets.com/images/python-r-other-2016-2017-transitions.jpg' style='height:400px'>\n",
    "<br><br>"
   ]
  },
  {
   "cell_type": "markdown",
   "metadata": {},
   "source": [
    "### But part of  'Why Python?' is that the language is applicable beyond just analytics. In fact, it's wildly popular across all domains, and is still rising incredibly quickly.\n",
    "<br>\n",
    "<img src='https://zgab33vy595fw5zq-zippykid.netdna-ssl.com/wp-content/uploads/2017/09/growth_major_languages-1-1400x1200.png' style='height:600px'>\n",
    "<br><br>"
   ]
  },
  {
   "cell_type": "markdown",
   "metadata": {},
   "source": [
    "### Python is both extremely popular and growing very quickly - a unique combination\n",
    "<br>\n",
    "<img src='https://stackoverflow.blog/wp-content/uploads/2017/09/tag_growth_scatter-1-1-1371x1200.png' style='height:600px'>\n",
    "<br><br>"
   ]
  },
  {
   "cell_type": "markdown",
   "metadata": {},
   "source": [
    "### Python isn't the answer for *every*thing, but it's the answer for *a lot of* things.\n",
    "<br>\n",
    "\n",
    "| Ideal Python Uses |\n",
    "|:---|\n",
    "| Automation |\n",
    "| Productionizing Processes |\n",
    "| Projects where execution time is important |\n",
    "| Interacting with other environments (Hadoop, Oracle, the Linux shell) |\n",
    "| Other tasks beyond analytics (scripting) |\n",
    "| Data Viz (sometimes) |\n",
    "<br>\n",
    "\n",
    "| Not-so-ideal Python Uses |\n",
    "|:---|\n",
    "| Data Exploration\n",
    "| Model Prototyping or Rapid Development |\n",
    "| Data Viz (sometimes)|"
   ]
  },
  {
   "cell_type": "markdown",
   "metadata": {},
   "source": [
    "### Python, R, and even Scala are all useful languages in analytics and data science. There is no one tool for all projects - part of our job is choosing the right tool."
   ]
  }
 ],
 "metadata": {
  "kernelspec": {
   "display_name": "Python [conda root]",
   "language": "python",
   "name": "conda-root-py"
  },
  "language_info": {
   "codemirror_mode": {
    "name": "ipython",
    "version": 2
   },
   "file_extension": ".py",
   "mimetype": "text/x-python",
   "name": "python",
   "nbconvert_exporter": "python",
   "pygments_lexer": "ipython2",
   "version": "2.7.13"
  }
 },
 "nbformat": 4,
 "nbformat_minor": 2
}

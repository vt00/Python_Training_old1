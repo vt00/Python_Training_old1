{
 "cells": [
  {
   "cell_type": "code",
   "execution_count": 3,
   "metadata": {
    "collapsed": true
   },
   "outputs": [],
   "source": [
    "import cx_Oracle\n",
    "import pandas as pd\n",
    "import sqlalchemy\n",
    "import py_effo.oracle_connection as oracle_connection"
   ]
  },
  {
   "cell_type": "code",
   "execution_count": 6,
   "metadata": {
    "collapsed": false
   },
   "outputs": [],
   "source": [
    "sql_query = 'SELECT * FROM cfic'\n",
    "# Define a function for pulling data manually, with a cursor\n",
    "def pull_with_cursor(query):\n",
    "    cur = con.cursor()\n",
    "    cur.execute(query)\n",
    "    columns = [x[0] for x in cur.description]\n",
    "    rows = cur.fetchall()\n",
    "    result = pd.DataFrame(rows)\n",
    "    result.columns = columns\n",
    "    return result"
   ]
  },
  {
   "cell_type": "code",
   "execution_count": 7,
   "metadata": {
    "collapsed": false
   },
   "outputs": [
    {
     "name": "stderr",
     "output_type": "stream",
     "text": [
      "/opt/anaconda/2.7/lib/python2.7/site-packages/sqlalchemy/dialects/oracle/cx_oracle.py:753: SAWarning: cx_Oracle is compiled under Python 2.xx using the WITH_UNICODE flag.  Consider recompiling cx_Oracle without this flag, which is in no way necessary for full support of Unicode. Otherwise, all string-holding bind parameters must be explicitly typed using SQLAlchemy's String type or one of its subtypes,or otherwise be passed as Python unicode.  Plain Python strings passed as bind parameters will be silently corrupted by cx_Oracle.\n",
      "  \"cx_Oracle is compiled under Python 2.xx using the \"\n"
     ]
    }
   ],
   "source": [
    "# Connection for pandas via sqlalchemy\n",
    "con_str = 'oracle+cx_oracle://[an_cm_ws29]@exa_uskrgprdh'\n",
    "engine = sqlalchemy.create_engine(con_str)\n",
    "# Connection via cx_Oracle\n",
    "con = cx_Oracle.connect('[an_cm_ws29]', '', 'exa_uskrgprdh')\n",
    "effo_con = oracle_connection.OracleConnection('[an_cm_ws29]')"
   ]
  },
  {
   "cell_type": "markdown",
   "metadata": {},
   "source": [
    "### Data Pull Comparison"
   ]
  },
  {
   "cell_type": "code",
   "execution_count": 8,
   "metadata": {
    "collapsed": false
   },
   "outputs": [
    {
     "name": "stdout",
     "output_type": "stream",
     "text": [
      "CPU times: user 16.6 s, sys: 790 ms, total: 17.4 s\n",
      "Wall time: 47.6 s\n",
      "CPU times: user 12 s, sys: 465 ms, total: 12.5 s\n",
      "Wall time: 27.7 s\n",
      "CPU times: user 12 s, sys: 387 ms, total: 12.4 s\n",
      "Wall time: 26.8 s\n",
      "CPU times: user 12.1 s, sys: 335 ms, total: 12.4 s\n",
      "Wall time: 27.1 s\n"
     ]
    }
   ],
   "source": [
    "# Pull with pd.read_sql and sqlalchemy engine\n",
    "%time result1 = pd.read_sql(sql_query, con=engine)\n",
    "# Pull with cx_Oracle cursor()\n",
    "%time result2 = pull_with_cursor(sql_query)\n",
    "# Pull with pd.read_sql and cx_Oracle connection\n",
    "%time result3 = pd.read_sql(sql_query, con=con)\n",
    "# Pull with py_effo package\n",
    "% time result4 = effo_con.query(sql_query)"
   ]
  },
  {
   "cell_type": "markdown",
   "metadata": {
    "collapsed": true
   },
   "source": [
    "#### Results\n",
    "Using sqlalchemy is slow, but all other methods are basically the same - including py_effo.\n",
    "#### Recommendation\n",
    "Use py_effo package for simplicity."
   ]
  }
 ],
 "metadata": {
  "kernelspec": {
   "display_name": "Python [default]",
   "language": "python",
   "name": "python2"
  },
  "language_info": {
   "codemirror_mode": {
    "name": "ipython",
    "version": 2
   },
   "file_extension": ".py",
   "mimetype": "text/x-python",
   "name": "python",
   "nbconvert_exporter": "python",
   "pygments_lexer": "ipython2",
   "version": "2.7.13"
  }
 },
 "nbformat": 4,
 "nbformat_minor": 2
}

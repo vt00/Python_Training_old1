{
 "cells": [
  {
   "cell_type": "markdown",
   "metadata": {},
   "source": [
    "## Python Demo\n",
    "### A prelude to xxx Python Training"
   ]
  },
  {
   "cell_type": "markdown",
   "metadata": {},
   "source": [
    "We're going to follow a normal analyst workflow:\n",
    "1. Pull data from Exadata.\n",
    "2. View the data.\n",
    "3. Split the data into training and test.\n",
    "4. Clean the data and remove outliers.\n",
    "5. Train a model.\n",
    "6. Test the model.\n",
    "7. Export the model.\n",
    "\n",
    "This demo is intended to be something of a [whirlwind](http://www.oreilly.com/programming/free/files/a-whirlwind-tour-of-python.pdf), so don't worry if you aren't able to keep up. This should just give you a taste of the look and feel of Python, along with its power.\n",
    "\n",
    "We're going to model a store's sales of in June 2017, based on its sales in April and June 2017."
   ]
  },
  {
   "cell_type": "markdown",
   "metadata": {},
   "source": [
    "### 1. Pull Data"
   ]
  },
  {
   "cell_type": "code",
   "execution_count": 1,
   "metadata": {
    "collapsed": false
   },
   "outputs": [
    {
     "data": {
      "text/html": [
       "<div>\n",
       "<table border=\"1\" class=\"dataframe\">\n",
       "  <thead>\n",
       "    <tr style=\"text-align: right;\">\n",
       "      <th></th>\n",
       "      <th>STORE_ID</th>\n",
       "      <th>APR_SPEND</th>\n",
       "      <th>MAY_SPEND</th>\n",
       "      <th>JUNE_SPEND</th>\n",
       "    </tr>\n",
       "  </thead>\n",
       "  <tbody>\n",
       "    <tr>\n",
       "      <th>0</th>\n",
       "      <td>12075</td>\n",
       "      <td>4191157.76</td>\n",
       "      <td>4383597.28</td>\n",
       "      <td>4048826.81</td>\n",
       "    </tr>\n",
       "    <tr>\n",
       "      <th>1</th>\n",
       "      <td>575</td>\n",
       "      <td>2276054.42</td>\n",
       "      <td>2505438.31</td>\n",
       "      <td>2341338.89</td>\n",
       "    </tr>\n",
       "    <tr>\n",
       "      <th>2</th>\n",
       "      <td>2231</td>\n",
       "      <td>3533205.35</td>\n",
       "      <td>3666165.52</td>\n",
       "      <td>3403492.53</td>\n",
       "    </tr>\n",
       "    <tr>\n",
       "      <th>3</th>\n",
       "      <td>21413</td>\n",
       "      <td>2963421.46</td>\n",
       "      <td>3063319.83</td>\n",
       "      <td>2986293.81</td>\n",
       "    </tr>\n",
       "    <tr>\n",
       "      <th>4</th>\n",
       "      <td>8441</td>\n",
       "      <td>1517188.03</td>\n",
       "      <td>1572763.01</td>\n",
       "      <td>1573881.54</td>\n",
       "    </tr>\n",
       "  </tbody>\n",
       "</table>\n",
       "</div>"
      ],
      "text/plain": [
       "   STORE_ID   APR_SPEND   MAY_SPEND  JUNE_SPEND\n",
       "0     12075  4191157.76  4383597.28  4048826.81\n",
       "1       575  2276054.42  2505438.31  2341338.89\n",
       "2      2231  3533205.35  3666165.52  3403492.53\n",
       "3     21413  2963421.46  3063319.83  2986293.81\n",
       "4      8441  1517188.03  1572763.01  1573881.54"
      ]
     },
     "execution_count": 1,
     "metadata": {},
     "output_type": "execute_result"
    }
   ],
   "source": [
    "# Import the Oracle connection module from the py_effo library.\n",
    "import py_effo.oracle_connection as oracle_connection\n",
    "# Instantiate a connection object.\n",
    "con = oracle_connection.OracleConnection('an_cm_ws29')\n",
    "# Construct a query for what data we want to pull back.\n",
    "query = '''SELECT store_id,\n",
    "                  -- April Spend\n",
    "                  SUM(CASE WHEN transaction_dttm BETWEEN TO_DATE('20170401', 'YYYYMMDD')\n",
    "                                                     AND TO_DATE('20170430', 'YYYYMMDD')\n",
    "                      THEN basket_net_spend_amt\n",
    "                      ELSE 0\n",
    "                  END) AS apr_spend,\n",
    "                  -- May Spend\n",
    "                  SUM(CASE WHEN transaction_dttm BETWEEN TO_DATE('20170501', 'YYYYMMDD')\n",
    "                                                     AND TO_DATE('20170531', 'YYYYMMDD')\n",
    "                      THEN basket_net_spend_amt\n",
    "                      ELSE 0\n",
    "                  END) AS may_spend,\n",
    "                  -- June Spend\n",
    "                  SUM(CASE WHEN transaction_dttm BETWEEN TO_DATE('20170601', 'YYYYMMDD')\n",
    "                                                     AND TO_DATE('20170630', 'YYYYMMDD')\n",
    "                      THEN basket_net_spend_amt\n",
    "                      ELSE 0\n",
    "                  END) AS june_spend\n",
    "            FROM transaction_basket_fct\n",
    "            WHERE transaction_dttm BETWEEN TO_DATE('20170401', 'YYYYMMDD') AND TO_DATE('20170630', 'YYYYMMDD')\n",
    "            -- Use this modulus to take a sample (just to make this simpler)\n",
    "            AND MOD(store_id, 23) = 0\n",
    "            GROUP BY store_id'''\n",
    "# Execute the query.\n",
    "store_spend = con.query(query)\n",
    "# View a sample of the data\n",
    "store_spend.head()"
   ]
  },
  {
   "cell_type": "markdown",
   "metadata": {},
   "source": [
    "### 2. View the data\n",
    "If you want to take a look at the whole thing as a table, run the following cell."
   ]
  },
  {
   "cell_type": "code",
   "execution_count": 2,
   "metadata": {
    "collapsed": false
   },
   "outputs": [
    {
     "data": {
      "text/html": [
       "<div>\n",
       "<table border=\"1\" class=\"dataframe\">\n",
       "  <thead>\n",
       "    <tr style=\"text-align: right;\">\n",
       "      <th></th>\n",
       "      <th>STORE_ID</th>\n",
       "      <th>APR_SPEND</th>\n",
       "      <th>MAY_SPEND</th>\n",
       "      <th>JUNE_SPEND</th>\n",
       "    </tr>\n",
       "  </thead>\n",
       "  <tbody>\n",
       "    <tr>\n",
       "      <th>0</th>\n",
       "      <td>12075</td>\n",
       "      <td>4191157.76</td>\n",
       "      <td>4383597.28</td>\n",
       "      <td>4048826.81</td>\n",
       "    </tr>\n",
       "    <tr>\n",
       "      <th>1</th>\n",
       "      <td>575</td>\n",
       "      <td>2276054.42</td>\n",
       "      <td>2505438.31</td>\n",
       "      <td>2341338.89</td>\n",
       "    </tr>\n",
       "    <tr>\n",
       "      <th>2</th>\n",
       "      <td>2231</td>\n",
       "      <td>3533205.35</td>\n",
       "      <td>3666165.52</td>\n",
       "      <td>3403492.53</td>\n",
       "    </tr>\n",
       "    <tr>\n",
       "      <th>3</th>\n",
       "      <td>21413</td>\n",
       "      <td>2963421.46</td>\n",
       "      <td>3063319.83</td>\n",
       "      <td>2986293.81</td>\n",
       "    </tr>\n",
       "    <tr>\n",
       "      <th>4</th>\n",
       "      <td>8441</td>\n",
       "      <td>1517188.03</td>\n",
       "      <td>1572763.01</td>\n",
       "      <td>1573881.54</td>\n",
       "    </tr>\n",
       "    <tr>\n",
       "      <th>5</th>\n",
       "      <td>23069</td>\n",
       "      <td>4406536.24</td>\n",
       "      <td>4618665.20</td>\n",
       "      <td>4327569.04</td>\n",
       "    </tr>\n",
       "    <tr>\n",
       "      <th>6</th>\n",
       "      <td>25001</td>\n",
       "      <td>2929709.49</td>\n",
       "      <td>3005068.35</td>\n",
       "      <td>2906927.07</td>\n",
       "    </tr>\n",
       "    <tr>\n",
       "      <th>7</th>\n",
       "      <td>14053</td>\n",
       "      <td>3053253.55</td>\n",
       "      <td>3283637.10</td>\n",
       "      <td>3231933.98</td>\n",
       "    </tr>\n",
       "    <tr>\n",
       "      <th>8</th>\n",
       "      <td>9959</td>\n",
       "      <td>3252172.45</td>\n",
       "      <td>3421367.51</td>\n",
       "      <td>3025686.51</td>\n",
       "    </tr>\n",
       "    <tr>\n",
       "      <th>9</th>\n",
       "      <td>29279</td>\n",
       "      <td>9124484.55</td>\n",
       "      <td>9744165.95</td>\n",
       "      <td>9206953.36</td>\n",
       "    </tr>\n",
       "    <tr>\n",
       "      <th>10</th>\n",
       "      <td>25507</td>\n",
       "      <td>3354671.14</td>\n",
       "      <td>3507043.43</td>\n",
       "      <td>3316947.36</td>\n",
       "    </tr>\n",
       "    <tr>\n",
       "      <th>11</th>\n",
       "      <td>2369</td>\n",
       "      <td>1019081.07</td>\n",
       "      <td>1071989.69</td>\n",
       "      <td>1058467.67</td>\n",
       "    </tr>\n",
       "    <tr>\n",
       "      <th>12</th>\n",
       "      <td>25185</td>\n",
       "      <td>3081215.11</td>\n",
       "      <td>3244371.59</td>\n",
       "      <td>3055979.11</td>\n",
       "    </tr>\n",
       "    <tr>\n",
       "      <th>13</th>\n",
       "      <td>17319</td>\n",
       "      <td>2905533.33</td>\n",
       "      <td>2985398.10</td>\n",
       "      <td>2931873.16</td>\n",
       "    </tr>\n",
       "    <tr>\n",
       "      <th>14</th>\n",
       "      <td>23345</td>\n",
       "      <td>4111627.65</td>\n",
       "      <td>4321645.92</td>\n",
       "      <td>3965370.96</td>\n",
       "    </tr>\n",
       "    <tr>\n",
       "      <th>15</th>\n",
       "      <td>25369</td>\n",
       "      <td>3828204.38</td>\n",
       "      <td>3922731.84</td>\n",
       "      <td>3726825.92</td>\n",
       "    </tr>\n",
       "    <tr>\n",
       "      <th>16</th>\n",
       "      <td>345</td>\n",
       "      <td>3514875.49</td>\n",
       "      <td>3669769.23</td>\n",
       "      <td>3293945.97</td>\n",
       "    </tr>\n",
       "    <tr>\n",
       "      <th>17</th>\n",
       "      <td>25139</td>\n",
       "      <td>3255724.01</td>\n",
       "      <td>3432926.95</td>\n",
       "      <td>3231560.57</td>\n",
       "    </tr>\n",
       "    <tr>\n",
       "      <th>18</th>\n",
       "      <td>23391</td>\n",
       "      <td>4632228.52</td>\n",
       "      <td>4768764.80</td>\n",
       "      <td>4527767.63</td>\n",
       "    </tr>\n",
       "    <tr>\n",
       "      <th>19</th>\n",
       "      <td>713</td>\n",
       "      <td>2404498.51</td>\n",
       "      <td>2634999.94</td>\n",
       "      <td>2433220.90</td>\n",
       "    </tr>\n",
       "    <tr>\n",
       "      <th>20</th>\n",
       "      <td>29325</td>\n",
       "      <td>1957011.31</td>\n",
       "      <td>2093311.04</td>\n",
       "      <td>1950206.29</td>\n",
       "    </tr>\n",
       "    <tr>\n",
       "      <th>21</th>\n",
       "      <td>8165</td>\n",
       "      <td>3246775.74</td>\n",
       "      <td>3444839.18</td>\n",
       "      <td>3380465.66</td>\n",
       "    </tr>\n",
       "    <tr>\n",
       "      <th>22</th>\n",
       "      <td>21367</td>\n",
       "      <td>3571516.59</td>\n",
       "      <td>3715523.51</td>\n",
       "      <td>3483526.69</td>\n",
       "    </tr>\n",
       "    <tr>\n",
       "      <th>23</th>\n",
       "      <td>29003</td>\n",
       "      <td>4836900.35</td>\n",
       "      <td>4747843.49</td>\n",
       "      <td>4454207.06</td>\n",
       "    </tr>\n",
       "    <tr>\n",
       "      <th>24</th>\n",
       "      <td>19573</td>\n",
       "      <td>2438642.28</td>\n",
       "      <td>2567754.98</td>\n",
       "      <td>2425001.59</td>\n",
       "    </tr>\n",
       "    <tr>\n",
       "      <th>25</th>\n",
       "      <td>9545</td>\n",
       "      <td>6827265.79</td>\n",
       "      <td>6979529.76</td>\n",
       "      <td>6343272.88</td>\n",
       "    </tr>\n",
       "    <tr>\n",
       "      <th>26</th>\n",
       "      <td>35719</td>\n",
       "      <td>473637.37</td>\n",
       "      <td>474526.64</td>\n",
       "      <td>465662.78</td>\n",
       "    </tr>\n",
       "    <tr>\n",
       "      <th>27</th>\n",
       "      <td>15985</td>\n",
       "      <td>1811795.26</td>\n",
       "      <td>1915359.03</td>\n",
       "      <td>1898787.48</td>\n",
       "    </tr>\n",
       "    <tr>\n",
       "      <th>28</th>\n",
       "      <td>29095</td>\n",
       "      <td>3305041.88</td>\n",
       "      <td>3445750.69</td>\n",
       "      <td>3233065.26</td>\n",
       "    </tr>\n",
       "    <tr>\n",
       "      <th>29</th>\n",
       "      <td>11891</td>\n",
       "      <td>4888414.58</td>\n",
       "      <td>5191108.46</td>\n",
       "      <td>5023830.37</td>\n",
       "    </tr>\n",
       "    <tr>\n",
       "      <th>...</th>\n",
       "      <td>...</td>\n",
       "      <td>...</td>\n",
       "      <td>...</td>\n",
       "      <td>...</td>\n",
       "    </tr>\n",
       "    <tr>\n",
       "      <th>78</th>\n",
       "      <td>34293</td>\n",
       "      <td>3755132.35</td>\n",
       "      <td>3919808.88</td>\n",
       "      <td>3848702.22</td>\n",
       "    </tr>\n",
       "    <tr>\n",
       "      <th>79</th>\n",
       "      <td>8119</td>\n",
       "      <td>2638368.95</td>\n",
       "      <td>2843312.59</td>\n",
       "      <td>2748468.78</td>\n",
       "    </tr>\n",
       "    <tr>\n",
       "      <th>80</th>\n",
       "      <td>37329</td>\n",
       "      <td>5012189.72</td>\n",
       "      <td>5463373.99</td>\n",
       "      <td>5258067.07</td>\n",
       "    </tr>\n",
       "    <tr>\n",
       "      <th>81</th>\n",
       "      <td>37007</td>\n",
       "      <td>6450154.54</td>\n",
       "      <td>6699830.73</td>\n",
       "      <td>6240509.50</td>\n",
       "    </tr>\n",
       "    <tr>\n",
       "      <th>82</th>\n",
       "      <td>16031</td>\n",
       "      <td>6628079.76</td>\n",
       "      <td>6915612.02</td>\n",
       "      <td>6344591.88</td>\n",
       "    </tr>\n",
       "    <tr>\n",
       "      <th>83</th>\n",
       "      <td>19665</td>\n",
       "      <td>2424916.34</td>\n",
       "      <td>2547620.53</td>\n",
       "      <td>2444829.83</td>\n",
       "    </tr>\n",
       "    <tr>\n",
       "      <th>84</th>\n",
       "      <td>17687</td>\n",
       "      <td>6990102.95</td>\n",
       "      <td>7380014.74</td>\n",
       "      <td>7161483.54</td>\n",
       "    </tr>\n",
       "    <tr>\n",
       "      <th>85</th>\n",
       "      <td>37375</td>\n",
       "      <td>154425.01</td>\n",
       "      <td>166412.67</td>\n",
       "      <td>182352.65</td>\n",
       "    </tr>\n",
       "    <tr>\n",
       "      <th>86</th>\n",
       "      <td>11799</td>\n",
       "      <td>4538623.06</td>\n",
       "      <td>4925730.74</td>\n",
       "      <td>4671395.41</td>\n",
       "    </tr>\n",
       "    <tr>\n",
       "      <th>87</th>\n",
       "      <td>17411</td>\n",
       "      <td>5306366.68</td>\n",
       "      <td>5433053.37</td>\n",
       "      <td>4956416.74</td>\n",
       "    </tr>\n",
       "    <tr>\n",
       "      <th>88</th>\n",
       "      <td>4439</td>\n",
       "      <td>2351712.46</td>\n",
       "      <td>2476550.85</td>\n",
       "      <td>2325527.91</td>\n",
       "    </tr>\n",
       "    <tr>\n",
       "      <th>89</th>\n",
       "      <td>13915</td>\n",
       "      <td>2847517.40</td>\n",
       "      <td>2896972.51</td>\n",
       "      <td>2711513.62</td>\n",
       "    </tr>\n",
       "    <tr>\n",
       "      <th>90</th>\n",
       "      <td>8211</td>\n",
       "      <td>2040735.54</td>\n",
       "      <td>2173862.20</td>\n",
       "      <td>1891796.06</td>\n",
       "    </tr>\n",
       "    <tr>\n",
       "      <th>91</th>\n",
       "      <td>29233</td>\n",
       "      <td>3504656.44</td>\n",
       "      <td>3630883.10</td>\n",
       "      <td>3383159.60</td>\n",
       "    </tr>\n",
       "    <tr>\n",
       "      <th>92</th>\n",
       "      <td>15617</td>\n",
       "      <td>4811367.39</td>\n",
       "      <td>5191509.01</td>\n",
       "      <td>4868267.05</td>\n",
       "    </tr>\n",
       "    <tr>\n",
       "      <th>93</th>\n",
       "      <td>12029</td>\n",
       "      <td>4648981.68</td>\n",
       "      <td>4946072.05</td>\n",
       "      <td>4624897.40</td>\n",
       "    </tr>\n",
       "    <tr>\n",
       "      <th>94</th>\n",
       "      <td>23023</td>\n",
       "      <td>2877499.90</td>\n",
       "      <td>2959384.80</td>\n",
       "      <td>2731029.50</td>\n",
       "    </tr>\n",
       "    <tr>\n",
       "      <th>95</th>\n",
       "      <td>8395</td>\n",
       "      <td>1715408.62</td>\n",
       "      <td>1803713.80</td>\n",
       "      <td>1698380.67</td>\n",
       "    </tr>\n",
       "    <tr>\n",
       "      <th>96</th>\n",
       "      <td>25231</td>\n",
       "      <td>4689178.26</td>\n",
       "      <td>4825768.20</td>\n",
       "      <td>4581292.44</td>\n",
       "    </tr>\n",
       "    <tr>\n",
       "      <th>97</th>\n",
       "      <td>10143</td>\n",
       "      <td>3594482.98</td>\n",
       "      <td>3582588.06</td>\n",
       "      <td>3193765.02</td>\n",
       "    </tr>\n",
       "    <tr>\n",
       "      <th>98</th>\n",
       "      <td>2507</td>\n",
       "      <td>1696885.76</td>\n",
       "      <td>1781191.26</td>\n",
       "      <td>1658894.65</td>\n",
       "    </tr>\n",
       "    <tr>\n",
       "      <th>99</th>\n",
       "      <td>667</td>\n",
       "      <td>3906965.90</td>\n",
       "      <td>4140403.90</td>\n",
       "      <td>4485732.48</td>\n",
       "    </tr>\n",
       "    <tr>\n",
       "      <th>100</th>\n",
       "      <td>391</td>\n",
       "      <td>4176942.31</td>\n",
       "      <td>4350520.56</td>\n",
       "      <td>4155982.31</td>\n",
       "    </tr>\n",
       "    <tr>\n",
       "      <th>101</th>\n",
       "      <td>35489</td>\n",
       "      <td>5180087.27</td>\n",
       "      <td>5271615.60</td>\n",
       "      <td>4950851.60</td>\n",
       "    </tr>\n",
       "    <tr>\n",
       "      <th>102</th>\n",
       "      <td>4255</td>\n",
       "      <td>3761629.60</td>\n",
       "      <td>3934287.71</td>\n",
       "      <td>3706861.64</td>\n",
       "    </tr>\n",
       "    <tr>\n",
       "      <th>103</th>\n",
       "      <td>4577</td>\n",
       "      <td>7148047.48</td>\n",
       "      <td>7645219.46</td>\n",
       "      <td>7430209.41</td>\n",
       "    </tr>\n",
       "    <tr>\n",
       "      <th>104</th>\n",
       "      <td>17549</td>\n",
       "      <td>4988128.93</td>\n",
       "      <td>5166610.36</td>\n",
       "      <td>4763390.53</td>\n",
       "    </tr>\n",
       "    <tr>\n",
       "      <th>105</th>\n",
       "      <td>6187</td>\n",
       "      <td>4520224.24</td>\n",
       "      <td>4594411.04</td>\n",
       "      <td>4313767.05</td>\n",
       "    </tr>\n",
       "    <tr>\n",
       "      <th>106</th>\n",
       "      <td>23161</td>\n",
       "      <td>1164138.14</td>\n",
       "      <td>1216098.85</td>\n",
       "      <td>1190653.34</td>\n",
       "    </tr>\n",
       "    <tr>\n",
       "      <th>107</th>\n",
       "      <td>2323</td>\n",
       "      <td>3239405.93</td>\n",
       "      <td>3495276.84</td>\n",
       "      <td>3208821.93</td>\n",
       "    </tr>\n",
       "  </tbody>\n",
       "</table>\n",
       "<p>108 rows × 4 columns</p>\n",
       "</div>"
      ],
      "text/plain": [
       "     STORE_ID   APR_SPEND   MAY_SPEND  JUNE_SPEND\n",
       "0       12075  4191157.76  4383597.28  4048826.81\n",
       "1         575  2276054.42  2505438.31  2341338.89\n",
       "2        2231  3533205.35  3666165.52  3403492.53\n",
       "3       21413  2963421.46  3063319.83  2986293.81\n",
       "4        8441  1517188.03  1572763.01  1573881.54\n",
       "5       23069  4406536.24  4618665.20  4327569.04\n",
       "6       25001  2929709.49  3005068.35  2906927.07\n",
       "7       14053  3053253.55  3283637.10  3231933.98\n",
       "8        9959  3252172.45  3421367.51  3025686.51\n",
       "9       29279  9124484.55  9744165.95  9206953.36\n",
       "10      25507  3354671.14  3507043.43  3316947.36\n",
       "11       2369  1019081.07  1071989.69  1058467.67\n",
       "12      25185  3081215.11  3244371.59  3055979.11\n",
       "13      17319  2905533.33  2985398.10  2931873.16\n",
       "14      23345  4111627.65  4321645.92  3965370.96\n",
       "15      25369  3828204.38  3922731.84  3726825.92\n",
       "16        345  3514875.49  3669769.23  3293945.97\n",
       "17      25139  3255724.01  3432926.95  3231560.57\n",
       "18      23391  4632228.52  4768764.80  4527767.63\n",
       "19        713  2404498.51  2634999.94  2433220.90\n",
       "20      29325  1957011.31  2093311.04  1950206.29\n",
       "21       8165  3246775.74  3444839.18  3380465.66\n",
       "22      21367  3571516.59  3715523.51  3483526.69\n",
       "23      29003  4836900.35  4747843.49  4454207.06\n",
       "24      19573  2438642.28  2567754.98  2425001.59\n",
       "25       9545  6827265.79  6979529.76  6343272.88\n",
       "26      35719   473637.37   474526.64   465662.78\n",
       "27      15985  1811795.26  1915359.03  1898787.48\n",
       "28      29095  3305041.88  3445750.69  3233065.26\n",
       "29      11891  4888414.58  5191108.46  5023830.37\n",
       "..        ...         ...         ...         ...\n",
       "78      34293  3755132.35  3919808.88  3848702.22\n",
       "79       8119  2638368.95  2843312.59  2748468.78\n",
       "80      37329  5012189.72  5463373.99  5258067.07\n",
       "81      37007  6450154.54  6699830.73  6240509.50\n",
       "82      16031  6628079.76  6915612.02  6344591.88\n",
       "83      19665  2424916.34  2547620.53  2444829.83\n",
       "84      17687  6990102.95  7380014.74  7161483.54\n",
       "85      37375   154425.01   166412.67   182352.65\n",
       "86      11799  4538623.06  4925730.74  4671395.41\n",
       "87      17411  5306366.68  5433053.37  4956416.74\n",
       "88       4439  2351712.46  2476550.85  2325527.91\n",
       "89      13915  2847517.40  2896972.51  2711513.62\n",
       "90       8211  2040735.54  2173862.20  1891796.06\n",
       "91      29233  3504656.44  3630883.10  3383159.60\n",
       "92      15617  4811367.39  5191509.01  4868267.05\n",
       "93      12029  4648981.68  4946072.05  4624897.40\n",
       "94      23023  2877499.90  2959384.80  2731029.50\n",
       "95       8395  1715408.62  1803713.80  1698380.67\n",
       "96      25231  4689178.26  4825768.20  4581292.44\n",
       "97      10143  3594482.98  3582588.06  3193765.02\n",
       "98       2507  1696885.76  1781191.26  1658894.65\n",
       "99        667  3906965.90  4140403.90  4485732.48\n",
       "100       391  4176942.31  4350520.56  4155982.31\n",
       "101     35489  5180087.27  5271615.60  4950851.60\n",
       "102      4255  3761629.60  3934287.71  3706861.64\n",
       "103      4577  7148047.48  7645219.46  7430209.41\n",
       "104     17549  4988128.93  5166610.36  4763390.53\n",
       "105      6187  4520224.24  4594411.04  4313767.05\n",
       "106     23161  1164138.14  1216098.85  1190653.34\n",
       "107      2323  3239405.93  3495276.84  3208821.93\n",
       "\n",
       "[108 rows x 4 columns]"
      ]
     },
     "execution_count": 2,
     "metadata": {},
     "output_type": "execute_result"
    }
   ],
   "source": [
    "store_spend"
   ]
  },
  {
   "cell_type": "markdown",
   "metadata": {},
   "source": [
    "Let's make density plots of store spend in each month."
   ]
  },
  {
   "cell_type": "code",
   "execution_count": 3,
   "metadata": {
    "collapsed": false
   },
   "outputs": [
    {
     "data": {
      "image/png": "[encoded data removed]",
      "text/plain": [
       "<matplotlib.figure.Figure at 0x7f3f7c162d90>"
      ]
     },
     "metadata": {},
     "output_type": "display_data"
    }
   ],
   "source": [
    "# Set up for plotting\n",
    "%matplotlib inline\n",
    "import matplotlib.pyplot as plt\n",
    "import seaborn as sns\n",
    "# Create 3 vertical plots that share an x axis\n",
    "fig, ax = plt.subplots(nrows=3, sharex='row')\n",
    "for i, col_name in enumerate(['APR_SPEND', 'MAY_SPEND', 'JUNE_SPEND']):\n",
    "    sns.distplot(store_spend[col_name], ax=ax[i])"
   ]
  },
  {
   "cell_type": "markdown",
   "metadata": {},
   "source": [
    "Yes, we could spend time to make this prettier, but that's not what we're after."
   ]
  },
  {
   "cell_type": "markdown",
   "metadata": {},
   "source": [
    "### 3. Split into training and test\n",
    "First, separate the response and the features into their own NumPy arrays."
   ]
  },
  {
   "cell_type": "code",
   "execution_count": 4,
   "metadata": {
    "collapsed": false
   },
   "outputs": [],
   "source": [
    "from sklearn.model_selection import train_test_split\n",
    "# Separate response from features\n",
    "X = store_spend[['APR_SPEND', 'MAY_SPEND']]\n",
    "y = store_spend['JUNE_SPEND']\n",
    "# Split into training ang test\n",
    "X_train, X_test, y_train, y_test = train_test_split(X, y)"
   ]
  },
  {
   "cell_type": "markdown",
   "metadata": {},
   "source": [
    "### 4. Clean and Remove outliers\n",
    "We'll use a method called Isolation Forest to find outliers."
   ]
  },
  {
   "cell_type": "code",
   "execution_count": 5,
   "metadata": {
    "collapsed": false
   },
   "outputs": [
    {
     "name": "stderr",
     "output_type": "stream",
     "text": [
      "/opt/anaconda/2.7/lib/python2.7/site-packages/sklearn/ensemble/iforest.py:184: UserWarning: max_samples (100) is greater than the total number of samples (81). max_samples will be set to n_samples for estimation.\n",
      "  % (self.max_samples, n_samples))\n"
     ]
    },
    {
     "data": {
      "text/plain": [
       "array([-0.0429329 ,  0.08679814,  0.08933855,  0.10421153,  0.08954619,\n",
       "        0.07757447, -0.1766574 ,  0.08024791,  0.09192089,  0.03607262,\n",
       "        0.09067309,  0.08547637,  0.10261635, -0.05385559,  0.02320795,\n",
       "        0.11012731, -0.09829139,  0.03843075,  0.03350832,  0.02115298,\n",
       "        0.093994  ,  0.0301351 ,  0.04115635,  0.02516915,  0.07043483,\n",
       "       -0.20061712,  0.07632863,  0.073279  ,  0.07503085,  0.01501386,\n",
       "        0.04013471,  0.00030202,  0.08473557,  0.0802262 ,  0.1026052 ,\n",
       "        0.06785023,  0.10015544,  0.03854869,  0.09088828,  0.10306483,\n",
       "        0.03886332,  0.07009797,  0.06606909,  0.08066967,  0.10924185,\n",
       "        0.03239173,  0.06881967,  0.07170266,  0.11103932,  0.08192542])"
      ]
     },
     "execution_count": 5,
     "metadata": {},
     "output_type": "execute_result"
    }
   ],
   "source": [
    "from sklearn.ensemble import IsolationForest\n",
    "\n",
    "isolation_forest = IsolationForest(max_samples=100, random_state=8451)\n",
    "iso_fit = isolation_forest.fit(X_train)\n",
    "# Get outlier ratings for all of the points in the training data\n",
    "outlier_ratings = iso_fit.decision_function(X_train)\n",
    "# Take a look at the first 50 outlier ratings\n",
    "outlier_ratings[:50]"
   ]
  },
  {
   "cell_type": "markdown",
   "metadata": {},
   "source": [
    "Plot the outlier ratings to see if there is an obvious cutoff (lower scores mean more likely to be an outlier)."
   ]
  },
  {
   "cell_type": "code",
   "execution_count": 6,
   "metadata": {
    "collapsed": false
   },
   "outputs": [
    {
     "data": {
      "text/plain": [
       "<matplotlib.axes._subplots.AxesSubplot at 0x7f3f686bab10>"
      ]
     },
     "execution_count": 6,
     "metadata": {},
     "output_type": "execute_result"
    },
    {
     "data": {
      "image/png": "[encoded data removed]",
      "text/plain": [
       "<matplotlib.figure.Figure at 0x7f3f69d819d0>"
      ]
     },
     "metadata": {},
     "output_type": "display_data"
    }
   ],
   "source": [
    "sns.distplot(outlier_ratings)"
   ]
  },
  {
   "cell_type": "markdown",
   "metadata": {},
   "source": [
    "Let's cut off at -0.10; it looks like there's a gap there. Remove rows that meet this outlier condition."
   ]
  },
  {
   "cell_type": "code",
   "execution_count": 7,
   "metadata": {
    "collapsed": false
   },
   "outputs": [
    {
     "name": "stdout",
     "output_type": "stream",
     "text": [
      "X_train shape: (77, 2)\n",
      "y_train shape: (77,)\n"
     ]
    }
   ],
   "source": [
    "outlier_filter = (outlier_ratings <= -.1)\n",
    "X_train = X_train[~outlier_filter]\n",
    "y_train = y_train[~outlier_filter]\n",
    "print('X_train shape: %s' % str(X_train.shape))\n",
    "print('y_train shape: %s' % str(y_train.shape))"
   ]
  },
  {
   "cell_type": "markdown",
   "metadata": {},
   "source": [
    "### Train a model.\n",
    "For the sake of simplicity, let's just do a linear regression."
   ]
  },
  {
   "cell_type": "code",
   "execution_count": 8,
   "metadata": {
    "collapsed": false
   },
   "outputs": [
    {
     "name": "stdout",
     "output_type": "stream",
     "text": [
      "Coef: [-0.21056238  1.11991531]\n",
      "Intercept: 105095.701818\n"
     ]
    }
   ],
   "source": [
    "from sklearn.linear_model import LinearRegression\n",
    "lin_reg = LinearRegression()\n",
    "model = lin_reg.fit(X=X_train, y=y_train)\n",
    "print('Coef: %s' % str(model.coef_))\n",
    "print('Intercept: %s' % str(model.intercept_))"
   ]
  },
  {
   "cell_type": "markdown",
   "metadata": {},
   "source": [
    "That was easy. What's the training MSE?"
   ]
  },
  {
   "cell_type": "code",
   "execution_count": 9,
   "metadata": {
    "collapsed": false
   },
   "outputs": [
    {
     "data": {
      "text/plain": [
       "17717121120.230175"
      ]
     },
     "execution_count": 9,
     "metadata": {},
     "output_type": "execute_result"
    }
   ],
   "source": [
    "from sklearn.metrics import mean_squared_error\n",
    "y_pred_train = model.predict(X_train)\n",
    "mean_squared_error(y_train, y_pred_train)"
   ]
  },
  {
   "cell_type": "markdown",
   "metadata": {},
   "source": [
    "### Test the model.\n",
    "First, make predictions."
   ]
  },
  {
   "cell_type": "code",
   "execution_count": 10,
   "metadata": {
    "collapsed": true
   },
   "outputs": [],
   "source": [
    "y_pred_test = model.predict(X_test)"
   ]
  },
  {
   "cell_type": "markdown",
   "metadata": {},
   "source": [
    "Now see how good they are."
   ]
  },
  {
   "cell_type": "code",
   "execution_count": 11,
   "metadata": {
    "collapsed": false
   },
   "outputs": [
    {
     "data": {
      "text/plain": [
       "9858597161.5873394"
      ]
     },
     "execution_count": 11,
     "metadata": {},
     "output_type": "execute_result"
    }
   ],
   "source": [
    "mean_squared_error(y_test, y_pred_test)"
   ]
  },
  {
   "cell_type": "markdown",
   "metadata": {},
   "source": [
    "### Export the model.\n",
    "Let's just \"pickle\" the model and save it. Pickling saves Python objects in files, so you can reload them in a later session."
   ]
  },
  {
   "cell_type": "code",
   "execution_count": 12,
   "metadata": {
    "collapsed": false
   },
   "outputs": [],
   "source": [
    "import pickle\n",
    "pickle.dump(model, file=open('my_model.pickle', 'w'))"
   ]
  }
 ],
 "metadata": {
  "kernelspec": {
   "display_name": "Python [default]",
   "language": "python",
   "name": "python2"
  },
  "language_info": {
   "codemirror_mode": {
    "name": "ipython",
    "version": 2
   },
   "file_extension": ".py",
   "mimetype": "text/x-python",
   "name": "python",
   "nbconvert_exporter": "python",
   "pygments_lexer": "ipython2",
   "version": "2.7.13"
  }
 },
 "nbformat": 4,
 "nbformat_minor": 2
}

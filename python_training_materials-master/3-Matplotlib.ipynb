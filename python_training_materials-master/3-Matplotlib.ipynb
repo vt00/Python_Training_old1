{
 "cells": [
  {
   "cell_type": "markdown",
   "metadata": {},
   "source": [
    "# Python Training"
   ]
  },
  {
   "cell_type": "markdown",
   "metadata": {},
   "source": [
    "Welcome to Python training at 84.51$^\\circ$! The tutorial is in 6 parts: <br>\n",
    "   >  Python Basics<br>\n",
    "    > Numpy<br>\n",
    "    > Matplotlib<br>\n",
    "   > Pandas<br>\n",
    "   > 84.51$^\\circ$ Specific<br>\n",
    "   > Small case study<br>"
   ]
  },
  {
   "cell_type": "markdown",
   "metadata": {},
   "source": [
    "By the end, you'll hopefully have a good enough understanding of Python to get working on your own projects"
   ]
  },
  {
   "cell_type": "markdown",
   "metadata": {},
   "source": [
    "## Matplotlib"
   ]
  },
  {
   "cell_type": "markdown",
   "metadata": {},
   "source": [
    "Matplotlib is an important package in terms of creating graphics and plotting. Specifically, the pyplot module inside of matplotlib is used and imported as following:"
   ]
  },
  {
   "cell_type": "code",
   "execution_count": null,
   "metadata": {
    "collapsed": true
   },
   "outputs": [],
   "source": [
    "#only pulling in 'pyplot' module, not whole package matplotlib\n",
    "import matplotlib.pyplot as plt\n",
    "#This next line only needs to be done if you are in a jupyter notebook like this one\n",
    "%matplotlib inline"
   ]
  },
  {
   "cell_type": "markdown",
   "metadata": {},
   "source": [
    "Much of matplotlib's pyplot module's documentation can be found here: https://matplotlib.org/api/pyplot_api.html. I will walk through some basics of plotting in this notebook that you might find useful. \n",
    "\n",
    "**Note: Since we are in a jupyter notebook, the plots show up immediately. Normally, however, you would need to write `plt.show()` after a plot for it to show up.**\n",
    "\n",
    "To begin, `plt.plot` is the most common function used and does exactly what you would hope with it; plots. There are two common ways to do this. First, you can just give the y values. In this case, then, the x values are just the indices/positions of the numbers. In the example below, the x values are 0,1,2, while the y values are what are passed in. "
   ]
  },
  {
   "cell_type": "code",
   "execution_count": null,
   "metadata": {
    "collapsed": true
   },
   "outputs": [],
   "source": [
    "plt.plot([1,2,4])"
   ]
  },
  {
   "cell_type": "markdown",
   "metadata": {},
   "source": [
    "You can also pass in both x values and y values, such as done below. "
   ]
  },
  {
   "cell_type": "code",
   "execution_count": null,
   "metadata": {
    "collapsed": true
   },
   "outputs": [],
   "source": [
    "arr = np.arange(1,100,2)\n",
    "log = np.log(arr)\n",
    "plt.plot(arr,log)"
   ]
  },
  {
   "cell_type": "markdown",
   "metadata": {},
   "source": [
    "Scatter plots in matplotlib are also easy to do, with the `scatter` method. "
   ]
  },
  {
   "cell_type": "code",
   "execution_count": null,
   "metadata": {
    "collapsed": true
   },
   "outputs": [],
   "source": [
    "plt.scatter(arr,log)"
   ]
  },
  {
   "cell_type": "markdown",
   "metadata": {},
   "source": [
    "By passing in multiple x,y pairs, you can also plot multiple lines onto the same graph. "
   ]
  },
  {
   "cell_type": "code",
   "execution_count": null,
   "metadata": {
    "collapsed": true
   },
   "outputs": [],
   "source": [
    "plt.plot(arr,log,arr,arr)"
   ]
  },
  {
   "cell_type": "markdown",
   "metadata": {},
   "source": [
    "The last part of plot we will discuss is the bar plot. In this one, we will also introduce some functions which can help annotate your graph even further for clarity and best practice. "
   ]
  },
  {
   "cell_type": "code",
   "execution_count": null,
   "metadata": {
    "collapsed": true
   },
   "outputs": [],
   "source": [
    "objects = ('Milk', 'Eggs', 'Cereal', 'Toothpaste', 'Gum', 'Mouthwash')\n",
    "#If you pass in one argument to np.arange, it's the exact same as the range function from earlier\n",
    "y_pos = np.arange(len(objects))\n",
    "performance = [10,8,6,4,2,1]\n",
    "plt.bar(y_pos, performance, align='center')\n",
    "#This changes the ticks on the bottom of the plot to be the objects rather than the numbers in y_pos\n",
    "plt.xticks(y_pos, objects)\n",
    "plt.xlabel('Products')\n",
    "plt.ylabel('Spend')\n",
    "plt.title('Spend of Products')"
   ]
  },
  {
   "cell_type": "markdown",
   "metadata": {},
   "source": [
    "Matplotlib, much like ggplot in R, has a large, extensive gallery of functions and arguments that can help perfect a graph and make it to your liking -- from changing colors to shapes in scatter plots, it is just a matter of looking for it online. There is a lot of support out there for matplotlib (and python as a whole). "
   ]
  }
 ],
 "metadata": {
  "anaconda-cloud": {},
  "kernelspec": {
   "display_name": "Python [default]",
   "language": "python",
   "name": "python2"
  },
  "language_info": {
   "codemirror_mode": {
    "name": "ipython",
    "version": 2
   },
   "file_extension": ".py",
   "mimetype": "text/x-python",
   "name": "python",
   "nbconvert_exporter": "python",
   "pygments_lexer": "ipython2",
   "version": "2.7.13"
  }
 },
 "nbformat": 4,
 "nbformat_minor": 1
}

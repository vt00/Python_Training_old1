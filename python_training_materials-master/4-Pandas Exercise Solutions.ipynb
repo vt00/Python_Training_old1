{
 "cells": [
  {
   "cell_type": "markdown",
   "metadata": {},
   "source": [
    "# Python Training"
   ]
  },
  {
   "cell_type": "markdown",
   "metadata": {},
   "source": [
    "Welcome to Python training at 84.51$^\\circ$! The tutorial is in 6 parts: <br>\n",
    "   >  Python Basics<br>\n",
    "    > Numpy<br>\n",
    "    > Matplotlib<br>\n",
    "   > Pandas<br>\n",
    "   > 84.51$^\\circ$ Specific<br>\n",
    "   > Small case study<br>"
   ]
  },
  {
   "cell_type": "markdown",
   "metadata": {},
   "source": [
    "By the end, you'll hopefully have a good enough understanding of Python to get working on your own projects"
   ]
  },
  {
   "cell_type": "markdown",
   "metadata": {},
   "source": [
    "# Pandas Exercise Solutions"
   ]
  },
  {
   "cell_type": "markdown",
   "metadata": {},
   "source": [
    "### 1. Create a random 100x3 Numpy array. Convert it into a Pandas DataFrame. Label the columns 'spend', 'units', 'visits'. Save this data as a CSV named 'python_kpis.csv' in your home directory."
   ]
  },
  {
   "cell_type": "code",
   "execution_count": null,
   "metadata": {
    "collapsed": false
   },
   "outputs": [],
   "source": [
    "import numpy as np\n",
    "import pandas as pd\n",
    "import random\n",
    "\n",
    "kpis = np.random.random((100,3))\n",
    "kpis = pd.DataFrame(kpis)\n",
    "kpis.columns = ['spend', 'units', 'visits']\n",
    "# I like to explicitly specify the separator, since I often use both pipes and commas.\n",
    "# I also prefer to disable the index if there isn't any useful information in it (like here).\n",
    "kpis.to_csv('~/python_kpis.csv', index=False, sep=',')\n",
    "kpis"
   ]
  },
  {
   "cell_type": "markdown",
   "metadata": {},
   "source": [
    "### 2. Reopen python_kpis.csv from question 1. Add a fourth column, 'city', and randomly assign each row a value from 'Cincinnati', 'Columbus', 'Cleveland', 'Dayton'."
   ]
  },
  {
   "cell_type": "code",
   "execution_count": null,
   "metadata": {
    "collapsed": false
   },
   "outputs": [],
   "source": [
    "kpis = pd.read_csv('~/python_kpis.csv')\n",
    "# Create a list, the same length as the kpis DataFrame, with the city values randomly chosen.\n",
    "cities = ['Cincinnati', 'Columbus', 'Cleveland', 'Dayton']\n",
    "city_col = np.random.choice(cities, size=(len(kpis.index)))\n",
    "# Assign this list to be a new column in kpis\n",
    "kpis['city'] = city_col\n",
    "kpis"
   ]
  },
  {
   "cell_type": "markdown",
   "metadata": {},
   "source": [
    "### 3. Add another column, 'hshd'. Set that column to the row's index plus 1,000,000. So the first household would be 1000000, the second 1000001, etc."
   ]
  },
  {
   "cell_type": "code",
   "execution_count": null,
   "metadata": {
    "collapsed": false
   },
   "outputs": [],
   "source": [
    "kpis['hshd'] = kpis.index + 1000000\n",
    "kpis"
   ]
  },
  {
   "cell_type": "markdown",
   "metadata": {},
   "source": [
    "### 4. Get the number of distinct households in each city (hint: use `group by`)."
   ]
  },
  {
   "cell_type": "code",
   "execution_count": null,
   "metadata": {
    "collapsed": false
   },
   "outputs": [],
   "source": [
    "hshds = kpis.groupby('city')['hshd'].nunique()\n",
    "print(hshds)"
   ]
  },
  {
   "cell_type": "markdown",
   "metadata": {},
   "source": [
    "### 5. Get the total spend by households whose numbers are divisible by 3 (hint: subset the data with a condition)."
   ]
  },
  {
   "cell_type": "code",
   "execution_count": null,
   "metadata": {
    "collapsed": false
   },
   "outputs": [],
   "source": [
    "my_subset = kpis[kpis['hshd'] % 3 == 0]\n",
    "total_spend = sum(my_subset['spend'])\n",
    "print(total_spend)"
   ]
  }
 ],
 "metadata": {
  "anaconda-cloud": {},
  "kernelspec": {
   "display_name": "Python [default]",
   "language": "python",
   "name": "python2"
  },
  "language_info": {
   "codemirror_mode": {
    "name": "ipython",
    "version": 2
   },
   "file_extension": ".py",
   "mimetype": "text/x-python",
   "name": "python",
   "nbconvert_exporter": "python",
   "pygments_lexer": "ipython2",
   "version": "2.7.13"
  }
 },
 "nbformat": 4,
 "nbformat_minor": 1
}

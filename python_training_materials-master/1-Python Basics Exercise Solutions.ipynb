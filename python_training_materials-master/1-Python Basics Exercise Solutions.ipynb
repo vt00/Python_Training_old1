{
 "cells": [
  {
   "cell_type": "markdown",
   "metadata": {},
   "source": [
    "# Python Training"
   ]
  },
  {
   "cell_type": "markdown",
   "metadata": {},
   "source": [
    "Welcome to Python training at 84.51$^\\circ$! The tutorial is in 6 parts: <br>\n",
    "   >  Python Basics<br>\n",
    "    > Numpy<br>\n",
    "    > Matplotlib<br>\n",
    "   > Pandas<br>\n",
    "   > 84.51$^\\circ$ Specific<br>\n",
    "   > Small case study<br>"
   ]
  },
  {
   "cell_type": "markdown",
   "metadata": {},
   "source": [
    "By the end, you'll hopefully have a good enough understanding of Python to get working on your own projects"
   ]
  },
  {
   "cell_type": "markdown",
   "metadata": {},
   "source": [
    "# Python Basics Exercise Solutions"
   ]
  },
  {
   "cell_type": "markdown",
   "metadata": {},
   "source": [
    "### 1. Fizzbuzz Problem"
   ]
  },
  {
   "cell_type": "code",
   "execution_count": 1,
   "metadata": {
    "collapsed": false
   },
   "outputs": [
    {
     "name": "stdout",
     "output_type": "stream",
     "text": [
      "1\n",
      "2\n",
      "Fizz\n",
      "4\n",
      "Buzz\n",
      "Fizz\n",
      "7\n",
      "8\n",
      "Fizz\n",
      "Buzz\n",
      "11\n",
      "Fizz\n",
      "13\n",
      "14\n",
      "Fizzbuzz\n",
      "16\n",
      "17\n",
      "Fizz\n",
      "19\n",
      "Buzz\n",
      "Fizz\n",
      "22\n",
      "23\n",
      "Fizz\n",
      "Buzz\n",
      "26\n",
      "Fizz\n",
      "28\n",
      "29\n",
      "Fizzbuzz\n",
      "31\n",
      "32\n",
      "Fizz\n",
      "34\n",
      "Buzz\n",
      "Fizz\n",
      "37\n",
      "38\n",
      "Fizz\n",
      "Buzz\n",
      "41\n",
      "Fizz\n",
      "43\n",
      "44\n",
      "Fizzbuzz\n",
      "46\n",
      "47\n",
      "Fizz\n",
      "49\n",
      "Buzz\n",
      "Fizz\n",
      "52\n",
      "53\n",
      "Fizz\n",
      "Buzz\n",
      "56\n",
      "Fizz\n",
      "58\n",
      "59\n",
      "Fizzbuzz\n",
      "61\n",
      "62\n",
      "Fizz\n",
      "64\n",
      "Buzz\n",
      "Fizz\n",
      "67\n",
      "68\n",
      "Fizz\n",
      "Buzz\n",
      "71\n",
      "Fizz\n",
      "73\n",
      "74\n",
      "Fizzbuzz\n",
      "76\n",
      "77\n",
      "Fizz\n",
      "79\n",
      "Buzz\n",
      "Fizz\n",
      "82\n",
      "83\n",
      "Fizz\n",
      "Buzz\n",
      "86\n",
      "Fizz\n",
      "88\n",
      "89\n",
      "Fizzbuzz\n",
      "91\n",
      "92\n",
      "Fizz\n",
      "94\n",
      "Buzz\n",
      "Fizz\n",
      "97\n",
      "98\n",
      "Fizz\n",
      "Buzz\n"
     ]
    }
   ],
   "source": [
    "for x in range(1, 101):\n",
    "    if (x % 3) == 0 and (x % 5) == 0:\n",
    "        print('Fizzbuzz')\n",
    "    elif (x % 3) == 0:\n",
    "        print('Fizz')\n",
    "    elif (x % 5) == 0:\n",
    "        print('Buzz')\n",
    "    else:\n",
    "        print(x)"
   ]
  },
  {
   "cell_type": "markdown",
   "metadata": {},
   "source": [
    "Notes:\n",
    "- `range(m, n)` generates integers starting at m and ending an n-1.\n",
    "- You can chain together as many `elif`s as you want in your `if` statements.\n",
    "- The modulus operator is really useful in many situations."
   ]
  },
  {
   "cell_type": "markdown",
   "metadata": {},
   "source": [
    "### 2. Listify"
   ]
  },
  {
   "cell_type": "code",
   "execution_count": 2,
   "metadata": {
    "collapsed": false
   },
   "outputs": [
    {
     "name": "stdout",
     "output_type": "stream",
     "text": [
      "[1, 4, 14]\n"
     ]
    }
   ],
   "source": [
    "# A simple method\n",
    "def listify(x):\n",
    "    result_list = []\n",
    "    for key in x:\n",
    "        value = x[key]\n",
    "        result_list.append(value)\n",
    "    return(result_list)\n",
    "\n",
    "print(listify({'a': 1, 'c': 4, 'ac': 14}))"
   ]
  },
  {
   "cell_type": "code",
   "execution_count": 4,
   "metadata": {
    "collapsed": false
   },
   "outputs": [
    {
     "name": "stdout",
     "output_type": "stream",
     "text": [
      "[1, 4, 14]\n"
     ]
    }
   ],
   "source": [
    "# More concise\n",
    "def listify(x):\n",
    "    result_list = [x[k] for k in x]\n",
    "    return(result_list)\n",
    "\n",
    "print(listify({'a': 1, 'c': 4, 'ac': 14}))"
   ]
  },
  {
   "cell_type": "code",
   "execution_count": 5,
   "metadata": {
    "collapsed": false
   },
   "outputs": [
    {
     "name": "stdout",
     "output_type": "stream",
     "text": [
      "[1, 4, 14]\n"
     ]
    }
   ],
   "source": [
    "# Even more concise...\n",
    "# This is probably trading off too much readability, so I wouldn't recommend it\n",
    "def listify(x):\n",
    "    return([x[key] for key in x])\n",
    "\n",
    "print(listify({'a': 1, 'c': 4, 'ac': 14}))"
   ]
  },
  {
   "cell_type": "markdown",
   "metadata": {},
   "source": [
    "Notes\n",
    "- An expression like `[x[key] for key in x]` is called a \"list comprehension\". It's basically a very compact, pythonic loop. The creators of Python liked it for its readability.\n",
    "    - The general structure is [*expresssion* for *iterator* in *iterable*], returning a list of all of the expressions evaluated.\n",
    "    - Dictionary comprehensions also exist: {*key_expression*: *value_expression* for *iterator* in *iterable*}\n",
    "    - These are both very useful and very common in the Python world.\n",
    "- The brevity-readability tradeoff is a real and commonly discussed issue. In general, most people agree that readability is much more important except in extreme cases where performance is critical. Try to always write well-commented, simple code."
   ]
  }
 ],
 "metadata": {
  "anaconda-cloud": {},
  "kernelspec": {
   "display_name": "Python [default]",
   "language": "python",
   "name": "python2"
  },
  "language_info": {
   "codemirror_mode": {
    "name": "ipython",
    "version": 2
   },
   "file_extension": ".py",
   "mimetype": "text/x-python",
   "name": "python",
   "nbconvert_exporter": "python",
   "pygments_lexer": "ipython2",
   "version": "2.7.13"
  }
 },
 "nbformat": 4,
 "nbformat_minor": 1
}

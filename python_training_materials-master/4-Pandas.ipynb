{
 "cells": [
  {
   "cell_type": "markdown",
   "metadata": {},
   "source": [
    "# Python Training"
   ]
  },
  {
   "cell_type": "markdown",
   "metadata": {},
   "source": [
    "Welcome to Python training at 84.51$^\\circ$! The tutorial is in 6 parts: <br>\n",
    "   >  Python Basics<br>\n",
    "    > Numpy<br>\n",
    "    > Matplotlib<br>\n",
    "   > Pandas<br>\n",
    "   > 84.51$^\\circ$ Specific<br>\n",
    "   > Small case study<br>"
   ]
  },
  {
   "cell_type": "markdown",
   "metadata": {},
   "source": [
    "By the end, you'll hopefully have a good enough understanding of Python to get working on your own projects"
   ]
  },
  {
   "cell_type": "markdown",
   "metadata": {},
   "source": [
    "# Pandas"
   ]
  },
  {
   "cell_type": "markdown",
   "metadata": {
    "collapsed": true
   },
   "source": [
    "Pandas is a package which is built by data analysts for data analysts. It is one of the most comprehensive and widely used packages for anyone who wants to be working with tables and dataframes. It can be imported as below:"
   ]
  },
  {
   "cell_type": "code",
   "execution_count": 18,
   "metadata": {
    "collapsed": true
   },
   "outputs": [],
   "source": [
    "import matplotlib.pyplot as plt\n",
    "%matplotlib inline\n",
    "import pandas as pd\n",
    "import numpy as np"
   ]
  },
  {
   "cell_type": "markdown",
   "metadata": {},
   "source": [
    "### Basics of a DataFrame"
   ]
  },
  {
   "cell_type": "markdown",
   "metadata": {},
   "source": [
    "A **DataFrame** can be made very easily by a lot of different objects. For example, passing in any sort of numpy array will create a DataFrame corresponding to that array. You can also pass in a dictionary of columns, where the key is the column name and the values are all things that are (or can be converted to) a datatype called a **series**, the pandas equivalent of an array. The two ways of creating DataFrames are shown below. "
   ]
  },
  {
   "cell_type": "code",
   "execution_count": 5,
   "metadata": {
    "collapsed": false
   },
   "outputs": [
    {
     "data": {
      "text/html": [
       "<div>\n",
       "<table border=\"1\" class=\"dataframe\">\n",
       "  <thead>\n",
       "    <tr style=\"text-align: right;\">\n",
       "      <th></th>\n",
       "      <th>First</th>\n",
       "      <th>Second</th>\n",
       "      <th>Third</th>\n",
       "    </tr>\n",
       "  </thead>\n",
       "  <tbody>\n",
       "    <tr>\n",
       "      <th>0</th>\n",
       "      <td>0.272423</td>\n",
       "      <td>-1.522717</td>\n",
       "      <td>0.945973</td>\n",
       "    </tr>\n",
       "    <tr>\n",
       "      <th>1</th>\n",
       "      <td>-0.825258</td>\n",
       "      <td>-0.126072</td>\n",
       "      <td>-0.080812</td>\n",
       "    </tr>\n",
       "  </tbody>\n",
       "</table>\n",
       "</div>"
      ],
      "text/plain": [
       "      First    Second     Third\n",
       "0  0.272423 -1.522717  0.945973\n",
       "1 -0.825258 -0.126072 -0.080812"
      ]
     },
     "execution_count": 5,
     "metadata": {},
     "output_type": "execute_result"
    }
   ],
   "source": [
    "pd.DataFrame(np.random.randn(2,3), columns=(\"First\", \"Second\", \"Third\"))"
   ]
  },
  {
   "cell_type": "code",
   "execution_count": 6,
   "metadata": {
    "collapsed": false
   },
   "outputs": [
    {
     "data": {
      "text/html": [
       "<div>\n",
       "<table border=\"1\" class=\"dataframe\">\n",
       "  <thead>\n",
       "    <tr style=\"text-align: right;\">\n",
       "      <th></th>\n",
       "      <th>First</th>\n",
       "      <th>Fourth</th>\n",
       "      <th>Second</th>\n",
       "      <th>Third</th>\n",
       "    </tr>\n",
       "  </thead>\n",
       "  <tbody>\n",
       "    <tr>\n",
       "      <th>0</th>\n",
       "      <td>1</td>\n",
       "      <td>2017-04-30</td>\n",
       "      <td>NaN</td>\n",
       "      <td>1.0</td>\n",
       "    </tr>\n",
       "    <tr>\n",
       "      <th>1</th>\n",
       "      <td>2</td>\n",
       "      <td>2017-05-31</td>\n",
       "      <td>10.0</td>\n",
       "      <td>1.0</td>\n",
       "    </tr>\n",
       "    <tr>\n",
       "      <th>2</th>\n",
       "      <td>3</td>\n",
       "      <td>2017-06-30</td>\n",
       "      <td>12.0</td>\n",
       "      <td>1.0</td>\n",
       "    </tr>\n",
       "    <tr>\n",
       "      <th>3</th>\n",
       "      <td>4</td>\n",
       "      <td>2017-07-31</td>\n",
       "      <td>7.0</td>\n",
       "      <td>1.0</td>\n",
       "    </tr>\n",
       "  </tbody>\n",
       "</table>\n",
       "</div>"
      ],
      "text/plain": [
       "   First     Fourth  Second  Third\n",
       "0      1 2017-04-30     NaN    1.0\n",
       "1      2 2017-05-31    10.0    1.0\n",
       "2      3 2017-06-30    12.0    1.0\n",
       "3      4 2017-07-31     7.0    1.0"
      ]
     },
     "execution_count": 6,
     "metadata": {},
     "output_type": "execute_result"
    }
   ],
   "source": [
    "pd.DataFrame({'First': np.array([1,2,3,4]),\n",
    "             'Second': pd.Series([np.nan,10,12,7]), \n",
    "             'Third': 1.,\n",
    "             'Fourth': pd.date_range('20170401', periods=4, freq='m')})"
   ]
  },
  {
   "cell_type": "markdown",
   "metadata": {},
   "source": [
    "In the one above, you can also see a new function called `pd.date_range`, which is a nice if your data in each row is a different point in time. You can index your table's rows as a date range as shown below: "
   ]
  },
  {
   "cell_type": "code",
   "execution_count": 11,
   "metadata": {
    "collapsed": false
   },
   "outputs": [
    {
     "data": {
      "text/html": [
       "<div>\n",
       "<table border=\"1\" class=\"dataframe\">\n",
       "  <thead>\n",
       "    <tr style=\"text-align: right;\">\n",
       "      <th></th>\n",
       "      <th>First</th>\n",
       "      <th>Second</th>\n",
       "      <th>Third</th>\n",
       "    </tr>\n",
       "  </thead>\n",
       "  <tbody>\n",
       "    <tr>\n",
       "      <th>2017-04-30</th>\n",
       "      <td>0.394067</td>\n",
       "      <td>0.540820</td>\n",
       "      <td>1.063477</td>\n",
       "    </tr>\n",
       "    <tr>\n",
       "      <th>2017-05-31</th>\n",
       "      <td>0.289224</td>\n",
       "      <td>0.283062</td>\n",
       "      <td>-0.419476</td>\n",
       "    </tr>\n",
       "    <tr>\n",
       "      <th>2017-06-30</th>\n",
       "      <td>1.636287</td>\n",
       "      <td>-0.176349</td>\n",
       "      <td>-0.626471</td>\n",
       "    </tr>\n",
       "    <tr>\n",
       "      <th>2017-07-31</th>\n",
       "      <td>0.559219</td>\n",
       "      <td>-0.297329</td>\n",
       "      <td>-0.777106</td>\n",
       "    </tr>\n",
       "  </tbody>\n",
       "</table>\n",
       "</div>"
      ],
      "text/plain": [
       "               First    Second     Third\n",
       "2017-04-30  0.394067  0.540820  1.063477\n",
       "2017-05-31  0.289224  0.283062 -0.419476\n",
       "2017-06-30  1.636287 -0.176349 -0.626471\n",
       "2017-07-31  0.559219 -0.297329 -0.777106"
      ]
     },
     "execution_count": 11,
     "metadata": {},
     "output_type": "execute_result"
    }
   ],
   "source": [
    "df = pd.DataFrame(np.random.randn(4,3), columns=(\"First\", \"Second\", \"Third\"), index=pd.date_range('20170401', periods=4, freq='m'))\n",
    "df"
   ]
  },
  {
   "cell_type": "markdown",
   "metadata": {},
   "source": [
    "Here are some common functions used to view some more information and play around with your dataframe: \n",
    " * `df.head()` and `df.tail()` get the top 5/last 5 rows. You can also pass in any number as an argument\n",
    " * `df.index` displays the indices, for example, the dates in the dataframe above\n",
    " * `df.columns` returns the columns of your dataframe\n",
    " * `df.values` gives you an array of the values of your table\n",
    " * `df.T` transposes the dataframe\n",
    " * `df.sort_values(by=COLNAME)` sorts your datafraome by a column name provided\n",
    " * `df.describe()` provides a summary of your data"
   ]
  },
  {
   "cell_type": "markdown",
   "metadata": {},
   "source": [
    "### Accessing a DataFrame"
   ]
  },
  {
   "cell_type": "markdown",
   "metadata": {},
   "source": [
    "There are a few ways to select certain rows/column in a dataframe. \n",
    "* For selecting a certain column, you can use the [] syntax, for example, `df['First']`\n",
    "* For slicing and selecting certain rows by label, you can also use the [] syntax as you would with a list, but you must reference *df.loc* to show you want rows instead of columns: `df.loc[1:3]`\n",
    "* For selecting by position in either rows or columns, use `df.iloc` instead of `df.loc` like the examples below"
   ]
  },
  {
   "cell_type": "code",
   "execution_count": null,
   "metadata": {
    "collapsed": false
   },
   "outputs": [],
   "source": [
    "#selecting a specific column\n",
    "df['First']\n",
    "#selecting some subet of rows\n",
    "df['20170430':'20170630']\n",
    "#select by a certain row\n",
    "df.loc['20170430']\n",
    "#select by rows AND columns (use : if you want all of a dimension)\n",
    "df.loc[:,'First']\n",
    "df.loc['20170430':'20170730', ['First', 'Third']]\n",
    "#selecting a cell value via labels\n",
    "df.loc['20170430', 'Third']\n",
    "#selecting a row by its position\n",
    "df.iloc[0]\n",
    "#selecting by rows AND columns by position\n",
    "df.iloc[1:3, 0:2]\n",
    "#selecting a cell via scalars\n",
    "df.iat[0,2]"
   ]
  },
  {
   "cell_type": "markdown",
   "metadata": {},
   "source": [
    "### Manipulating DataFrames for Information"
   ]
  },
  {
   "cell_type": "markdown",
   "metadata": {
    "collapsed": true
   },
   "source": [
    "DataFrames can also easily be manipulated and it's very easy to pick out specific rows/columns that match criterion. For example, to pick out all rows where a certain column meets a criterion, you can do the following:"
   ]
  },
  {
   "cell_type": "code",
   "execution_count": null,
   "metadata": {
    "collapsed": false
   },
   "outputs": [],
   "source": [
    "df[df['First']>.5]"
   ]
  },
  {
   "cell_type": "markdown",
   "metadata": {
    "collapsed": true
   },
   "source": [
    "Let's look at how can we replace values in a dataframe using this boolean logic. The next block of code replaces all values that are lower than 0 in our original dataframe with `np.nan`. "
   ]
  },
  {
   "cell_type": "code",
   "execution_count": null,
   "metadata": {
    "collapsed": false
   },
   "outputs": [],
   "source": [
    "df[df<0] = np.nan\n",
    "df"
   ]
  },
  {
   "cell_type": "markdown",
   "metadata": {
    "collapsed": true
   },
   "source": [
    "Now our dataframe has NaNs in it, so how do we deal with this? Luckily, pandas has thought of this for us. We can drop rows with NaNs or fill them with a certain value very quickly. "
   ]
  },
  {
   "cell_type": "code",
   "execution_count": null,
   "metadata": {
    "collapsed": false
   },
   "outputs": [],
   "source": [
    "#Drop all rows with any NA values\n",
    "print(df.dropna(how='any'))\n",
    "#Fill the value 0 in for nans instead\n",
    "print(df.fillna(value=0))"
   ]
  },
  {
   "cell_type": "markdown",
   "metadata": {
    "collapsed": true
   },
   "source": [
    "Moving away from NaNs, for statistical purposes, we can take means over columns or over rows. "
   ]
  },
  {
   "cell_type": "code",
   "execution_count": 12,
   "metadata": {
    "collapsed": false
   },
   "outputs": [
    {
     "name": "stdout",
     "output_type": "stream",
     "text": [
      "First     0.719699\n",
      "Second    0.087551\n",
      "Third    -0.189894\n",
      "dtype: float64\n",
      "2017-04-30    0.666121\n",
      "2017-05-31    0.050937\n",
      "2017-06-30    0.277822\n",
      "2017-07-31   -0.171739\n",
      "Freq: M, dtype: float64\n"
     ]
    }
   ],
   "source": [
    "#over columns\n",
    "print(df.mean())\n",
    "#over rows\n",
    "print(df.mean(axis=1))"
   ]
  },
  {
   "cell_type": "markdown",
   "metadata": {
    "collapsed": true
   },
   "source": [
    "Applying functions over the columns of dataframes also lends itself easily with the `apply` method. "
   ]
  },
  {
   "cell_type": "code",
   "execution_count": 13,
   "metadata": {
    "collapsed": false
   },
   "outputs": [
    {
     "data": {
      "text/plain": [
       "First     2.878797\n",
       "Second    0.350204\n",
       "Third    -0.759576\n",
       "dtype: float64"
      ]
     },
     "execution_count": 13,
     "metadata": {},
     "output_type": "execute_result"
    }
   ],
   "source": [
    "df.apply(np.sum)"
   ]
  },
  {
   "cell_type": "markdown",
   "metadata": {
    "collapsed": true
   },
   "source": [
    "### Joining DataFrames"
   ]
  },
  {
   "cell_type": "markdown",
   "metadata": {
    "collapsed": true
   },
   "source": [
    "Let's say we actually had two different dataframes which we would like to put together to make one big one. We can use the `pd.concat` function for this. "
   ]
  },
  {
   "cell_type": "code",
   "execution_count": 14,
   "metadata": {
    "collapsed": false
   },
   "outputs": [
    {
     "name": "stdout",
     "output_type": "stream",
     "text": [
      "               First    Second     Third\n",
      "2017-04-30  0.394067  0.540820  1.063477\n",
      "2017-05-31  0.289224  0.283062 -0.419476\n",
      "2017-06-30  1.636287 -0.176349 -0.626471\n",
      "2017-07-31  0.559219 -0.297329 -0.777106\n"
     ]
    }
   ],
   "source": [
    "#Split DF into pieces\n",
    "piece1 = df[0:2]\n",
    "piece2 = df[2:]\n",
    "#put them back together\n",
    "print(pd.concat([piece1,piece2]))"
   ]
  },
  {
   "cell_type": "markdown",
   "metadata": {
    "collapsed": true
   },
   "source": [
    "Let's say, however, we want to join based on a common key (much like a join in SQL). `pdf.merge` takes in the two functions and also what column name to take in. "
   ]
  },
  {
   "cell_type": "code",
   "execution_count": 15,
   "metadata": {
    "collapsed": false
   },
   "outputs": [
    {
     "name": "stdout",
     "output_type": "stream",
     "text": [
      "  first  second  third\n",
      "0   red       3      4\n",
      "1  blue       4      3\n",
      "  first_x  second first_y  third\n",
      "0     red       3    blue      3\n",
      "1    blue       4     red      4\n"
     ]
    }
   ],
   "source": [
    "df1 = pd.DataFrame({'first':[\"red\", \"blue\"], 'second':[3,4]})\n",
    "df2 = pd.DataFrame({'first':[\"red\", \"blue\"], 'third':[4,3]})\n",
    "#merging on a common column\n",
    "print(pd.merge(df1,df2,on='first'))\n",
    "#merging on not the same column\n",
    "print(pd.merge(df1,df2,left_on='second', right_on='third'))"
   ]
  },
  {
   "cell_type": "markdown",
   "metadata": {
    "collapsed": true
   },
   "source": [
    "Lastly, you can easily append rows new rows to a dataframe, `df.append` does exactly that. "
   ]
  },
  {
   "cell_type": "code",
   "execution_count": 16,
   "metadata": {
    "collapsed": false
   },
   "outputs": [
    {
     "data": {
      "text/html": [
       "<div>\n",
       "<table border=\"1\" class=\"dataframe\">\n",
       "  <thead>\n",
       "    <tr style=\"text-align: right;\">\n",
       "      <th></th>\n",
       "      <th>First</th>\n",
       "      <th>Second</th>\n",
       "      <th>Third</th>\n",
       "    </tr>\n",
       "  </thead>\n",
       "  <tbody>\n",
       "    <tr>\n",
       "      <th>0</th>\n",
       "      <td>0.394067</td>\n",
       "      <td>0.540820</td>\n",
       "      <td>1.063477</td>\n",
       "    </tr>\n",
       "    <tr>\n",
       "      <th>1</th>\n",
       "      <td>0.289224</td>\n",
       "      <td>0.283062</td>\n",
       "      <td>-0.419476</td>\n",
       "    </tr>\n",
       "    <tr>\n",
       "      <th>2</th>\n",
       "      <td>1.636287</td>\n",
       "      <td>-0.176349</td>\n",
       "      <td>-0.626471</td>\n",
       "    </tr>\n",
       "    <tr>\n",
       "      <th>3</th>\n",
       "      <td>0.559219</td>\n",
       "      <td>-0.297329</td>\n",
       "      <td>-0.777106</td>\n",
       "    </tr>\n",
       "    <tr>\n",
       "      <th>4</th>\n",
       "      <td>1.636287</td>\n",
       "      <td>-0.176349</td>\n",
       "      <td>-0.626471</td>\n",
       "    </tr>\n",
       "  </tbody>\n",
       "</table>\n",
       "</div>"
      ],
      "text/plain": [
       "      First    Second     Third\n",
       "0  0.394067  0.540820  1.063477\n",
       "1  0.289224  0.283062 -0.419476\n",
       "2  1.636287 -0.176349 -0.626471\n",
       "3  0.559219 -0.297329 -0.777106\n",
       "4  1.636287 -0.176349 -0.626471"
      ]
     },
     "execution_count": 16,
     "metadata": {},
     "output_type": "execute_result"
    }
   ],
   "source": [
    "#copy over the third row as the last row again\n",
    "df.append(df.iloc[2], ignore_index=True)"
   ]
  },
  {
   "cell_type": "markdown",
   "metadata": {
    "collapsed": true
   },
   "source": [
    "### Plotting and Writing to File"
   ]
  },
  {
   "cell_type": "markdown",
   "metadata": {
    "collapsed": true
   },
   "source": [
    "Relevant specifically to 84.51$^\\circ$ a bit more, but pandas has very easy to use plotting and storage methods. "
   ]
  },
  {
   "cell_type": "markdown",
   "metadata": {},
   "source": [
    "`series.plot()` will plot a specific series that is given, but you can also plot the different columns of a whole dataframe as shown below. These are matplotlib plots so can be customized the same way as usual. "
   ]
  },
  {
   "cell_type": "code",
   "execution_count": 19,
   "metadata": {
    "collapsed": false
   },
   "outputs": [
    {
     "data": {
      "text/plain": [
       "<matplotlib.text.Text at 0x7fce3b2f7b10>"
      ]
     },
     "execution_count": 19,
     "metadata": {},
     "output_type": "execute_result"
    },
    {
     "data": {
      "image/png": "[encoded data removed]",
      "text/plain": [
       "<matplotlib.figure.Figure at 0x7fce68330950>"
      ]
     },
     "metadata": {},
     "output_type": "display_data"
    }
   ],
   "source": [
    "df = df.fillna(value=0)\n",
    "df = df.cumsum()\n",
    "df.plot()\n",
    "plt.xlabel('Month')"
   ]
  },
  {
   "cell_type": "markdown",
   "metadata": {
    "collapsed": true
   },
   "source": [
    "Next, `df.to_csv(filename.csv)` and `pd.read_csv(filname.csv)` are easy ways to read in and out data from CSV files. There is similar functions for reading in out and data to excel files and binary files that are just as easy. "
   ]
  },
  {
   "cell_type": "markdown",
   "metadata": {},
   "source": [
    "### Pandas Practice"
   ]
  },
  {
   "cell_type": "markdown",
   "metadata": {},
   "source": [
    "Below are some practice problems on some of the concepts talked about above. Googling is encouraged!\n",
    "1. Create a random 100x3 Numpy array. Convert it into a Pandas DataFrame. Label the columns 'spend', 'units', 'visits'. Save this data as a CSV named 'python_kpis.csv' in your home directory.\n",
    "2. Reopen python_kpis.csv from question 1. Add a fourth column, 'city', and randomly assign each row a value from 'Cincinnati', 'Columbus', 'Cleveland', 'Dayton'.\n",
    "3. Add another column, 'hshd'. Set that column to the row's index plus 1,000,000. So the first household would be 1000000, the second 1000001, etc.\n",
    "4. Get the number of distinct households in each city (hint: use `group by`).\n",
    "5. Get the total spend by households whose numbers are divisible by 3 (hint: subset the data with a condition)."
   ]
  },
  {
   "cell_type": "code",
   "execution_count": null,
   "metadata": {
    "collapsed": true
   },
   "outputs": [],
   "source": []
  }
 ],
 "metadata": {
  "anaconda-cloud": {},
  "kernelspec": {
   "display_name": "Python [default]",
   "language": "python",
   "name": "python2"
  },
  "language_info": {
   "codemirror_mode": {
    "name": "ipython",
    "version": 2
   },
   "file_extension": ".py",
   "mimetype": "text/x-python",
   "name": "python",
   "nbconvert_exporter": "python",
   "pygments_lexer": "ipython2",
   "version": "2.7.13"
  }
 },
 "nbformat": 4,
 "nbformat_minor": 1
}
